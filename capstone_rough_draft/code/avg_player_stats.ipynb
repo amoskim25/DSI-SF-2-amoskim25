{
 "cells": [
  {
   "cell_type": "code",
   "execution_count": 58,
   "metadata": {
    "collapsed": true
   },
   "outputs": [],
   "source": [
    "import matplotlib.pyplot as plt\n",
    "import numpy as np\n",
    "import pandas as pd\n",
    "import seaborn as sns\n",
    "import scipy.stats as stats\n",
    "\n",
    "plt.style.use('fivethirtyeight')\n",
    "%matplotlib inline\n",
    "%config InlineBackend.figure_format = 'retina'\n"
   ]
  },
  {
   "cell_type": "code",
   "execution_count": 16,
   "metadata": {
    "collapsed": false
   },
   "outputs": [
    {
     "name": "stdout",
     "output_type": "stream",
     "text": [
      "['1996-97', '1997-98', '1998-99', '1999-00', '2000-01', '2001-02', '2002-03', '2003-04', '2004-05', '2005-06', '2006-07', '2007-08', '2008-09', '2009-10', '2010-11', '2011-12', '2012-13', '2013-14', '2014-15', '2015-16']\n"
     ]
    }
   ],
   "source": [
    "start = [str(i) for i in range(1996, 2016)]\n",
    "end = [str(i) for i in range(97, 100)] + [str(i)[-2:] for i in range(100, 117)]\n",
    "zipped = [x +'-' + y for x, y in zip(start, end)]\n",
    "print zipped"
   ]
  },
  {
   "cell_type": "code",
   "execution_count": 17,
   "metadata": {
    "collapsed": false
   },
   "outputs": [
    {
     "data": {
      "text/plain": [
       "['df_1996-97',\n",
       " 'df_1997-98',\n",
       " 'df_1998-99',\n",
       " 'df_1999-00',\n",
       " 'df_2000-01',\n",
       " 'df_2001-02',\n",
       " 'df_2002-03',\n",
       " 'df_2003-04',\n",
       " 'df_2004-05',\n",
       " 'df_2005-06',\n",
       " 'df_2006-07',\n",
       " 'df_2007-08',\n",
       " 'df_2008-09',\n",
       " 'df_2009-10',\n",
       " 'df_2010-11',\n",
       " 'df_2011-12',\n",
       " 'df_2012-13',\n",
       " 'df_2013-14',\n",
       " 'df_2014-15',\n",
       " 'df_2015-16']"
      ]
     },
     "execution_count": 17,
     "metadata": {},
     "output_type": "execute_result"
    }
   ],
   "source": [
    "df_list = ['df_'+ year for year in zipped]\n",
    "df_list"
   ]
  },
  {
   "cell_type": "code",
   "execution_count": 32,
   "metadata": {
    "collapsed": false
   },
   "outputs": [],
   "source": [
    "df_1996 = pd.read_csv('/Users/amos/Desktop/DSI-SF-2-amoskim25/copy_capstone/datasets/player_avgs/player_average_1996-97.csv')\n",
    "df_1997 = pd.read_csv('/Users/amos/Desktop/DSI-SF-2-amoskim25/copy_capstone/datasets/player_avgs/player_average_1997-98.csv')\n",
    "# df_1996.drop(df_1996.columns[0], axis=1, inplace=True)\n",
    "# df_1997.drop(df_1997.columns[0], axis=1, inplace=True)"
   ]
  },
  {
   "cell_type": "code",
   "execution_count": 33,
   "metadata": {
    "collapsed": false
   },
   "outputs": [
    {
     "data": {
      "text/html": [
       "<div>\n",
       "<table border=\"1\" class=\"dataframe\">\n",
       "  <thead>\n",
       "    <tr style=\"text-align: right;\">\n",
       "      <th></th>\n",
       "      <th>Unnamed: 0</th>\n",
       "      <th>PLAYER_ID</th>\n",
       "      <th>PLAYER_NAME</th>\n",
       "      <th>TEAM_ID</th>\n",
       "      <th>TEAM_ABBREVIATION</th>\n",
       "      <th>AGE</th>\n",
       "      <th>GP</th>\n",
       "      <th>W</th>\n",
       "      <th>L</th>\n",
       "      <th>W_PCT</th>\n",
       "      <th>...</th>\n",
       "      <th>BLK</th>\n",
       "      <th>BLKA</th>\n",
       "      <th>PF</th>\n",
       "      <th>PFD</th>\n",
       "      <th>PTS</th>\n",
       "      <th>PLUS_MINUS</th>\n",
       "      <th>DD2</th>\n",
       "      <th>TD3</th>\n",
       "      <th>CFID</th>\n",
       "      <th>CFPARAMS</th>\n",
       "    </tr>\n",
       "  </thead>\n",
       "  <tbody>\n",
       "    <tr>\n",
       "      <th>0</th>\n",
       "      <td>0</td>\n",
       "      <td>471</td>\n",
       "      <td>NaN</td>\n",
       "      <td>NaN</td>\n",
       "      <td>NaN</td>\n",
       "      <td>NaN</td>\n",
       "      <td>41</td>\n",
       "      <td>13</td>\n",
       "      <td>28</td>\n",
       "      <td>0.317</td>\n",
       "      <td>...</td>\n",
       "      <td>0.3</td>\n",
       "      <td>0.4</td>\n",
       "      <td>1.5</td>\n",
       "      <td>0.0</td>\n",
       "      <td>3.4</td>\n",
       "      <td>-2.5</td>\n",
       "      <td>0</td>\n",
       "      <td>0</td>\n",
       "      <td>5</td>\n",
       "      <td>471,</td>\n",
       "    </tr>\n",
       "    <tr>\n",
       "      <th>1</th>\n",
       "      <td>1</td>\n",
       "      <td>920</td>\n",
       "      <td>A.C. Green</td>\n",
       "      <td>1.610613e+09</td>\n",
       "      <td>DAL</td>\n",
       "      <td>33.0</td>\n",
       "      <td>83</td>\n",
       "      <td>23</td>\n",
       "      <td>60</td>\n",
       "      <td>0.277</td>\n",
       "      <td>...</td>\n",
       "      <td>0.2</td>\n",
       "      <td>0.5</td>\n",
       "      <td>1.7</td>\n",
       "      <td>0.0</td>\n",
       "      <td>7.2</td>\n",
       "      <td>-4.2</td>\n",
       "      <td>16</td>\n",
       "      <td>0</td>\n",
       "      <td>5</td>\n",
       "      <td>920,1610612742</td>\n",
       "    </tr>\n",
       "    <tr>\n",
       "      <th>2</th>\n",
       "      <td>2</td>\n",
       "      <td>243</td>\n",
       "      <td>Aaron McKie</td>\n",
       "      <td>1.610613e+09</td>\n",
       "      <td>DET</td>\n",
       "      <td>24.0</td>\n",
       "      <td>83</td>\n",
       "      <td>48</td>\n",
       "      <td>35</td>\n",
       "      <td>0.578</td>\n",
       "      <td>...</td>\n",
       "      <td>0.3</td>\n",
       "      <td>0.4</td>\n",
       "      <td>1.5</td>\n",
       "      <td>0.0</td>\n",
       "      <td>5.2</td>\n",
       "      <td>1.6</td>\n",
       "      <td>1</td>\n",
       "      <td>0</td>\n",
       "      <td>5</td>\n",
       "      <td>243,1610612765</td>\n",
       "    </tr>\n",
       "    <tr>\n",
       "      <th>3</th>\n",
       "      <td>3</td>\n",
       "      <td>1425</td>\n",
       "      <td>Aaron Williams</td>\n",
       "      <td>1.610613e+09</td>\n",
       "      <td>VAN</td>\n",
       "      <td>25.0</td>\n",
       "      <td>33</td>\n",
       "      <td>4</td>\n",
       "      <td>29</td>\n",
       "      <td>0.121</td>\n",
       "      <td>...</td>\n",
       "      <td>0.9</td>\n",
       "      <td>0.2</td>\n",
       "      <td>2.0</td>\n",
       "      <td>0.0</td>\n",
       "      <td>6.2</td>\n",
       "      <td>-3.2</td>\n",
       "      <td>0</td>\n",
       "      <td>0</td>\n",
       "      <td>5</td>\n",
       "      <td>1425,1610612763</td>\n",
       "    </tr>\n",
       "    <tr>\n",
       "      <th>4</th>\n",
       "      <td>4</td>\n",
       "      <td>768</td>\n",
       "      <td>Acie Earl</td>\n",
       "      <td>1.610613e+09</td>\n",
       "      <td>MIL</td>\n",
       "      <td>27.0</td>\n",
       "      <td>47</td>\n",
       "      <td>14</td>\n",
       "      <td>33</td>\n",
       "      <td>0.298</td>\n",
       "      <td>...</td>\n",
       "      <td>0.6</td>\n",
       "      <td>0.2</td>\n",
       "      <td>1.3</td>\n",
       "      <td>0.0</td>\n",
       "      <td>4.0</td>\n",
       "      <td>-1.3</td>\n",
       "      <td>0</td>\n",
       "      <td>0</td>\n",
       "      <td>5</td>\n",
       "      <td>768,1610612749</td>\n",
       "    </tr>\n",
       "  </tbody>\n",
       "</table>\n",
       "<p>5 rows × 36 columns</p>\n",
       "</div>"
      ],
      "text/plain": [
       "   Unnamed: 0  PLAYER_ID     PLAYER_NAME       TEAM_ID TEAM_ABBREVIATION  \\\n",
       "0           0        471             NaN           NaN               NaN   \n",
       "1           1        920      A.C. Green  1.610613e+09               DAL   \n",
       "2           2        243     Aaron McKie  1.610613e+09               DET   \n",
       "3           3       1425  Aaron Williams  1.610613e+09               VAN   \n",
       "4           4        768       Acie Earl  1.610613e+09               MIL   \n",
       "\n",
       "    AGE  GP   W   L  W_PCT       ...         BLK  BLKA   PF  PFD  PTS  \\\n",
       "0   NaN  41  13  28  0.317       ...         0.3   0.4  1.5  0.0  3.4   \n",
       "1  33.0  83  23  60  0.277       ...         0.2   0.5  1.7  0.0  7.2   \n",
       "2  24.0  83  48  35  0.578       ...         0.3   0.4  1.5  0.0  5.2   \n",
       "3  25.0  33   4  29  0.121       ...         0.9   0.2  2.0  0.0  6.2   \n",
       "4  27.0  47  14  33  0.298       ...         0.6   0.2  1.3  0.0  4.0   \n",
       "\n",
       "   PLUS_MINUS  DD2  TD3  CFID         CFPARAMS  \n",
       "0        -2.5    0    0     5             471,  \n",
       "1        -4.2   16    0     5   920,1610612742  \n",
       "2         1.6    1    0     5   243,1610612765  \n",
       "3        -3.2    0    0     5  1425,1610612763  \n",
       "4        -1.3    0    0     5   768,1610612749  \n",
       "\n",
       "[5 rows x 36 columns]"
      ]
     },
     "execution_count": 33,
     "metadata": {},
     "output_type": "execute_result"
    }
   ],
   "source": [
    "df_1996.head()"
   ]
  },
  {
   "cell_type": "code",
   "execution_count": null,
   "metadata": {
    "collapsed": true
   },
   "outputs": [],
   "source": []
  },
  {
   "cell_type": "code",
   "execution_count": null,
   "metadata": {
    "collapsed": true
   },
   "outputs": [],
   "source": []
  },
  {
   "cell_type": "code",
   "execution_count": null,
   "metadata": {
    "collapsed": true
   },
   "outputs": [],
   "source": []
  },
  {
   "cell_type": "code",
   "execution_count": null,
   "metadata": {
    "collapsed": true
   },
   "outputs": [],
   "source": []
  },
  {
   "cell_type": "code",
   "execution_count": null,
   "metadata": {
    "collapsed": true
   },
   "outputs": [],
   "source": []
  },
  {
   "cell_type": "markdown",
   "metadata": {},
   "source": [
    "# Dropppable columns\n",
    " 'Unnamed: 0'\n",
    " 'DD2',\n",
    " 'TD3',\n",
    " 'CFID',\n",
    " 'CFPARAMS'\n"
   ]
  },
  {
   "cell_type": "code",
   "execution_count": 47,
   "metadata": {
    "collapsed": true
   },
   "outputs": [],
   "source": [
    "df_1996.dropna(axis=0,inplace=True)"
   ]
  },
  {
   "cell_type": "code",
   "execution_count": 44,
   "metadata": {
    "collapsed": false,
    "scrolled": true
   },
   "outputs": [
    {
     "name": "stdout",
     "output_type": "stream",
     "text": [
      "Unique values for column DD2:\n",
      "[ 0 16  1  2 19 32  3 44 33 20 12 15 11  9  5  4 23 37 29  8 41 31 22 10  6\n",
      " 27 14  7 28 43 17 36 13 21 24 30 34 18 47 25 45]\n",
      "============================================\n",
      "Unique values for column TD3:\n",
      "[ 0  4  2  1  3 13]\n",
      "============================================\n",
      "Unique values for column CFID:\n",
      "[5]\n",
      "============================================\n",
      "Unique values for column CFPARAMS:\n",
      "['471,' '920,1610612742' '243,1610612765' '1425,1610612763'\n",
      " '768,1610612749' '228,1610612762' '154,1610612755' '673,1610612737'\n",
      " '1059,1610612757' '275,1610612752' '947,1610612755' '297,1610612748'\n",
      " '175,1610612738' '1043,1610612753' '692,1610612744' '457,1610612749'\n",
      " '358,1610612753' '924,1610612743' '193,1610612766' '292,1610612737'\n",
      " '324,1610612763' '156,1610612762' '952,1610612738' '213,1610612754'\n",
      " '176,1610612760' '226,1610612739' '686,1610612743' '288,1610612749'\n",
      " '717,1610612757' '732,1610612764' '422,1610612759' '769,1610612744'\n",
      " '989,1610612756' '1112,1610612764' '104,1610612761' '82,1610612741'\n",
      " '182,1610612758' '902,1610612744' '183,1610612741' '898,1610612763'\n",
      " '448,1610612746' '682,1610612739' '310,1610612758' '184,1610612739'\n",
      " '38,1610612761' '699,1610612746' '85,1610612745' '1064,1610612754'\n",
      " '1136,1610612738' '967,1610612753' '258,1610612758' '216,1610612753'\n",
      " '240,1610612743' '1477,1610612748' '735,1610612763' '179,1610612743'\n",
      " '935,1610612762' '433,1610612752' '2,1610612747' '384,1610612764'\n",
      " '61,1610612759' '1063,1610612739' '435,1610612761' '76,1610612756'\n",
      " '787,1610612745' '279,1610612745' '891,1610612752' '293,1610612759'\n",
      " '369,1610612752' '685,1610612750' '713,1610612750' '164,1610612752'\n",
      " '201,1610612757' '423,1610612751' '1137,1610612752' '168,1610612739'\n",
      " '356,1610612762' '904,1610612744' '997,1610612763' '185,1610612764'\n",
      " '43,1610612764' '363,1610612737' '359,1610612749' '221,1610612755'\n",
      " '361,1610612757' '32,1610612761' '17,1610612745' '916,1610612747'\n",
      " '722,1610612758' '724,1610612759' '378,1610612760' '733,1610612749'\n",
      " '905,1610612754' '107,1610612743' '757,1610612761' '105,1610612748'\n",
      " '7,1610612753' '344,1610612738' '198,1610612739' '330,1610612756'\n",
      " '353,1610612753' '239,1610612746' '241,1610612737' '1032,1610612754'\n",
      " '764,1610612759' '710,1610612753' '133,1610612738' '766,1610612760'\n",
      " '116,1610612749' '1051,1610612750' '244,1610612738' '209,1610612766'\n",
      " '725,1610612753' '23,1610612741' '192,1610612753' '965,1610612747'\n",
      " '157,1610612742' '400,1610612753' '308,1610612737' '934,1610612755'\n",
      " '365,1610612754' '96,1610612760' '1070,1610612759' '1121,1610612756'\n",
      " '54,1610612741' '87,1610612737' '129,1610612738' '1122,1610612759'\n",
      " '931,1610612755' '690,1610612765' '140,1610612766' '1126,1610612761'\n",
      " '671,1610612737' '681,1610612739' '112,1610612757' '923,1610612744'\n",
      " '57,1610612761' '77,1610612755' '28,1610612750' '190,1610612758'\n",
      " '273,1610612754' '368,1610612746' '940,1610612761' '709,1610612742'\n",
      " '291,1610612748' '698,1610612745' '224,1610612747' '922,1610612747'\n",
      " '695,1610612737' '386,1610612749' '1120,1610612743' '771,1610612760'\n",
      " '1023,1610612745' '941,1610612757' '287,1610612763' '211,1610612763'\n",
      " '376,1610612751' '785,1610612743' '15,1610612746' '727,1610612760'\n",
      " '677,1610612738' '956,1610612754' '1065,1610612742' '911,1610612743'\n",
      " '1026,1610612751' '280,1610612744' '783,1610612738' '701,1610612755'\n",
      " '697,1610612754' '122,1610612742' '202,1610612748' '56,1610612760'\n",
      " '718,1610612757' '1093,1610612764' '248,1610612763' '45,1610612747'\n",
      " '678,1610612743' '786,1610612753' '49,1610612764' '779,1610612766'\n",
      " '299,1610612749' '255,1610612765' '3,1610612765' '246,1610612759'\n",
      " '21,1610612763' '1068,1610612742' '323,1610612762' '37,1610612760'\n",
      " '65,1610612738' '731,1610612762' '165,1610612745' '265,1610612764'\n",
      " '906,1610612754' '1080,1610612737' '1006,1610612752' '765,1610612760'\n",
      " '270,1610612753' '1024,1610612756' '73,1610612756' '458,1610612762'\n",
      " '93,1610612761' '1134,1610612748' '375,1610612757' '1096,1610612737'\n",
      " '917,1610612751' '147,1610612754' '469,1610612748' '381,1610612750'\n",
      " '1109,1610612748' '994,1610612759' '320,1610612742' '1114,1610612764'\n",
      " '679,1610612741' '467,1610612756' '987,1610612742' '420,1610612751'\n",
      " '81,1610612758' '204,1610612762' '976,1610612743' '979,1610612757'\n",
      " '706,1610612743' '760,1610612747' '966,1610612765' '711,1610612755'\n",
      " '754,1610612751' '29,1610612760' '1131,1610612749' '728,1610612743'\n",
      " '1429,1610612761' '1432,1610612759' '247,1610612765' '170,1610612751'\n",
      " '693,1610612744' '1086,1610612745' '341,1610612749' '180,1610612748'\n",
      " '1381,1610612761' '317,1610612752' '304,1610612762' '961,1610612752'\n",
      " '271,1610612749' '468,1610612737' '146,1610612741' '436,1610612764'\n",
      " '252,1610612762' '173,1610612748' '700,1610612749' '80,1610612737'\n",
      " '383,1610612751' '72,1610612757' '181,1610612743' '954,1610612751'\n",
      " '404,1610612746' '236,1610612751' '333,1610612758' '708,1610612750'\n",
      " '134,1610612756' '1089,1610612758' '788,1610612745' '234,1610612742'\n",
      " '977,1610612747' '703,1610612748' '111,1610612743' '78,1610612754'\n",
      " '441,1610612746' '913,1610612752' '1474,1610612747' '1125,1610612760'\n",
      " '84,1610612744' '734,1610612763' '195,1610612763' '283,1610612765'\n",
      " '1036,1610612765' '1380,1610612751' '684,1610612756' '953,1610612746'\n",
      " '31,1610612764' '691,1610612744' '919,1610612746' '26,1610612741'\n",
      " '446,1610612755' '51,1610612758' '990,1610612766' '907,1610612746'\n",
      " '992,1610612757' '948,1610612761' '53,1610612745' '1361,1610612755'\n",
      " '95,1610612756' '707,1610612755' '971,1610612755' '349,1610612754'\n",
      " '899,1610612744' '1110,1610612748' '770,1610612739' '729,1610612761'\n",
      " '982,1610612742' '55,1610612738' '672,1610612745' '900,1610612748'\n",
      " '761,1610612766' '1074,1610612745' '1099,1610612741' '511,1610612744'\n",
      " '262,1610612755' '688,1610612765' '714,1610612742' '1138,1610612738'\n",
      " '893,1610612741' '63,1610612758' '1479,1610612756' '782,1610612758'\n",
      " '348,1610612757' '42,1610612759' '983,1610612763' '302,1610612737'\n",
      " '177,1610612766' '1041,1610612738' '203,1610612760' '98,1610612753'\n",
      " '89,1610612747' '178,1610612758' '932,1610612761' '970,1610612745'\n",
      " '901,1610612765' '136,1610612748' '121,1610612752' '442,1610612738'\n",
      " '432,1610612763' '71,1610612746' '461,1610612761' '968,1610612737'\n",
      " '912,1610612766' '719,1610612765' '753,1610612741' '988,1610612745'\n",
      " '739,1610612757' '951,1610612749' '1077,1610612744' '1002,1610612739'\n",
      " '674,1610612750' '397,1610612754' '1073,1610612761' '199,1610612751'\n",
      " '364,1610612756' '777,1610612755' '316,1610612746' '296,1610612738'\n",
      " '328,1610612765' '894,1610612766' '22,1610612754' '109,1610612747'\n",
      " '123,1610612742' '305,1610612741' '438,1610612751' '393,1610612764'\n",
      " '915,1610612746' '166,1610612741' '938,1610612753' '964,1610612763'\n",
      " '1129,1610612757' '716,1610612757' '208,1610612751' '694,1610612745'\n",
      " '417,1610612750' '64,1610612760' '955,1610612742' '36,1610612743'\n",
      " '390,1610612742' '418,1610612752' '197,1610612744' '281,1610612755'\n",
      " '937,1610612741' '251,1610612759' '399,1610612747' '9,1610612745'\n",
      " '1000,1610612762' '1049,1610612750' '406,1610612747' '949,1610612763'\n",
      " '412,1610612761' '762,1610612742' '431,1610612760' '704,1610612761'\n",
      " '1035,1610612739' '428,1610612749' '278,1610612757' '351,1610612742'\n",
      " '914,1610612746' '1128,1610612762' '950,1610612750' '984,1610612738'\n",
      " '70,1610612741' '959,1610612756' '88,1610612760' '120,1610612737'\n",
      " '1478,1610612742' '1037,1610612750' '210,1610612739' '187,1610612760'\n",
      " '143,1610612746' '371,1610612765' '345,1610612750' '689,1610612765'\n",
      " '896,1610612748' '1118,1610612759' '100,1610612764' '103,1610612738'\n",
      " '957,1610612744' '1472,1610612766' '339,1610612750' '67,1610612743'\n",
      " '389,1610612741' '960,1610612766' '434,1610612756' '763,1610612751'\n",
      " '380,1610612766' '929,1610612745' '145,1610612764' '696,1610612754'\n",
      " '969,1610612747' '895,1610612737' '238,1610612739' '721,1610612758'\n",
      " '137,1610612759' '452,1610612749' '355,1610612743' '219,1610612759'\n",
      " '958,1610612739' '124,1610612766' '702,1610612748' '1005,1610612761'\n",
      " '962,1610612752' '47,1610612756' '445,1610612756' '781,1610612759'\n",
      " '335,1610612748' '416,1610612737' '1365,1610612751' '212,1610612751'\n",
      " '440,1610612761']\n",
      "============================================\n"
     ]
    }
   ],
   "source": [
    "for col in df_1996.columns[-4:]:\n",
    "    print \"Unique values for column %s:\" % col\n",
    "    print df_1996[col].unique()\n",
    "    print \"============================================\""
   ]
  },
  {
   "cell_type": "code",
   "execution_count": 53,
   "metadata": {
    "collapsed": false
   },
   "outputs": [
    {
     "data": {
      "text/plain": [
       "{'AGE': 'age',\n",
       " 'AST': 'ast',\n",
       " 'BLK': 'blk',\n",
       " 'BLKA': 'blka',\n",
       " 'CFID': 'cfid',\n",
       " 'CFPARAMS': 'cfparams',\n",
       " 'DD2': 'dd2',\n",
       " 'DREB': 'dreb',\n",
       " 'FG3A': 'fg3a',\n",
       " 'FG3M': 'fg3m',\n",
       " 'FG3_PCT': 'fg3_pct',\n",
       " 'FGA': 'fga',\n",
       " 'FGM': 'fgm',\n",
       " 'FG_PCT': 'fg_pct',\n",
       " 'FTA': 'fta',\n",
       " 'FTM': 'ftm',\n",
       " 'FT_PCT': 'ft_pct',\n",
       " 'GP': 'gp',\n",
       " 'L': 'l',\n",
       " 'MIN': 'min',\n",
       " 'OREB': 'oreb',\n",
       " 'PF': 'pf',\n",
       " 'PFD': 'pfd',\n",
       " 'PLAYER_ID': 'player_id',\n",
       " 'PLAYER_NAME': 'player_name',\n",
       " 'PLUS_MINUS': 'plus_minus',\n",
       " 'PTS': 'pts',\n",
       " 'REB': 'reb',\n",
       " 'STL': 'stl',\n",
       " 'TD3': 'td3',\n",
       " 'TEAM_ABBREVIATION': 'team_abbreviation',\n",
       " 'TEAM_ID': 'team_id',\n",
       " 'TOV': 'tov',\n",
       " 'Unnamed: 0': 'unnamed: 0',\n",
       " 'W': 'w',\n",
       " 'W_PCT': 'w_pct'}"
      ]
     },
     "execution_count": 53,
     "metadata": {},
     "output_type": "execute_result"
    }
   ],
   "source": [
    "lowered_columns = [i.lower() for i in df_1996.columns]\n",
    "col_dict = {}\n",
    "for index, col in enumerate(df_1996.columns):\n",
    "    col_dict[col] = lowered_columns[index]\n",
    "col_dict"
   ]
  },
  {
   "cell_type": "code",
   "execution_count": 54,
   "metadata": {
    "collapsed": false
   },
   "outputs": [
    {
     "data": {
      "text/html": [
       "<div>\n",
       "<table border=\"1\" class=\"dataframe\">\n",
       "  <thead>\n",
       "    <tr style=\"text-align: right;\">\n",
       "      <th></th>\n",
       "      <th>unnamed: 0</th>\n",
       "      <th>player_id</th>\n",
       "      <th>player_name</th>\n",
       "      <th>team_id</th>\n",
       "      <th>team_abbreviation</th>\n",
       "      <th>age</th>\n",
       "      <th>gp</th>\n",
       "      <th>w</th>\n",
       "      <th>l</th>\n",
       "      <th>w_pct</th>\n",
       "      <th>...</th>\n",
       "      <th>blk</th>\n",
       "      <th>blka</th>\n",
       "      <th>pf</th>\n",
       "      <th>pfd</th>\n",
       "      <th>pts</th>\n",
       "      <th>plus_minus</th>\n",
       "      <th>dd2</th>\n",
       "      <th>td3</th>\n",
       "      <th>cfid</th>\n",
       "      <th>cfparams</th>\n",
       "    </tr>\n",
       "  </thead>\n",
       "  <tbody>\n",
       "    <tr>\n",
       "      <th>1</th>\n",
       "      <td>1</td>\n",
       "      <td>920</td>\n",
       "      <td>A.C. Green</td>\n",
       "      <td>1.610613e+09</td>\n",
       "      <td>DAL</td>\n",
       "      <td>33.0</td>\n",
       "      <td>83</td>\n",
       "      <td>23</td>\n",
       "      <td>60</td>\n",
       "      <td>0.277</td>\n",
       "      <td>...</td>\n",
       "      <td>0.2</td>\n",
       "      <td>0.5</td>\n",
       "      <td>1.7</td>\n",
       "      <td>0.0</td>\n",
       "      <td>7.2</td>\n",
       "      <td>-4.2</td>\n",
       "      <td>16</td>\n",
       "      <td>0</td>\n",
       "      <td>5</td>\n",
       "      <td>920,1610612742</td>\n",
       "    </tr>\n",
       "    <tr>\n",
       "      <th>2</th>\n",
       "      <td>2</td>\n",
       "      <td>243</td>\n",
       "      <td>Aaron McKie</td>\n",
       "      <td>1.610613e+09</td>\n",
       "      <td>DET</td>\n",
       "      <td>24.0</td>\n",
       "      <td>83</td>\n",
       "      <td>48</td>\n",
       "      <td>35</td>\n",
       "      <td>0.578</td>\n",
       "      <td>...</td>\n",
       "      <td>0.3</td>\n",
       "      <td>0.4</td>\n",
       "      <td>1.5</td>\n",
       "      <td>0.0</td>\n",
       "      <td>5.2</td>\n",
       "      <td>1.6</td>\n",
       "      <td>1</td>\n",
       "      <td>0</td>\n",
       "      <td>5</td>\n",
       "      <td>243,1610612765</td>\n",
       "    </tr>\n",
       "    <tr>\n",
       "      <th>3</th>\n",
       "      <td>3</td>\n",
       "      <td>1425</td>\n",
       "      <td>Aaron Williams</td>\n",
       "      <td>1.610613e+09</td>\n",
       "      <td>VAN</td>\n",
       "      <td>25.0</td>\n",
       "      <td>33</td>\n",
       "      <td>4</td>\n",
       "      <td>29</td>\n",
       "      <td>0.121</td>\n",
       "      <td>...</td>\n",
       "      <td>0.9</td>\n",
       "      <td>0.2</td>\n",
       "      <td>2.0</td>\n",
       "      <td>0.0</td>\n",
       "      <td>6.2</td>\n",
       "      <td>-3.2</td>\n",
       "      <td>0</td>\n",
       "      <td>0</td>\n",
       "      <td>5</td>\n",
       "      <td>1425,1610612763</td>\n",
       "    </tr>\n",
       "    <tr>\n",
       "      <th>4</th>\n",
       "      <td>4</td>\n",
       "      <td>768</td>\n",
       "      <td>Acie Earl</td>\n",
       "      <td>1.610613e+09</td>\n",
       "      <td>MIL</td>\n",
       "      <td>27.0</td>\n",
       "      <td>47</td>\n",
       "      <td>14</td>\n",
       "      <td>33</td>\n",
       "      <td>0.298</td>\n",
       "      <td>...</td>\n",
       "      <td>0.6</td>\n",
       "      <td>0.2</td>\n",
       "      <td>1.3</td>\n",
       "      <td>0.0</td>\n",
       "      <td>4.0</td>\n",
       "      <td>-1.3</td>\n",
       "      <td>0</td>\n",
       "      <td>0</td>\n",
       "      <td>5</td>\n",
       "      <td>768,1610612749</td>\n",
       "    </tr>\n",
       "    <tr>\n",
       "      <th>5</th>\n",
       "      <td>5</td>\n",
       "      <td>228</td>\n",
       "      <td>Adam Keefe</td>\n",
       "      <td>1.610613e+09</td>\n",
       "      <td>UTA</td>\n",
       "      <td>27.0</td>\n",
       "      <td>62</td>\n",
       "      <td>48</td>\n",
       "      <td>14</td>\n",
       "      <td>0.774</td>\n",
       "      <td>...</td>\n",
       "      <td>0.2</td>\n",
       "      <td>0.2</td>\n",
       "      <td>1.5</td>\n",
       "      <td>0.0</td>\n",
       "      <td>3.8</td>\n",
       "      <td>2.0</td>\n",
       "      <td>1</td>\n",
       "      <td>0</td>\n",
       "      <td>5</td>\n",
       "      <td>228,1610612762</td>\n",
       "    </tr>\n",
       "  </tbody>\n",
       "</table>\n",
       "<p>5 rows × 36 columns</p>\n",
       "</div>"
      ],
      "text/plain": [
       "   unnamed: 0  player_id     player_name       team_id team_abbreviation  \\\n",
       "1           1        920      A.C. Green  1.610613e+09               DAL   \n",
       "2           2        243     Aaron McKie  1.610613e+09               DET   \n",
       "3           3       1425  Aaron Williams  1.610613e+09               VAN   \n",
       "4           4        768       Acie Earl  1.610613e+09               MIL   \n",
       "5           5        228      Adam Keefe  1.610613e+09               UTA   \n",
       "\n",
       "    age  gp   w   l  w_pct       ...         blk  blka   pf  pfd  pts  \\\n",
       "1  33.0  83  23  60  0.277       ...         0.2   0.5  1.7  0.0  7.2   \n",
       "2  24.0  83  48  35  0.578       ...         0.3   0.4  1.5  0.0  5.2   \n",
       "3  25.0  33   4  29  0.121       ...         0.9   0.2  2.0  0.0  6.2   \n",
       "4  27.0  47  14  33  0.298       ...         0.6   0.2  1.3  0.0  4.0   \n",
       "5  27.0  62  48  14  0.774       ...         0.2   0.2  1.5  0.0  3.8   \n",
       "\n",
       "   plus_minus  dd2  td3  cfid         cfparams  \n",
       "1        -4.2   16    0     5   920,1610612742  \n",
       "2         1.6    1    0     5   243,1610612765  \n",
       "3        -3.2    0    0     5  1425,1610612763  \n",
       "4        -1.3    0    0     5   768,1610612749  \n",
       "5         2.0    1    0     5   228,1610612762  \n",
       "\n",
       "[5 rows x 36 columns]"
      ]
     },
     "execution_count": 54,
     "metadata": {},
     "output_type": "execute_result"
    }
   ],
   "source": [
    "df_1996.rename(columns=col_dict, inplace=True)\n",
    "df_1996.head()"
   ]
  },
  {
   "cell_type": "code",
   "execution_count": 62,
   "metadata": {
    "collapsed": false
   },
   "outputs": [],
   "source": [
    "games_played = df_1996.gp.values"
   ]
  },
  {
   "cell_type": "code",
   "execution_count": null,
   "metadata": {
    "collapsed": true
   },
   "outputs": [],
   "source": []
  },
  {
   "cell_type": "code",
   "execution_count": 202,
   "metadata": {
    "collapsed": false
   },
   "outputs": [
    {
     "data": {
      "image/png": "[encoded data removed]",
      "text/plain": [
       "<matplotlib.figure.Figure at 0x11f1f5950>"
      ]
     },
     "metadata": {
      "image/png": {
       "height": 593,
       "width": 999
      }
     },
     "output_type": "display_data"
    }
   ],
   "source": [
    "fig,ax = plt.subplots(1,2,figsize=(15,10))\n",
    "\n",
    "ax[0] = df_1996[['GP']].plot(kind='hist', ax=ax[0])\n",
    "ax[1] = df_2015['GP'].plot(kind='hist', ax=ax[1], bins=15,color='darkred')\n",
    "plt.show()"
   ]
  },
  {
   "cell_type": "code",
   "execution_count": 156,
   "metadata": {
    "collapsed": false
   },
   "outputs": [],
   "source": [
    "df_2015 = pd.read_csv('../datasets/player_avgs/player_average_2015-16.csv')\n",
    "df_1996 = pd.read_csv('../datasets/player_avgs/player_average_1996-97.csv')"
   ]
  },
  {
   "cell_type": "code",
   "execution_count": 162,
   "metadata": {
    "collapsed": false
   },
   "outputs": [
    {
     "ename": "ValueError",
     "evalue": "cannot insert GP, already exists",
     "output_type": "error",
     "traceback": [
      "\u001b[0;31m---------------------------------------------------------------------------\u001b[0m",
      "\u001b[0;31mValueError\u001b[0m                                Traceback (most recent call last)",
      "\u001b[0;32m<ipython-input-162-0209b2b5c897>\u001b[0m in \u001b[0;36m<module>\u001b[0;34m()\u001b[0m\n\u001b[0;32m----> 1\u001b[0;31m \u001b[0mdf_15_96\u001b[0m \u001b[0;34m=\u001b[0m \u001b[0mpd\u001b[0m\u001b[0;34m.\u001b[0m\u001b[0mDataFrame\u001b[0m\u001b[0;34m(\u001b[0m\u001b[0mdf_2015\u001b[0m\u001b[0;34m.\u001b[0m\u001b[0mGP\u001b[0m\u001b[0;34m,\u001b[0m \u001b[0mdf_1996\u001b[0m\u001b[0;34m.\u001b[0m\u001b[0mGP\u001b[0m\u001b[0;34m)\u001b[0m\u001b[0;34m.\u001b[0m\u001b[0mreset_index\u001b[0m\u001b[0;34m(\u001b[0m\u001b[0;34m)\u001b[0m\u001b[0;34m\u001b[0m\u001b[0m\n\u001b[0m\u001b[1;32m      2\u001b[0m \u001b[0mdf_15_96\u001b[0m\u001b[0;34m.\u001b[0m\u001b[0mhead\u001b[0m\u001b[0;34m(\u001b[0m\u001b[0;34m)\u001b[0m\u001b[0;34m\u001b[0m\u001b[0m\n",
      "\u001b[0;32m/Users/amos/anaconda/envs/dsi/lib/python2.7/site-packages/pandas/core/frame.pyc\u001b[0m in \u001b[0;36mreset_index\u001b[0;34m(self, level, drop, inplace, col_level, col_fill)\u001b[0m\n\u001b[1;32m   2959\u001b[0m                     \u001b[0mname\u001b[0m \u001b[0;34m=\u001b[0m \u001b[0mtuple\u001b[0m\u001b[0;34m(\u001b[0m\u001b[0mname_lst\u001b[0m\u001b[0;34m)\u001b[0m\u001b[0;34m\u001b[0m\u001b[0m\n\u001b[1;32m   2960\u001b[0m             \u001b[0mvalues\u001b[0m \u001b[0;34m=\u001b[0m \u001b[0m_maybe_casted_values\u001b[0m\u001b[0;34m(\u001b[0m\u001b[0mself\u001b[0m\u001b[0;34m.\u001b[0m\u001b[0mindex\u001b[0m\u001b[0;34m)\u001b[0m\u001b[0;34m\u001b[0m\u001b[0m\n\u001b[0;32m-> 2961\u001b[0;31m             \u001b[0mnew_obj\u001b[0m\u001b[0;34m.\u001b[0m\u001b[0minsert\u001b[0m\u001b[0;34m(\u001b[0m\u001b[0;36m0\u001b[0m\u001b[0;34m,\u001b[0m \u001b[0mname\u001b[0m\u001b[0;34m,\u001b[0m \u001b[0mvalues\u001b[0m\u001b[0;34m)\u001b[0m\u001b[0;34m\u001b[0m\u001b[0m\n\u001b[0m\u001b[1;32m   2962\u001b[0m \u001b[0;34m\u001b[0m\u001b[0m\n\u001b[1;32m   2963\u001b[0m         \u001b[0mnew_obj\u001b[0m\u001b[0;34m.\u001b[0m\u001b[0mindex\u001b[0m \u001b[0;34m=\u001b[0m \u001b[0mnew_index\u001b[0m\u001b[0;34m\u001b[0m\u001b[0m\n",
      "\u001b[0;32m/Users/amos/anaconda/envs/dsi/lib/python2.7/site-packages/pandas/core/frame.pyc\u001b[0m in \u001b[0;36minsert\u001b[0;34m(self, loc, column, value, allow_duplicates)\u001b[0m\n\u001b[1;32m   2447\u001b[0m         \u001b[0mvalue\u001b[0m \u001b[0;34m=\u001b[0m \u001b[0mself\u001b[0m\u001b[0;34m.\u001b[0m\u001b[0m_sanitize_column\u001b[0m\u001b[0;34m(\u001b[0m\u001b[0mcolumn\u001b[0m\u001b[0;34m,\u001b[0m \u001b[0mvalue\u001b[0m\u001b[0;34m)\u001b[0m\u001b[0;34m\u001b[0m\u001b[0m\n\u001b[1;32m   2448\u001b[0m         self._data.insert(loc, column, value,\n\u001b[0;32m-> 2449\u001b[0;31m                           allow_duplicates=allow_duplicates)\n\u001b[0m\u001b[1;32m   2450\u001b[0m \u001b[0;34m\u001b[0m\u001b[0m\n\u001b[1;32m   2451\u001b[0m     \u001b[0;32mdef\u001b[0m \u001b[0massign\u001b[0m\u001b[0;34m(\u001b[0m\u001b[0mself\u001b[0m\u001b[0;34m,\u001b[0m \u001b[0;34m**\u001b[0m\u001b[0mkwargs\u001b[0m\u001b[0;34m)\u001b[0m\u001b[0;34m:\u001b[0m\u001b[0;34m\u001b[0m\u001b[0m\n",
      "\u001b[0;32m/Users/amos/anaconda/envs/dsi/lib/python2.7/site-packages/pandas/core/internals.pyc\u001b[0m in \u001b[0;36minsert\u001b[0;34m(self, loc, item, value, allow_duplicates)\u001b[0m\n\u001b[1;32m   3508\u001b[0m         \u001b[0;32mif\u001b[0m \u001b[0;32mnot\u001b[0m \u001b[0mallow_duplicates\u001b[0m \u001b[0;32mand\u001b[0m \u001b[0mitem\u001b[0m \u001b[0;32min\u001b[0m \u001b[0mself\u001b[0m\u001b[0;34m.\u001b[0m\u001b[0mitems\u001b[0m\u001b[0;34m:\u001b[0m\u001b[0;34m\u001b[0m\u001b[0m\n\u001b[1;32m   3509\u001b[0m             \u001b[0;31m# Should this be a different kind of error??\u001b[0m\u001b[0;34m\u001b[0m\u001b[0;34m\u001b[0m\u001b[0m\n\u001b[0;32m-> 3510\u001b[0;31m             \u001b[0;32mraise\u001b[0m \u001b[0mValueError\u001b[0m\u001b[0;34m(\u001b[0m\u001b[0;34m'cannot insert %s, already exists'\u001b[0m \u001b[0;34m%\u001b[0m \u001b[0mitem\u001b[0m\u001b[0;34m)\u001b[0m\u001b[0;34m\u001b[0m\u001b[0m\n\u001b[0m\u001b[1;32m   3511\u001b[0m \u001b[0;34m\u001b[0m\u001b[0m\n\u001b[1;32m   3512\u001b[0m         \u001b[0;32mif\u001b[0m \u001b[0;32mnot\u001b[0m \u001b[0misinstance\u001b[0m\u001b[0;34m(\u001b[0m\u001b[0mloc\u001b[0m\u001b[0;34m,\u001b[0m \u001b[0mint\u001b[0m\u001b[0;34m)\u001b[0m\u001b[0;34m:\u001b[0m\u001b[0;34m\u001b[0m\u001b[0m\n",
      "\u001b[0;31mValueError\u001b[0m: cannot insert GP, already exists"
     ]
    }
   ],
   "source": [
    "df_15_96 = pd.DataFrame(df_2015.GP, df_1996.GP).reset_index()\n",
    "df_15_96.head()"
   ]
  },
  {
   "cell_type": "code",
   "execution_count": 148,
   "metadata": {
    "collapsed": false
   },
   "outputs": [
    {
     "name": "stdout",
     "output_type": "stream",
     "text": [
      "<class 'pandas.core.frame.DataFrame'>\n",
      "RangeIndex: 440 entries, 0 to 439\n",
      "Data columns (total 2 columns):\n",
      "gp    440 non-null int64\n",
      "GP    440 non-null int64\n",
      "dtypes: int64(2)\n",
      "memory usage: 6.9 KB\n"
     ]
    }
   ],
   "source": [
    "df_15_96.info()"
   ]
  },
  {
   "cell_type": "code",
   "execution_count": 120,
   "metadata": {
    "collapsed": false
   },
   "outputs": [
    {
     "data": {
      "text/plain": [
       "73.14754098360656"
      ]
     },
     "execution_count": 120,
     "metadata": {},
     "output_type": "execute_result"
    }
   ],
   "source": [
    "mask = df_1996['min'] > 30.\n",
    "df_1996[mask]['gp'].mean()"
   ]
  },
  {
   "cell_type": "code",
   "execution_count": 141,
   "metadata": {
    "collapsed": false
   },
   "outputs": [
    {
     "data": {
      "text/plain": [
       "{'1996-97': 73.28395061728395,\n",
       " '1997-98': 71.05555555555556,\n",
       " '1998-99': 46.5531914893617,\n",
       " '1999-00': 77.06521739130434,\n",
       " '2000-01': 74.35185185185185,\n",
       " '2001-02': 73.98214285714286,\n",
       " '2002-03': 74.45833333333333,\n",
       " '2003-04': 71.71666666666667,\n",
       " '2004-05': 72.13725490196079,\n",
       " '2005-06': 75.39655172413794,\n",
       " '2006-07': 70.47457627118644,\n",
       " '2007-08': 74.30357142857143,\n",
       " '2008-09': 72.42307692307692,\n",
       " '2009-10': 73.18181818181819,\n",
       " '2010-11': 74.32432432432432,\n",
       " '2011-12': 59.629629629629626,\n",
       " '2012-13': 73.03225806451613,\n",
       " '2013-14': 74.1,\n",
       " '2014-15': 66.0,\n",
       " '2015-16': 71.42857142857143}"
      ]
     },
     "execution_count": 141,
     "metadata": {},
     "output_type": "execute_result"
    }
   ],
   "source": [
    "f = '/Users/amos/Desktop/DSI-SF-2-amoskim25/copy_capstone/datasets/player_avgs/player_average_%s.csv'\n",
    "years_gp_dict = {}\n",
    "for z in zipped:\n",
    "    df = pd.read_csv(f % z)\n",
    "    mask = df['MIN'] > 35.\n",
    "    gp_mean = df[mask]['GP'].mean()\n",
    "    years_gp_dict[z] = gp_mean\n",
    "    \n",
    "years_gp_dict"
   ]
  },
  {
   "cell_type": "code",
   "execution_count": 140,
   "metadata": {
    "collapsed": false
   },
   "outputs": [
    {
     "data": {
      "image/png": "[encoded data removed]",
      "text/plain": [
       "<matplotlib.figure.Figure at 0x11e9492d0>"
      ]
     },
     "metadata": {
      "image/png": {
       "height": 1151,
       "width": 1285
      }
     },
     "output_type": "display_data"
    }
   ],
   "source": [
    "# df = pd.DataFrame(years_gp_dict, index=[0])\n",
    "# df.plot(x=df.iloc[0,:],kind='hist')\n",
    "\n",
    "# plt.bar(years_gp_dict.keys(), years_gp_dict.values(), align='center')\n",
    "# plt.show()\n",
    "# keys = []\n",
    "# values = []\n",
    "# for k,v in years_gp_dict.items():\n",
    "#     keys.append(k)\n",
    "#     values.append(v)\n",
    "# fig, ax = plt.subplots(figsize=(20,20))\n",
    "# plt.bar(range(len(years_gp_dict)), values)\n",
    "# plt.xticks(range(len(years_gp_dict)), keys)\n",
    "\n",
    "# plt.show()"
   ]
  },
  {
   "cell_type": "code",
   "execution_count": 182,
   "metadata": {
    "collapsed": false
   },
   "outputs": [
    {
     "data": {
      "text/plain": [
       "{'1996-97': 73.28395061728395,\n",
       " '1997-98': 71.05555555555556,\n",
       " '1999-00': 77.06521739130434,\n",
       " '2000-01': 74.35185185185185,\n",
       " '2001-02': 73.98214285714286,\n",
       " '2002-03': 74.45833333333333,\n",
       " '2003-04': 71.71666666666667,\n",
       " '2004-05': 72.13725490196079,\n",
       " '2005-06': 75.39655172413794,\n",
       " '2006-07': 70.47457627118644,\n",
       " '2007-08': 74.30357142857143,\n",
       " '2008-09': 72.42307692307692,\n",
       " '2009-10': 73.18181818181819,\n",
       " '2010-11': 74.32432432432432,\n",
       " '2012-13': 73.03225806451613,\n",
       " '2013-14': 74.1,\n",
       " '2014-15': 66.0,\n",
       " '2015-16': 71.42857142857143}"
      ]
     },
     "execution_count": 182,
     "metadata": {},
     "output_type": "execute_result"
    }
   ],
   "source": [
    "lockout_years = ['1998-99', '2011-12']\n",
    "for y in lockout_years:\n",
    "    del years_gp_dict[y]\n",
    "\n",
    "years_gp_dict\n",
    "# need to delete lockout years\n",
    "# 1998-99, 2011-12"
   ]
  },
  {
   "cell_type": "code",
   "execution_count": 183,
   "metadata": {
    "collapsed": false
   },
   "outputs": [],
   "source": [
    "\n",
    "tmp = pd.DataFrame(years_gp_dict, index=[0]).T\n"
   ]
  },
  {
   "cell_type": "code",
   "execution_count": 184,
   "metadata": {
    "collapsed": false
   },
   "outputs": [],
   "source": [
    "tmp.index = tmp.index.map(lambda x: x[:4])"
   ]
  },
  {
   "cell_type": "code",
   "execution_count": 185,
   "metadata": {
    "collapsed": false
   },
   "outputs": [],
   "source": [
    "tmp.index = pd.to_datetime(tmp.index)"
   ]
  },
  {
   "cell_type": "code",
   "execution_count": 187,
   "metadata": {
    "collapsed": false
   },
   "outputs": [
    {
     "data": {
      "text/html": [
       "<div>\n",
       "<table border=\"1\" class=\"dataframe\">\n",
       "  <thead>\n",
       "    <tr style=\"text-align: right;\">\n",
       "      <th></th>\n",
       "      <th>0</th>\n",
       "    </tr>\n",
       "  </thead>\n",
       "  <tbody>\n",
       "    <tr>\n",
       "      <th>1996-01-01</th>\n",
       "      <td>73.283951</td>\n",
       "    </tr>\n",
       "    <tr>\n",
       "      <th>1997-01-01</th>\n",
       "      <td>71.055556</td>\n",
       "    </tr>\n",
       "    <tr>\n",
       "      <th>1999-01-01</th>\n",
       "      <td>77.065217</td>\n",
       "    </tr>\n",
       "    <tr>\n",
       "      <th>2000-01-01</th>\n",
       "      <td>74.351852</td>\n",
       "    </tr>\n",
       "    <tr>\n",
       "      <th>2001-01-01</th>\n",
       "      <td>73.982143</td>\n",
       "    </tr>\n",
       "    <tr>\n",
       "      <th>2002-01-01</th>\n",
       "      <td>74.458333</td>\n",
       "    </tr>\n",
       "    <tr>\n",
       "      <th>2003-01-01</th>\n",
       "      <td>71.716667</td>\n",
       "    </tr>\n",
       "    <tr>\n",
       "      <th>2004-01-01</th>\n",
       "      <td>72.137255</td>\n",
       "    </tr>\n",
       "    <tr>\n",
       "      <th>2005-01-01</th>\n",
       "      <td>75.396552</td>\n",
       "    </tr>\n",
       "    <tr>\n",
       "      <th>2006-01-01</th>\n",
       "      <td>70.474576</td>\n",
       "    </tr>\n",
       "    <tr>\n",
       "      <th>2007-01-01</th>\n",
       "      <td>74.303571</td>\n",
       "    </tr>\n",
       "    <tr>\n",
       "      <th>2008-01-01</th>\n",
       "      <td>72.423077</td>\n",
       "    </tr>\n",
       "    <tr>\n",
       "      <th>2009-01-01</th>\n",
       "      <td>73.181818</td>\n",
       "    </tr>\n",
       "    <tr>\n",
       "      <th>2010-01-01</th>\n",
       "      <td>74.324324</td>\n",
       "    </tr>\n",
       "    <tr>\n",
       "      <th>2012-01-01</th>\n",
       "      <td>73.032258</td>\n",
       "    </tr>\n",
       "    <tr>\n",
       "      <th>2013-01-01</th>\n",
       "      <td>74.100000</td>\n",
       "    </tr>\n",
       "    <tr>\n",
       "      <th>2014-01-01</th>\n",
       "      <td>66.000000</td>\n",
       "    </tr>\n",
       "    <tr>\n",
       "      <th>2015-01-01</th>\n",
       "      <td>71.428571</td>\n",
       "    </tr>\n",
       "  </tbody>\n",
       "</table>\n",
       "</div>"
      ],
      "text/plain": [
       "                    0\n",
       "1996-01-01  73.283951\n",
       "1997-01-01  71.055556\n",
       "1999-01-01  77.065217\n",
       "2000-01-01  74.351852\n",
       "2001-01-01  73.982143\n",
       "2002-01-01  74.458333\n",
       "2003-01-01  71.716667\n",
       "2004-01-01  72.137255\n",
       "2005-01-01  75.396552\n",
       "2006-01-01  70.474576\n",
       "2007-01-01  74.303571\n",
       "2008-01-01  72.423077\n",
       "2009-01-01  73.181818\n",
       "2010-01-01  74.324324\n",
       "2012-01-01  73.032258\n",
       "2013-01-01  74.100000\n",
       "2014-01-01  66.000000\n",
       "2015-01-01  71.428571"
      ]
     },
     "execution_count": 187,
     "metadata": {},
     "output_type": "execute_result"
    }
   ],
   "source": [
    "tmp"
   ]
  },
  {
   "cell_type": "code",
   "execution_count": 186,
   "metadata": {
    "collapsed": false
   },
   "outputs": [
    {
     "data": {
      "text/plain": [
       "<matplotlib.axes._subplots.AxesSubplot at 0x11f09ef10>"
      ]
     },
     "execution_count": 186,
     "metadata": {},
     "output_type": "execute_result"
    },
    {
     "data": {
      "image/png": "[encoded data removed]",
      "text/plain": [
       "<matplotlib.figure.Figure at 0x11f8d8fd0>"
      ]
     },
     "metadata": {
      "image/png": {
       "height": 247,
       "width": 408
      }
     },
     "output_type": "display_data"
    }
   ],
   "source": [
    "tmp.plot()"
   ]
  },
  {
   "cell_type": "markdown",
   "metadata": {},
   "source": [
    "# There seems to be a decline in games played or injuries/suspensions increased from 1996-2015\n",
    "- lets see a box plot of data \n",
    "- note: players in each year that average minutes greater than 35.\n",
    "\n",
    " "
   ]
  },
  {
   "cell_type": "code",
   "execution_count": null,
   "metadata": {
    "collapsed": true
   },
   "outputs": [],
   "source": []
  },
  {
   "cell_type": "markdown",
   "metadata": {},
   "source": [
    "# Below: plotting without restrictions in minutes and creating a box plot"
   ]
  },
  {
   "cell_type": "code",
   "execution_count": 190,
   "metadata": {
    "collapsed": false,
    "scrolled": true
   },
   "outputs": [
    {
     "data": {
      "text/plain": [
       "['1996-97',\n",
       " '1997-98',\n",
       " '1999-00',\n",
       " '2000-01',\n",
       " '2001-02',\n",
       " '2002-03',\n",
       " '2003-04',\n",
       " '2004-05',\n",
       " '2005-06',\n",
       " '2006-07',\n",
       " '2007-08',\n",
       " '2008-09',\n",
       " '2009-10',\n",
       " '2010-11',\n",
       " '2012-13',\n",
       " '2013-14',\n",
       " '2014-15',\n",
       " '2015-16']"
      ]
     },
     "execution_count": 190,
     "metadata": {},
     "output_type": "execute_result"
    }
   ],
   "source": [
    "non_lockout_yrs = [z for z in zipped if z not in lockout_years]\n",
    "non_lockout_yrs"
   ]
  },
  {
   "cell_type": "code",
   "execution_count": null,
   "metadata": {
    "collapsed": true
   },
   "outputs": [],
   "source": []
  },
  {
   "cell_type": "code",
   "execution_count": null,
   "metadata": {
    "collapsed": true
   },
   "outputs": [],
   "source": []
  },
  {
   "cell_type": "code",
   "execution_count": null,
   "metadata": {
    "collapsed": true
   },
   "outputs": [],
   "source": [
    "# So I need to \n",
    "f = '/Users/amos/Desktop/DSI-SF-2-amoskim25/copy_capstone/datasets/player_avgs/player_average_%s.csv'\n",
    "games_played_per_year = pd.DataFrame()\n",
    "for z in non_lockout_yrs:\n",
    "    df = pd.read_csv(f % z)\n",
    "    gp = df['GP']\n",
    "    years_gp_dict[z] = gp_mean\n",
    "    \n",
    "years_gp_dict"
   ]
  },
  {
   "cell_type": "code",
   "execution_count": null,
   "metadata": {
    "collapsed": true
   },
   "outputs": [],
   "source": []
  },
  {
   "cell_type": "code",
   "execution_count": null,
   "metadata": {
    "collapsed": true
   },
   "outputs": [],
   "source": []
  }
 ],
 "metadata": {
  "anaconda-cloud": {},
  "kernelspec": {
   "display_name": "Python [dsi]",
   "language": "python",
   "name": "Python [dsi]"
  },
  "language_info": {
   "codemirror_mode": {
    "name": "ipython",
    "version": 2
   },
   "file_extension": ".py",
   "mimetype": "text/x-python",
   "name": "python",
   "nbconvert_exporter": "python",
   "pygments_lexer": "ipython2",
   "version": "2.7.12"
  }
 },
 "nbformat": 4,
 "nbformat_minor": 0
}
