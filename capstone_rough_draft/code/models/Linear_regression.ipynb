{
 "cells": [
  {
   "cell_type": "markdown",
   "metadata": {},
   "source": [
    "97-98 predicted by stats from 96-97:\n",
    "    a. Linear Regression"
   ]
  },
  {
   "cell_type": "code",
   "execution_count": 9,
   "metadata": {
    "collapsed": false
   },
   "outputs": [],
   "source": [
    "import pandas as pd\n",
    "import numpy as np\n",
    "%matplotlib inline\n",
    "\n",
    "import matplotlib.pyplot as plt\n",
    "import seaborn as sns\n",
    "from sklearn.cross_validation import cross_val_score\n",
    "from sklearn.linear_model import LinearRegression\n",
    "import patsy"
   ]
  },
  {
   "cell_type": "code",
   "execution_count": 2,
   "metadata": {
    "collapsed": true
   },
   "outputs": [],
   "source": [
    "df1 = pd.read_csv('../datasets/merged_per_year/merged_1996-97')\n",
    "df2 = pd.read_csv('../datasets/merged_per_year/merged_1997-98')\n",
    "\n"
   ]
  },
  {
   "cell_type": "code",
   "execution_count": 36,
   "metadata": {
    "collapsed": false
   },
   "outputs": [
    {
     "data": {
      "text/plain": [
       "['opp_lessthan5ft_FGM',\n",
       " 'opp_lessthan5ft_FGA',\n",
       " 'opp_lessthan5ft_FG_PCT',\n",
       " 'opp_5_9ft_FGM',\n",
       " 'opp_5_9ft_FGA',\n",
       " 'opp_5_9ft_FG_PCT',\n",
       " 'opp_10_14ft_FGM',\n",
       " 'opp_10_14ft_FGA',\n",
       " 'opp_10_14ft_FG_PCT',\n",
       " 'opp_15_19ft_FGM',\n",
       " 'opp_15_19ft_FGA',\n",
       " 'opp_15_19ft_FG_PCT',\n",
       " 'opp_20_24ft_FGM',\n",
       " 'opp_20_24ft_FGA',\n",
       " 'opp_20_24ft_FG_PCT',\n",
       " 'opp_25_29ft_FGM',\n",
       " 'opp_25_29ft_FGA',\n",
       " 'opp_25_29ft_FG_PCT',\n",
       " 'opp_30_34ft_FGM',\n",
       " 'opp_30_34ft_FGA',\n",
       " 'opp_30_34ft_FG_PCT']"
      ]
     },
     "execution_count": 36,
     "metadata": {},
     "output_type": "execute_result"
    }
   ],
   "source": [
    "drop_col = ['Unnamed: 0', 'PLAYER_ID','TEAM_ID', 'W', 'L']\n",
    "\n",
    "opp_col = [col for col in df1.columns if col.startswith('opp')]"
   ]
  },
  {
   "cell_type": "code",
   "execution_count": 4,
   "metadata": {
    "collapsed": false,
    "scrolled": true
   },
   "outputs": [
    {
     "name": "stderr",
     "output_type": "stream",
     "text": [
      "/Users/amos/anaconda/envs/dsi/lib/python2.7/site-packages/ipykernel/__main__.py:3: SettingWithCopyWarning: \n",
      "A value is trying to be set on a copy of a slice from a DataFrame\n",
      "\n",
      "See the caveats in the documentation: http://pandas.pydata.org/pandas-docs/stable/indexing.html#indexing-view-versus-copy\n",
      "  app.launch_new_instance()\n"
     ]
    }
   ],
   "source": [
    "min_df = df1[ df1.MIN > 10. ]\n",
    "\n",
    "min_df.dropna(inplace=True)\n"
   ]
  },
  {
   "cell_type": "code",
   "execution_count": 5,
   "metadata": {
    "collapsed": false
   },
   "outputs": [
    {
     "name": "stderr",
     "output_type": "stream",
     "text": [
      "/Users/amos/anaconda/envs/dsi/lib/python2.7/site-packages/ipykernel/__main__.py:2: SettingWithCopyWarning: \n",
      "A value is trying to be set on a copy of a slice from a DataFrame\n",
      "\n",
      "See the caveats in the documentation: http://pandas.pydata.org/pandas-docs/stable/indexing.html#indexing-view-versus-copy\n",
      "  from ipykernel import kernelapp as app\n"
     ]
    }
   ],
   "source": [
    "min_df2 = df2[ df2.MIN > 10. ]\n",
    "min_df2.dropna(inplace=True)"
   ]
  },
  {
   "cell_type": "code",
   "execution_count": 7,
   "metadata": {
    "collapsed": false
   },
   "outputs": [
    {
     "name": "stdout",
     "output_type": "stream",
     "text": [
      "(296,) (296, 93)\n",
      "(304,) (304, 93)\n"
     ]
    }
   ],
   "source": [
    "trainy = min_df.GP.values\n",
    "trainX = min_df[[col for col in min_df.columns[5:] if col not in ['W','L','GP']]]\n",
    "testy = min_df2.GP.values\n",
    "testX = min_df2[[col for col in min_df2.columns[5:] if col not in ['W','L', 'GP']]]\n",
    "print trainy.shape, trainX.shape\n",
    "print testy.shape, testX.shape\n"
   ]
  },
  {
   "cell_type": "code",
   "execution_count": 96,
   "metadata": {
    "collapsed": false
   },
   "outputs": [
    {
     "name": "stdout",
     "output_type": "stream",
     "text": [
      "Index([u'AGE', u'W_PCT', u'MIN', u'FGM', u'FGA', u'FG_PCT', u'FG3M', u'FG3A',\n",
      "       u'FG3_PCT', u'FTM', u'FTA', u'FT_PCT', u'OREB', u'DREB', u'REB', u'AST',\n",
      "       u'TOV', u'STL', u'BLK', u'BLKA', u'PF', u'PFD', u'PTS', u'PLUS_MINUS',\n",
      "       u'SEASON', u'PCT_FGA_2PT', u'PCT_FGA_3PT', u'PCT_PTS_2PT',\n",
      "       u'PCT_PTS_2PT_MR', u'PCT_PTS_3PT', u'PCT_PTS_FB', u'PCT_PTS_FT',\n",
      "       u'PCT_PTS_OFF_TOV', u'PCT_PTS_PAINT', u'PCT_AST_2PM', u'PCT_UAST_2PM',\n",
      "       u'PCT_AST_3PM', u'PCT_UAST_3PM', u'PCT_AST_FGM', u'PCT_UAST_FGM',\n",
      "       u'opp_lessthan5ft_FGM', u'opp_lessthan5ft_FGA',\n",
      "       u'opp_lessthan5ft_FG_PCT', u'opp_5_9ft_FGM', u'opp_5_9ft_FGA',\n",
      "       u'opp_5_9ft_FG_PCT', u'opp_10_14ft_FGM', u'opp_10_14ft_FGA',\n",
      "       u'opp_10_14ft_FG_PCT', u'opp_15_19ft_FGM', u'opp_15_19ft_FGA',\n",
      "       u'opp_15_19ft_FG_PCT', u'opp_20_24ft_FGM', u'opp_20_24ft_FGA',\n",
      "       u'opp_20_24ft_FG_PCT', u'opp_25_29ft_FGM', u'opp_25_29ft_FGA',\n",
      "       u'opp_25_29ft_FG_PCT', u'opp_30_34ft_FGM', u'opp_30_34ft_FGA',\n",
      "       u'opp_30_34ft_FG_PCT', u'lessthan5ft_FGM', u'lessthan5ft_FGA',\n",
      "       u'lessthan5ft_FG_PCT', u'5_9ft_FGM', u'5_9ft_FGA', u'5_9ft_FG_PCT',\n",
      "       u'10_14ft_FGM', u'10_14ft_FGA', u'10_14ft_FG_PCT', u'15_19ft_FGM',\n",
      "       u'15_19ft_FGA', u'15_19ft_FG_PCT', u'20_24ft_FGM', u'20_24ft_FGA',\n",
      "       u'20_24ft_FG_PCT', u'25_29ft_FGM', u'25_29ft_FGA', u'25_29ft_FG_PCT',\n",
      "       u'30_34ft_FGM', u'30_34ft_FGA', u'30_34ft_FG_PCT', u'35_39ft_FGM',\n",
      "       u'PLAYER_HEIGHT_INCHES', u'PLAYER_WEIGHT', u'NET_RATING', u'USG_PCT',\n",
      "       u'TS_PCT', u'B2B_COUNT', u'3GMS_IN_4DAYS', u'4GMS_IN_5DAYS', u'PACE',\n",
      "       u'PIE'],\n",
      "      dtype='object')\n",
      "(309, 101)\n",
      "Index([u'Unnamed: 0', u'PLAYER_ID', u'PLAYER_NAME', u'TEAM_ID',\n",
      "       u'TEAM_ABBREVIATION', u'AGE', u'GP', u'W', u'L', u'W_PCT',\n",
      "       ...\n",
      "       u'PLAYER_HEIGHT_INCHES', u'PLAYER_WEIGHT', u'NET_RATING', u'USG_PCT',\n",
      "       u'TS_PCT', u'B2B_COUNT', u'3GMS_IN_4DAYS', u'4GMS_IN_5DAYS', u'PACE',\n",
      "       u'PIE'],\n",
      "      dtype='object', length=101)\n"
     ]
    }
   ],
   "source": [
    "print trainX.columns\n",
    "print df1.shape\n",
    "print df1.columns"
   ]
  },
  {
   "cell_type": "code",
   "execution_count": 10,
   "metadata": {
    "collapsed": false
   },
   "outputs": [
    {
     "data": {
      "text/plain": [
       "array([ 0.39513456, -0.20174145,  0.0152464 ,  0.19805669, -1.13185357,\n",
       "        0.14826144,  0.11570466, -0.6525326 ,  0.13054287, -0.32006747])"
      ]
     },
     "execution_count": 10,
     "metadata": {},
     "output_type": "execute_result"
    }
   ],
   "source": [
    "\n",
    "linreg_scores = cross_val_score(LinearRegression(), trainX, trainy, cv=10)\n",
    "linreg_scores"
   ]
  },
  {
   "cell_type": "code",
   "execution_count": 11,
   "metadata": {
    "collapsed": false
   },
   "outputs": [],
   "source": [
    "# formula = \"GP ~ \" + '+'.join(trainX.columns)\n",
    "lr = LinearRegression()\n",
    "model = lr.fit(trainX, trainy)\n",
    "predict = model.predict(testX)\n"
   ]
  },
  {
   "cell_type": "code",
   "execution_count": 13,
   "metadata": {
    "collapsed": false
   },
   "outputs": [
    {
     "name": "stdout",
     "output_type": "stream",
     "text": [
      "0.576342052112\n",
      "[ -5.13577177e-01  -1.97642175e-01   3.56006181e-01   3.34338093e+01\n",
      "   4.65001837e+00  -1.37640204e+02   1.10357100e+01   3.56147059e+00\n",
      "  -5.93790319e+00   1.76534653e+01  -4.84491057e+00  -2.35923112e+01\n",
      "  -2.22625449e+01  -2.48356294e+01   2.06416507e+01  -3.24923136e+00\n",
      "   2.65213685e+00   3.71542728e+00   1.43225685e+00  -2.50824471e+00\n",
      "   3.45057605e+00   1.14965376e+01  -1.45405222e+01   1.15755313e-01\n",
      "  -4.85519891e-09  -6.56914659e+03  -6.61346958e+03   3.27049919e+03\n",
      "  -3.56816680e+03  -2.07392227e+02  -4.76864508e+01  -2.27652109e+02\n",
      "  -2.70102469e+01  -3.50529331e+03   7.12536791e+03   7.06176527e+03\n",
      "   4.95216136e+00   9.79152996e+00  -1.37096140e+04  -1.36542610e+04\n",
      "   1.02520908e+01  -5.81146609e+00  -1.10420964e+02   6.02119649e+00\n",
      "  -2.00339069e+00  -3.63884581e+00  -1.18304925e-01   1.22591886e+00\n",
      "   8.59225756e+01   1.23263823e+01  -4.24892365e+00  -1.72994809e+02\n",
      "   1.80479601e+01  -6.90256581e+00  -1.74053441e+02  -1.49625929e+01\n",
      "   3.13158054e+00   4.22607370e+01   1.37071086e+01  -4.82475382e+00\n",
      "  -6.62824834e+00  -3.76662533e+00  -2.76992582e+00   9.86866168e+00\n",
      "  -4.95647288e+00  -3.96642361e+00   1.88648821e+01  -9.70750947e+00\n",
      "  -3.10586215e+00   2.27201107e+01   1.16878449e+01  -7.72328262e+00\n",
      "   1.51054706e+01   1.22331517e+01  -1.43689164e+01   1.03553945e+01\n",
      "   2.10393969e+01  -4.12849112e+00  -1.89292353e+00  -5.32811219e+01\n",
      "  -3.28922493e+00   1.76467406e+01   2.07439077e+01  -6.73055244e-01\n",
      "   3.24932344e-02  -4.22285884e-02  -1.49484062e+02   4.89976695e+01\n",
      "   4.74688127e-01  -1.69610789e-01  -1.09587411e+00  -9.08587668e-01\n",
      "   2.78703550e+02]\n",
      "Mean squared error: 309.12\n",
      "Variance score: -0.12\n"
     ]
    }
   ],
   "source": [
    "print model.score(trainX, trainy)\n",
    "print model.coef_\n",
    "print \"Mean squared error: %.2f\" % np.mean((model.predict(testX) - testy) ** 2)\n",
    "print('Variance score: %.2f' % model.score(testX, testy))\n"
   ]
  },
  {
   "cell_type": "code",
   "execution_count": 20,
   "metadata": {
    "collapsed": true
   },
   "outputs": [],
   "source": [
    "from sklearn.linear_model import Lasso\n",
    "lass = Lasso()\n",
    "model = lass.fit(trainX, trainy)\n"
   ]
  },
  {
   "cell_type": "code",
   "execution_count": 21,
   "metadata": {
    "collapsed": false
   },
   "outputs": [
    {
     "data": {
      "text/plain": [
       "0.16377377247768365"
      ]
     },
     "execution_count": 21,
     "metadata": {},
     "output_type": "execute_result"
    }
   ],
   "source": [
    "model.score(testX, testy)"
   ]
  },
  {
   "cell_type": "code",
   "execution_count": 17,
   "metadata": {
    "collapsed": false
   },
   "outputs": [
    {
     "data": {
      "text/plain": [
       "array([-0.28077695, -0.        ,  0.92891322,  0.        , -0.52345704,\n",
       "        0.        , -0.        , -0.        ,  0.        ,  0.        ,\n",
       "       -0.        , -0.        , -0.        , -0.        , -0.37611669,\n",
       "       -0.        , -0.        ,  0.        , -0.        , -0.        ,\n",
       "        0.        , -0.        ,  0.        , -1.17561447,  0.        ,\n",
       "        0.        , -0.        ,  0.        ,  0.        , -0.        ,\n",
       "       -0.        ,  0.        , -0.        ,  0.        ,  0.        ,\n",
       "       -0.        , -0.        ,  0.        , -0.        ,  0.        ,\n",
       "        0.        , -0.        ,  0.        ,  0.        , -0.        ,\n",
       "        0.        ,  0.        ,  0.        ,  0.        , -0.        ,\n",
       "        0.        , -0.        , -0.        ,  0.        , -0.        ,\n",
       "        0.        ,  0.        ,  0.        ,  0.        , -0.        ,\n",
       "        0.        , -0.        , -0.        ,  0.        , -0.        ,\n",
       "       -0.        ,  0.        ,  0.        , -0.        ,  0.        ,\n",
       "        0.        ,  0.21514858,  0.        , -0.        , -0.        ,\n",
       "        0.        ,  0.        ,  0.        , -0.        , -0.        ,\n",
       "       -0.        ,  0.        , -0.        , -0.        ,  0.02827615,\n",
       "        0.96504325, -0.        ,  0.        ,  0.        ,  0.27455655,\n",
       "       -0.        , -0.36093293,  0.        ])"
      ]
     },
     "execution_count": 17,
     "metadata": {},
     "output_type": "execute_result"
    }
   ],
   "source": [
    "for col in trainX.columns:\n",
    "    for model.coef_"
   ]
  },
  {
   "cell_type": "code",
   "execution_count": 1,
   "metadata": {
    "collapsed": false
   },
   "outputs": [
    {
     "ename": "NameError",
     "evalue": "name 'trainX' is not defined",
     "output_type": "error",
     "traceback": [
      "\u001b[0;31m---------------------------------------------------------------------------\u001b[0m",
      "\u001b[0;31mNameError\u001b[0m                                 Traceback (most recent call last)",
      "\u001b[0;32m<ipython-input-1-aebc8a0a1402>\u001b[0m in \u001b[0;36m<module>\u001b[0;34m()\u001b[0m\n\u001b[0;32m----> 1\u001b[0;31m \u001b[0mx\u001b[0m \u001b[0;34m=\u001b[0m \u001b[0mzip\u001b[0m\u001b[0;34m(\u001b[0m\u001b[0mtrainX\u001b[0m\u001b[0;34m.\u001b[0m\u001b[0mcolumns\u001b[0m\u001b[0;34m,\u001b[0m \u001b[0mmodel\u001b[0m\u001b[0;34m.\u001b[0m\u001b[0mcoef_\u001b[0m\u001b[0;34m)\u001b[0m\u001b[0;34m\u001b[0m\u001b[0m\n\u001b[0m\u001b[1;32m      2\u001b[0m \u001b[0mx\u001b[0m\u001b[0;34m\u001b[0m\u001b[0m\n",
      "\u001b[0;31mNameError\u001b[0m: name 'trainX' is not defined"
     ]
    }
   ],
   "source": [
    "x = zip(trainX.columns, model.coef_)\n",
    "x"
   ]
  },
  {
   "cell_type": "code",
   "execution_count": 35,
   "metadata": {
    "collapsed": false
   },
   "outputs": [
    {
     "ename": "KeyError",
     "evalue": "\"['GP'] not in index\"",
     "output_type": "error",
     "traceback": [
      "\u001b[0;31m---------------------------------------------------------------------------\u001b[0m",
      "\u001b[0;31mKeyError\u001b[0m                                  Traceback (most recent call last)",
      "\u001b[0;32m<ipython-input-35-e7611fd48e3d>\u001b[0m in \u001b[0;36m<module>\u001b[0;34m()\u001b[0m\n\u001b[1;32m      2\u001b[0m \u001b[0;31m#                   'PLAYER_WEIGHT','NET_RATING','3GMS_IN_4DAYS','PACE']\u001b[0m\u001b[0;34m\u001b[0m\u001b[0;34m\u001b[0m\u001b[0m\n\u001b[1;32m      3\u001b[0m \u001b[0mnon_zero_betas\u001b[0m \u001b[0;34m=\u001b[0m \u001b[0;34m[\u001b[0m\u001b[0;34m'AGE'\u001b[0m\u001b[0;34m,\u001b[0m\u001b[0;34m'GP'\u001b[0m\u001b[0;34m]\u001b[0m\u001b[0;34m\u001b[0m\u001b[0m\n\u001b[0;32m----> 4\u001b[0;31m \u001b[0mmin_df\u001b[0m \u001b[0;34m=\u001b[0m \u001b[0mmin_df\u001b[0m\u001b[0;34m[\u001b[0m\u001b[0mnon_zero_betas\u001b[0m\u001b[0;34m]\u001b[0m\u001b[0;34m\u001b[0m\u001b[0m\n\u001b[0m\u001b[1;32m      5\u001b[0m \u001b[0mmin_df2\u001b[0m \u001b[0;34m=\u001b[0m \u001b[0mmin_df2\u001b[0m\u001b[0;34m[\u001b[0m\u001b[0mnon_zero_betas\u001b[0m\u001b[0;34m]\u001b[0m\u001b[0;34m\u001b[0m\u001b[0m\n",
      "\u001b[0;32m/Users/amos/anaconda/envs/dsi/lib/python2.7/site-packages/pandas/core/frame.pyc\u001b[0m in \u001b[0;36m__getitem__\u001b[0;34m(self, key)\u001b[0m\n\u001b[1;32m   1989\u001b[0m         \u001b[0;32mif\u001b[0m \u001b[0misinstance\u001b[0m\u001b[0;34m(\u001b[0m\u001b[0mkey\u001b[0m\u001b[0;34m,\u001b[0m \u001b[0;34m(\u001b[0m\u001b[0mSeries\u001b[0m\u001b[0;34m,\u001b[0m \u001b[0mnp\u001b[0m\u001b[0;34m.\u001b[0m\u001b[0mndarray\u001b[0m\u001b[0;34m,\u001b[0m \u001b[0mIndex\u001b[0m\u001b[0;34m,\u001b[0m \u001b[0mlist\u001b[0m\u001b[0;34m)\u001b[0m\u001b[0;34m)\u001b[0m\u001b[0;34m:\u001b[0m\u001b[0;34m\u001b[0m\u001b[0m\n\u001b[1;32m   1990\u001b[0m             \u001b[0;31m# either boolean or fancy integer index\u001b[0m\u001b[0;34m\u001b[0m\u001b[0;34m\u001b[0m\u001b[0m\n\u001b[0;32m-> 1991\u001b[0;31m             \u001b[0;32mreturn\u001b[0m \u001b[0mself\u001b[0m\u001b[0;34m.\u001b[0m\u001b[0m_getitem_array\u001b[0m\u001b[0;34m(\u001b[0m\u001b[0mkey\u001b[0m\u001b[0;34m)\u001b[0m\u001b[0;34m\u001b[0m\u001b[0m\n\u001b[0m\u001b[1;32m   1992\u001b[0m         \u001b[0;32melif\u001b[0m \u001b[0misinstance\u001b[0m\u001b[0;34m(\u001b[0m\u001b[0mkey\u001b[0m\u001b[0;34m,\u001b[0m \u001b[0mDataFrame\u001b[0m\u001b[0;34m)\u001b[0m\u001b[0;34m:\u001b[0m\u001b[0;34m\u001b[0m\u001b[0m\n\u001b[1;32m   1993\u001b[0m             \u001b[0;32mreturn\u001b[0m \u001b[0mself\u001b[0m\u001b[0;34m.\u001b[0m\u001b[0m_getitem_frame\u001b[0m\u001b[0;34m(\u001b[0m\u001b[0mkey\u001b[0m\u001b[0;34m)\u001b[0m\u001b[0;34m\u001b[0m\u001b[0m\n",
      "\u001b[0;32m/Users/amos/anaconda/envs/dsi/lib/python2.7/site-packages/pandas/core/frame.pyc\u001b[0m in \u001b[0;36m_getitem_array\u001b[0;34m(self, key)\u001b[0m\n\u001b[1;32m   2033\u001b[0m             \u001b[0;32mreturn\u001b[0m \u001b[0mself\u001b[0m\u001b[0;34m.\u001b[0m\u001b[0mtake\u001b[0m\u001b[0;34m(\u001b[0m\u001b[0mindexer\u001b[0m\u001b[0;34m,\u001b[0m \u001b[0maxis\u001b[0m\u001b[0;34m=\u001b[0m\u001b[0;36m0\u001b[0m\u001b[0;34m,\u001b[0m \u001b[0mconvert\u001b[0m\u001b[0;34m=\u001b[0m\u001b[0mFalse\u001b[0m\u001b[0;34m)\u001b[0m\u001b[0;34m\u001b[0m\u001b[0m\n\u001b[1;32m   2034\u001b[0m         \u001b[0;32melse\u001b[0m\u001b[0;34m:\u001b[0m\u001b[0;34m\u001b[0m\u001b[0m\n\u001b[0;32m-> 2035\u001b[0;31m             \u001b[0mindexer\u001b[0m \u001b[0;34m=\u001b[0m \u001b[0mself\u001b[0m\u001b[0;34m.\u001b[0m\u001b[0mix\u001b[0m\u001b[0;34m.\u001b[0m\u001b[0m_convert_to_indexer\u001b[0m\u001b[0;34m(\u001b[0m\u001b[0mkey\u001b[0m\u001b[0;34m,\u001b[0m \u001b[0maxis\u001b[0m\u001b[0;34m=\u001b[0m\u001b[0;36m1\u001b[0m\u001b[0;34m)\u001b[0m\u001b[0;34m\u001b[0m\u001b[0m\n\u001b[0m\u001b[1;32m   2036\u001b[0m             \u001b[0;32mreturn\u001b[0m \u001b[0mself\u001b[0m\u001b[0;34m.\u001b[0m\u001b[0mtake\u001b[0m\u001b[0;34m(\u001b[0m\u001b[0mindexer\u001b[0m\u001b[0;34m,\u001b[0m \u001b[0maxis\u001b[0m\u001b[0;34m=\u001b[0m\u001b[0;36m1\u001b[0m\u001b[0;34m,\u001b[0m \u001b[0mconvert\u001b[0m\u001b[0;34m=\u001b[0m\u001b[0mTrue\u001b[0m\u001b[0;34m)\u001b[0m\u001b[0;34m\u001b[0m\u001b[0m\n\u001b[1;32m   2037\u001b[0m \u001b[0;34m\u001b[0m\u001b[0m\n",
      "\u001b[0;32m/Users/amos/anaconda/envs/dsi/lib/python2.7/site-packages/pandas/core/indexing.pyc\u001b[0m in \u001b[0;36m_convert_to_indexer\u001b[0;34m(self, obj, axis, is_setter)\u001b[0m\n\u001b[1;32m   1212\u001b[0m                 \u001b[0mmask\u001b[0m \u001b[0;34m=\u001b[0m \u001b[0mcheck\u001b[0m \u001b[0;34m==\u001b[0m \u001b[0;34m-\u001b[0m\u001b[0;36m1\u001b[0m\u001b[0;34m\u001b[0m\u001b[0m\n\u001b[1;32m   1213\u001b[0m                 \u001b[0;32mif\u001b[0m \u001b[0mmask\u001b[0m\u001b[0;34m.\u001b[0m\u001b[0many\u001b[0m\u001b[0;34m(\u001b[0m\u001b[0;34m)\u001b[0m\u001b[0;34m:\u001b[0m\u001b[0;34m\u001b[0m\u001b[0m\n\u001b[0;32m-> 1214\u001b[0;31m                     \u001b[0;32mraise\u001b[0m \u001b[0mKeyError\u001b[0m\u001b[0;34m(\u001b[0m\u001b[0;34m'%s not in index'\u001b[0m \u001b[0;34m%\u001b[0m \u001b[0mobjarr\u001b[0m\u001b[0;34m[\u001b[0m\u001b[0mmask\u001b[0m\u001b[0;34m]\u001b[0m\u001b[0;34m)\u001b[0m\u001b[0;34m\u001b[0m\u001b[0m\n\u001b[0m\u001b[1;32m   1215\u001b[0m \u001b[0;34m\u001b[0m\u001b[0m\n\u001b[1;32m   1216\u001b[0m                 \u001b[0;32mreturn\u001b[0m \u001b[0m_values_from_object\u001b[0m\u001b[0;34m(\u001b[0m\u001b[0mindexer\u001b[0m\u001b[0;34m)\u001b[0m\u001b[0;34m\u001b[0m\u001b[0m\n",
      "\u001b[0;31mKeyError\u001b[0m: \"['GP'] not in index\""
     ]
    }
   ],
   "source": [
    "# non_zero_betas = ['AGE', 'MIN', 'FGA', 'REB', 'PLUS_MINUS','15_19ft_FGA', 'GP',\n",
    "#                   'PLAYER_WEIGHT','NET_RATING','3GMS_IN_4DAYS','PACE']\n",
    "non_zero_betas = ['AGE','GP']\n",
    "min_df = min_df[non_zero_betas]\n",
    "min_df2 = min_df2[non_zero_betas]"
   ]
  },
  {
   "cell_type": "code",
   "execution_count": 34,
   "metadata": {
    "collapsed": false
   },
   "outputs": [
    {
     "ename": "AttributeError",
     "evalue": "'DataFrame' object has no attribute 'GP'",
     "output_type": "error",
     "traceback": [
      "\u001b[0;31m---------------------------------------------------------------------------\u001b[0m",
      "\u001b[0;31mAttributeError\u001b[0m                            Traceback (most recent call last)",
      "\u001b[0;32m<ipython-input-34-d077d3e5682f>\u001b[0m in \u001b[0;36m<module>\u001b[0;34m()\u001b[0m\n\u001b[0;32m----> 1\u001b[0;31m \u001b[0mtrainy\u001b[0m \u001b[0;34m=\u001b[0m \u001b[0mmin_df\u001b[0m\u001b[0;34m.\u001b[0m\u001b[0mGP\u001b[0m\u001b[0;34m.\u001b[0m\u001b[0mvalues\u001b[0m\u001b[0;34m\u001b[0m\u001b[0m\n\u001b[0m\u001b[1;32m      2\u001b[0m \u001b[0mtrainX\u001b[0m \u001b[0;34m=\u001b[0m \u001b[0mmin_df\u001b[0m\u001b[0;34m[\u001b[0m\u001b[0;34m[\u001b[0m\u001b[0mcol\u001b[0m \u001b[0;32mfor\u001b[0m \u001b[0mcol\u001b[0m \u001b[0;32min\u001b[0m \u001b[0mmin_df\u001b[0m\u001b[0;34m.\u001b[0m\u001b[0mcolumns\u001b[0m\u001b[0;34m[\u001b[0m\u001b[0;36m5\u001b[0m\u001b[0;34m:\u001b[0m\u001b[0;34m]\u001b[0m \u001b[0;32mif\u001b[0m \u001b[0mcol\u001b[0m \u001b[0;34m!=\u001b[0m \u001b[0;34m'GP'\u001b[0m\u001b[0;34m]\u001b[0m\u001b[0;34m]\u001b[0m\u001b[0;34m\u001b[0m\u001b[0m\n\u001b[1;32m      3\u001b[0m \u001b[0mtesty\u001b[0m \u001b[0;34m=\u001b[0m \u001b[0mmin_df2\u001b[0m\u001b[0;34m.\u001b[0m\u001b[0mGP\u001b[0m\u001b[0;34m.\u001b[0m\u001b[0mvalues\u001b[0m\u001b[0;34m\u001b[0m\u001b[0m\n\u001b[1;32m      4\u001b[0m \u001b[0mtestX\u001b[0m \u001b[0;34m=\u001b[0m \u001b[0mmin_df2\u001b[0m\u001b[0;34m[\u001b[0m\u001b[0;34m[\u001b[0m\u001b[0mcol\u001b[0m \u001b[0;32mfor\u001b[0m \u001b[0mcol\u001b[0m \u001b[0;32min\u001b[0m \u001b[0mmin_df2\u001b[0m\u001b[0;34m.\u001b[0m\u001b[0mcolumns\u001b[0m\u001b[0;34m[\u001b[0m\u001b[0;36m5\u001b[0m\u001b[0;34m:\u001b[0m\u001b[0;34m]\u001b[0m \u001b[0;32mif\u001b[0m \u001b[0mcol\u001b[0m \u001b[0;34m!=\u001b[0m \u001b[0;34m'GP'\u001b[0m\u001b[0;34m]\u001b[0m\u001b[0;34m]\u001b[0m\u001b[0;34m\u001b[0m\u001b[0m\n\u001b[1;32m      5\u001b[0m \u001b[0;32mprint\u001b[0m \u001b[0mtrainy\u001b[0m\u001b[0;34m.\u001b[0m\u001b[0mshape\u001b[0m\u001b[0;34m,\u001b[0m \u001b[0mtrainX\u001b[0m\u001b[0;34m.\u001b[0m\u001b[0mshape\u001b[0m\u001b[0;34m\u001b[0m\u001b[0m\n",
      "\u001b[0;32m/Users/amos/anaconda/envs/dsi/lib/python2.7/site-packages/pandas/core/generic.pyc\u001b[0m in \u001b[0;36m__getattr__\u001b[0;34m(self, name)\u001b[0m\n\u001b[1;32m   2670\u001b[0m             \u001b[0;32mif\u001b[0m \u001b[0mname\u001b[0m \u001b[0;32min\u001b[0m \u001b[0mself\u001b[0m\u001b[0;34m.\u001b[0m\u001b[0m_info_axis\u001b[0m\u001b[0;34m:\u001b[0m\u001b[0;34m\u001b[0m\u001b[0m\n\u001b[1;32m   2671\u001b[0m                 \u001b[0;32mreturn\u001b[0m \u001b[0mself\u001b[0m\u001b[0;34m[\u001b[0m\u001b[0mname\u001b[0m\u001b[0;34m]\u001b[0m\u001b[0;34m\u001b[0m\u001b[0m\n\u001b[0;32m-> 2672\u001b[0;31m             \u001b[0;32mreturn\u001b[0m \u001b[0mobject\u001b[0m\u001b[0;34m.\u001b[0m\u001b[0m__getattribute__\u001b[0m\u001b[0;34m(\u001b[0m\u001b[0mself\u001b[0m\u001b[0;34m,\u001b[0m \u001b[0mname\u001b[0m\u001b[0;34m)\u001b[0m\u001b[0;34m\u001b[0m\u001b[0m\n\u001b[0m\u001b[1;32m   2673\u001b[0m \u001b[0;34m\u001b[0m\u001b[0m\n\u001b[1;32m   2674\u001b[0m     \u001b[0;32mdef\u001b[0m \u001b[0m__setattr__\u001b[0m\u001b[0;34m(\u001b[0m\u001b[0mself\u001b[0m\u001b[0;34m,\u001b[0m \u001b[0mname\u001b[0m\u001b[0;34m,\u001b[0m \u001b[0mvalue\u001b[0m\u001b[0;34m)\u001b[0m\u001b[0;34m:\u001b[0m\u001b[0;34m\u001b[0m\u001b[0m\n",
      "\u001b[0;31mAttributeError\u001b[0m: 'DataFrame' object has no attribute 'GP'"
     ]
    }
   ],
   "source": [
    "trainy = min_df.GP.values\n",
    "trainX = min_df[[col for col in min_df.columns[5:] if col != 'GP']]\n",
    "testy = min_df2.GP.values\n",
    "testX = min_df2[[col for col in min_df2.columns[5:] if col != 'GP']]\n",
    "print trainy.shape, trainX.shape\n",
    "print testy.shape, testX.shape\n"
   ]
  },
  {
   "cell_type": "code",
   "execution_count": 29,
   "metadata": {
    "collapsed": true
   },
   "outputs": [],
   "source": [
    "lass = Lasso()\n",
    "model = lass.fit(trainX, trainy)\n"
   ]
  },
  {
   "cell_type": "code",
   "execution_count": 30,
   "metadata": {
    "collapsed": false
   },
   "outputs": [
    {
     "data": {
      "text/plain": [
       "0.041475190336359824"
      ]
     },
     "execution_count": 30,
     "metadata": {},
     "output_type": "execute_result"
    }
   ],
   "source": [
    "model.score(testX, testy)"
   ]
  },
  {
   "cell_type": "code",
   "execution_count": 31,
   "metadata": {
    "collapsed": true
   },
   "outputs": [],
   "source": [
    "lin = LinearRegression()\n",
    "model = lin.fit(trainX, trainy)"
   ]
  },
  {
   "cell_type": "code",
   "execution_count": 32,
   "metadata": {
    "collapsed": false
   },
   "outputs": [
    {
     "data": {
      "text/plain": [
       "0.01724800019459205"
      ]
     },
     "execution_count": 32,
     "metadata": {},
     "output_type": "execute_result"
    }
   ],
   "source": [
    "model.score(testX, testy)"
   ]
  },
  {
   "cell_type": "code",
   "execution_count": null,
   "metadata": {
    "collapsed": true
   },
   "outputs": [],
   "source": []
  }
 ],
 "metadata": {
  "anaconda-cloud": {},
  "kernelspec": {
   "display_name": "Python [dsi]",
   "language": "python",
   "name": "Python [dsi]"
  },
  "language_info": {
   "codemirror_mode": {
    "name": "ipython",
    "version": 2
   },
   "file_extension": ".py",
   "mimetype": "text/x-python",
   "name": "python",
   "nbconvert_exporter": "python",
   "pygments_lexer": "ipython2",
   "version": "2.7.12"
  }
 },
 "nbformat": 4,
 "nbformat_minor": 0
}
