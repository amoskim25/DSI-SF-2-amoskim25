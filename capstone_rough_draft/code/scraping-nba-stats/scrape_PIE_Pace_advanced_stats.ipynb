{
 "cells": [
  {
   "cell_type": "markdown",
   "metadata": {},
   "source": [
    "# Scrape advanced stats for pace, pie"
   ]
  },
  {
   "cell_type": "code",
   "execution_count": 1,
   "metadata": {
    "collapsed": true
   },
   "outputs": [],
   "source": [
    "import numpy as np\n",
    "import pandas as pd\n",
    "import seaborn as sns\n",
    "import scipy.stats as stats\n",
    "\n",
    "import requests\n",
    "import time\n",
    "from scrapy.selector import Selector\n",
    "from scrapy.http import HtmlResponse\n",
    "from selenium import webdriver\n",
    "from bs4 import BeautifulSoup\n",
    "import json\n",
    "\n",
    "chromedriver = \"/Users/amos/Desktop/chromedriver\""
   ]
  },
  {
   "cell_type": "code",
   "execution_count": 2,
   "metadata": {
    "collapsed": true
   },
   "outputs": [],
   "source": [
    "# opens selenium webdriver\n",
    "browser = webdriver.Chrome(executable_path= chromedriver)"
   ]
  },
  {
   "cell_type": "code",
   "execution_count": 3,
   "metadata": {
    "collapsed": true
   },
   "outputs": [],
   "source": [
    "url = 'http://stats.nba.com/stats/leaguedashplayerstats?College=&Conference=&Country=&DateFrom=&DateTo=\\\n",
    "&Division=&DraftPick=&DraftYear=&GameScope=&GameSegment=&Height=&LastNGames=0&LeagueID=00&Location=\\\n",
    "&MeasureType=Advanced&Month=0&OpponentTeamID=0&Outcome=&PORound=0&PaceAdjust=N&PerMode=Totals&Period=0\\\n",
    "&PlayerExperience=&PlayerPosition=&PlusMinus=N&Rank=N&Season=%s&SeasonSegment=&SeasonType=Regular+Season\\\n",
    "&ShotClockRange=&StarterBench=&TeamID=0&VsConference=&VsDivision=&Weight'"
   ]
  },
  {
   "cell_type": "code",
   "execution_count": 5,
   "metadata": {
    "collapsed": false
   },
   "outputs": [
    {
     "data": {
      "text/plain": [
       "[u'2015-16',\n",
       " u'2014-15',\n",
       " u'2013-14',\n",
       " u'2012-13',\n",
       " u'2011-12',\n",
       " u'2010-11',\n",
       " u'2009-10',\n",
       " u'2008-09',\n",
       " u'2007-08',\n",
       " u'2006-07',\n",
       " u'2005-06',\n",
       " u'2004-05',\n",
       " u'2003-04',\n",
       " u'2002-03',\n",
       " u'2001-02',\n",
       " u'2000-01',\n",
       " u'1999-00',\n",
       " u'1998-99',\n",
       " u'1997-98',\n",
       " u'1996-97']"
      ]
     },
     "execution_count": 5,
     "metadata": {},
     "output_type": "execute_result"
    }
   ],
   "source": [
    "# create a list of years from 96' to 16'\n",
    "browser.get('http://stats.nba.com/league/player/#!/advanced/')\n",
    "#json html format\n",
    "HTML = browser.page_source\n",
    "years = Selector(text=HTML).xpath(\"//select[@name='Season']/option/text()\").extract()[1:]\n",
    "years"
   ]
  },
  {
   "cell_type": "code",
   "execution_count": 14,
   "metadata": {
    "collapsed": false,
    "scrolled": true
   },
   "outputs": [
    {
     "name": "stdout",
     "output_type": "stream",
     "text": [
      "2015-16\n",
      "2014-15\n",
      "2013-14\n",
      "2012-13\n",
      "2011-12\n",
      "2010-11\n",
      "2009-10\n",
      "2008-09\n",
      "2007-08\n",
      "2006-07\n",
      "2005-06\n",
      "2004-05\n",
      "2003-04\n",
      "2002-03\n",
      "2001-02\n",
      "2000-01\n",
      "1999-00\n",
      "1998-99\n",
      "1997-98\n",
      "1996-97\n"
     ]
    }
   ],
   "source": [
    "\n",
    "for year in years:\n",
    "    print year\n",
    "    link = url % year\n",
    "    #selenium browser opens link\n",
    "    browser.get(link)\n",
    "    HTML = browser.page_source\n",
    "    soup = BeautifulSoup(HTML)\n",
    "\n",
    "    get_text = soup.findAll('pre')[0].getText().encode('utf-8')\n",
    "    json_text = json.loads(get_text)\n",
    "    \n",
    "    df = pd.DataFrame(json_text['resultSets'][0]['rowSet'], columns=json_text['resultSets'][0]['headers']) \n",
    "    df = df[['PLAYER_NAME', 'TEAM_ABBREVIATION', 'AGE', 'PACE', 'PIE']]\n",
    "    save_csv = '/Users/amos/Desktop/DSI-SF-2-amoskim25/copy_capstone/datasets/pace_pie/pace_pie%s.csv' % year\n",
    "    df.to_csv(save_csv)\n",
    "# #     time.sleep(5*np.random.rand())\n",
    "\n"
   ]
  },
  {
   "cell_type": "code",
   "execution_count": null,
   "metadata": {
    "collapsed": true
   },
   "outputs": [],
   "source": []
  }
 ],
 "metadata": {
  "kernelspec": {
   "display_name": "Python [dsi]",
   "language": "python",
   "name": "Python [dsi]"
  },
  "language_info": {
   "codemirror_mode": {
    "name": "ipython",
    "version": 2
   },
   "file_extension": ".py",
   "mimetype": "text/x-python",
   "name": "python",
   "nbconvert_exporter": "python",
   "pygments_lexer": "ipython2",
   "version": "2.7.12"
  }
 },
 "nbformat": 4,
 "nbformat_minor": 0
}
