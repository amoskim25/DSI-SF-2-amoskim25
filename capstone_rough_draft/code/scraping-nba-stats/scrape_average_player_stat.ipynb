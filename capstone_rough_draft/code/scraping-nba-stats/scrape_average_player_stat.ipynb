{
 "cells": [
  {
   "cell_type": "code",
   "execution_count": 1,
   "metadata": {
    "collapsed": false
   },
   "outputs": [],
   "source": [
    "import numpy as np\n",
    "import pandas as pd\n",
    "import seaborn as sns\n",
    "\n",
    "import requests\n",
    "import time\n",
    "from scrapy.selector import Selector\n",
    "from scrapy.http import HtmlResponse\n",
    "from selenium import webdriver\n",
    "from bs4 import BeautifulSoup\n",
    "import json\n",
    "\n",
    "chromedriver = \"/Users/amos/Desktop/chromedriver\""
   ]
  },
  {
   "cell_type": "code",
   "execution_count": 2,
   "metadata": {
    "collapsed": true
   },
   "outputs": [],
   "source": [
    "browser = webdriver.Chrome(executable_path= chromedriver)"
   ]
  },
  {
   "cell_type": "code",
   "execution_count": 20,
   "metadata": {
    "collapsed": false
   },
   "outputs": [],
   "source": [
    "# player_stat = \"http://stats.nba.com/stats/leaguedashplayerstats?College=&Conference=&Country=&DateFrom=&DateTo=&Division=&DraftPick=&DraftYear=&GameScope=&GameSegment=&Height=&LastNGames=0&LeagueID=00&Location=&MeasureType=Base&Month=0&OpponentTeamID=0&Outcome=&PORound=0&PaceAdjust=N&PerMode=PerGame&Period=0&PlayerExperience=&PlayerPosition=&PlusMinus=N&Rank=N&Season=%s&SeasonSegment=&SeasonType=Regular+Season&ShotClockRange=&StarterBench=&TeamID=0&VsConference=&VsDivision=&Weight=\""
   ]
  },
  {
   "cell_type": "code",
   "execution_count": 23,
   "metadata": {
    "collapsed": true
   },
   "outputs": [],
   "source": [
    "player_stat = \"http://stats.nba.com/stats/leaguedashplayerstats?College=&Conference=&Country=&\\\n",
    "DateFrom=&DateTo=&Division=&DraftPick=&DraftYear=&GameScope=&GameSegment=&Height=&LastNGames=0&\\\n",
    "LeagueID=00&Location=&MeasureType=Base&Month=0&OpponentTeamID=0&Outcome=&PORound=0&PaceAdjust=N&\\\n",
    "PerMode=PerGame&Period=0&PlayerExperience=&PlayerPosition=&PlusMinus=N&Rank=N&Season=%s&\\\n",
    "SeasonSegment=&SeasonType=Regular+Season&ShotClockRange=&StarterBench=&TeamID=0&VsConference=&VsDivision=&Weight=\""
   ]
  },
  {
   "cell_type": "code",
   "execution_count": 24,
   "metadata": {
    "collapsed": true
   },
   "outputs": [],
   "source": [
    "browser.get('http://stats.nba.com/league/player/#!/')\n",
    "HTML = browser.page_source\n",
    "years = Selector(text=HTML).xpath(\"//select[@name='Season']/option/text()\").extract()"
   ]
  },
  {
   "cell_type": "code",
   "execution_count": 25,
   "metadata": {
    "collapsed": false
   },
   "outputs": [
    {
     "data": {
      "text/plain": [
       "[u'2015-16',\n",
       " u'2014-15',\n",
       " u'2013-14',\n",
       " u'2012-13',\n",
       " u'2011-12',\n",
       " u'2010-11',\n",
       " u'2009-10',\n",
       " u'2008-09',\n",
       " u'2007-08',\n",
       " u'2006-07',\n",
       " u'2005-06',\n",
       " u'2004-05',\n",
       " u'2003-04',\n",
       " u'2002-03',\n",
       " u'2001-02',\n",
       " u'2000-01',\n",
       " u'1999-00',\n",
       " u'1998-99',\n",
       " u'1997-98',\n",
       " u'1996-97']"
      ]
     },
     "execution_count": 25,
     "metadata": {},
     "output_type": "execute_result"
    }
   ],
   "source": [
    "years"
   ]
  },
  {
   "cell_type": "code",
   "execution_count": 9,
   "metadata": {
    "collapsed": false
   },
   "outputs": [],
   "source": [
    "# def scrape(year, link):\n",
    "#     link = link % year\n",
    "#     browser.get(link)\n",
    "#     HTML = browser.page_source\n",
    "#     soup  = BeautifulSoup(HTML)\n",
    "#     return soup\n"
   ]
  },
  {
   "cell_type": "code",
   "execution_count": 36,
   "metadata": {
    "collapsed": false,
    "scrolled": false
   },
   "outputs": [
    {
     "name": "stdout",
     "output_type": "stream",
     "text": [
      "2015-16\n",
      "=================================\n",
      "2014-15\n",
      "=================================\n",
      "2013-14\n",
      "=================================\n",
      "2012-13\n",
      "=================================\n",
      "2011-12\n",
      "=================================\n",
      "2010-11\n",
      "=================================\n",
      "2009-10\n",
      "=================================\n",
      "2008-09\n",
      "=================================\n",
      "2007-08\n",
      "=================================\n",
      "2006-07\n",
      "=================================\n",
      "2005-06\n",
      "=================================\n",
      "2004-05\n",
      "=================================\n",
      "2003-04\n",
      "=================================\n",
      "2002-03\n",
      "=================================\n",
      "2001-02\n",
      "=================================\n",
      "2000-01\n",
      "=================================\n",
      "1999-00\n",
      "=================================\n",
      "1998-99\n",
      "=================================\n",
      "1997-98\n",
      "=================================\n",
      "1996-97\n",
      "=================================\n"
     ]
    }
   ],
   "source": [
    "for y in years:\n",
    "    print y\n",
    "    link = player_stat % y\n",
    "    browser.get(link)\n",
    "    HTML = browser.page_source\n",
    "    print \"=================================\"\n",
    "    soup = BeautifulSoup(HTML)\n",
    "#     print json\n",
    "#     print \"===================\"\n",
    "#     #print json['resultSets'][0]['rowSet']\n",
    "# #     soup = scrape(y, player_stat)\n",
    "    #get_text = soup.findAll\n",
    "    get_text = soup.findAll('pre')[0].getText().encode('utf-8')\n",
    "    json_text = json.loads(get_text)\n",
    "    df = pd.DataFrame(json_text['resultSets'][0]['rowSet'], columns=json_text['resultSets'][0]['headers']) \n",
    "    save_csv = '/Users/amos/Desktop/DSI-SF-2-amoskim25/copy_capstone/datasets/player_avgs/player_average_%s.csv' % y\n",
    "    df.to_csv(save_csv)\n",
    "    time.sleep(5*np.random.rand())"
   ]
  },
  {
   "cell_type": "code",
   "execution_count": null,
   "metadata": {
    "collapsed": true
   },
   "outputs": [],
   "source": []
  }
 ],
 "metadata": {
  "anaconda-cloud": {},
  "kernelspec": {
   "display_name": "Python [dsi]",
   "language": "python",
   "name": "Python [dsi]"
  },
  "language_info": {
   "codemirror_mode": {
    "name": "ipython",
    "version": 2
   },
   "file_extension": ".py",
   "mimetype": "text/x-python",
   "name": "python",
   "nbconvert_exporter": "python",
   "pygments_lexer": "ipython2",
   "version": "2.7.12"
  }
 },
 "nbformat": 4,
 "nbformat_minor": 0
}
