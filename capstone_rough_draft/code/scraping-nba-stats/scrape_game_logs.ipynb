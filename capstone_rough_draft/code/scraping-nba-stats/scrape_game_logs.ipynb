{
 "cells": [
  {
   "cell_type": "code",
   "execution_count": 1,
   "metadata": {
    "collapsed": true
   },
   "outputs": [],
   "source": [
    "\n",
    "import numpy as np\n",
    "import pandas as pd\n",
    "import seaborn as sns\n",
    "import scipy.stats as stats\n",
    "\n",
    "import requests\n",
    "import time\n",
    "from scrapy.selector import Selector\n",
    "from scrapy.http import HtmlResponse\n",
    "from selenium import webdriver\n",
    "from bs4 import BeautifulSoup\n",
    "import json\n",
    "\n",
    "chromedriver = \"/Users/amos/Desktop/chromedriver\""
   ]
  },
  {
   "cell_type": "code",
   "execution_count": 14,
   "metadata": {
    "collapsed": true
   },
   "outputs": [],
   "source": [
    "# opens selenium webdriver\n",
    "browser = webdriver.Chrome(executable_path= chromedriver)"
   ]
  },
  {
   "cell_type": "code",
   "execution_count": 3,
   "metadata": {
    "collapsed": true
   },
   "outputs": [],
   "source": [
    "game_log = 'http://stats.nba.com/stats/leaguegamelog?Counter=1000&Direction=DESC&LeagueID=00&PlayerOrTeam=P&Season=%s&SeasonType=Regular+Season&Sorter=PTS'"
   ]
  },
  {
   "cell_type": "code",
   "execution_count": 5,
   "metadata": {
    "collapsed": true
   },
   "outputs": [],
   "source": [
    "browser.get('http://stats.nba.com/league/player/#!/gamelogs/')\n",
    "#json html format\n",
    "HTML_logs = browser.page_source\n",
    "logs_year = Selector(text=HTML_logs).xpath(\"//select[@name='Season']/option/text()\").extract()\n"
   ]
  },
  {
   "cell_type": "code",
   "execution_count": 11,
   "metadata": {
    "collapsed": false,
    "scrolled": true
   },
   "outputs": [],
   "source": [
    "years = logs_year[1:]"
   ]
  },
  {
   "cell_type": "code",
   "execution_count": 15,
   "metadata": {
    "collapsed": false
   },
   "outputs": [
    {
     "name": "stdout",
     "output_type": "stream",
     "text": [
      "2015-16\n"
     ]
    },
    {
     "name": "stderr",
     "output_type": "stream",
     "text": [
      "/Users/amos/anaconda/envs/dsi/lib/python2.7/site-packages/bs4/__init__.py:166: UserWarning: No parser was explicitly specified, so I'm using the best available HTML parser for this system (\"lxml\"). This usually isn't a problem, but if you run this code on another system, or in a different virtual environment, it may use a different parser and behave differently.\n",
      "\n",
      "To get rid of this warning, change this:\n",
      "\n",
      " BeautifulSoup([your markup])\n",
      "\n",
      "to this:\n",
      "\n",
      " BeautifulSoup([your markup], \"lxml\")\n",
      "\n",
      "  markup_type=markup_type))\n"
     ]
    },
    {
     "name": "stdout",
     "output_type": "stream",
     "text": [
      "2014-15\n",
      "2013-14\n",
      "2012-13\n",
      "2011-12\n",
      "2010-11\n",
      "2009-10\n",
      "2008-09\n",
      "2007-08\n",
      "2006-07\n",
      "2005-06\n",
      "2004-05\n",
      "2003-04\n",
      "2002-03\n",
      "2001-02\n",
      "2000-01\n",
      "1999-00\n",
      "1998-99\n",
      "1997-98\n",
      "1996-97\n",
      "1995-96\n",
      "1994-95\n",
      "1993-94\n",
      "1992-93\n",
      "1991-92\n",
      "1990-91\n",
      "1989-90\n",
      "1988-89\n",
      "1987-88\n",
      "1986-87\n",
      "1985-86\n",
      "1984-85\n",
      "1983-84\n",
      "1982-83\n",
      "1981-82\n",
      "1980-81\n",
      "1979-80\n",
      "1978-79\n",
      "1977-78\n",
      "1976-77\n",
      "1975-76\n",
      "1974-75\n",
      "1973-74\n",
      "1972-73\n",
      "1971-72\n",
      "1970-71\n",
      "1969-70\n",
      "1968-69\n",
      "1967-68\n",
      "1966-67\n",
      "1965-66\n",
      "1964-65\n",
      "1963-64\n",
      "1962-63\n",
      "1961-62\n",
      "1960-61\n",
      "1959-60\n",
      "1958-59\n",
      "1957-58\n",
      "1956-57\n",
      "1955-56\n",
      "1954-55\n",
      "1953-54\n",
      "1952-53\n",
      "1951-52\n",
      "1950-51\n",
      "1949-50\n",
      "1948-49\n",
      "1947-48\n",
      "1946-47\n"
     ]
    }
   ],
   "source": [
    "# browser = webdriver.Chrome(executable_path= chromedriver)\n",
    "for year in years:\n",
    "    print year\n",
    "    link = game_log % year\n",
    "    #selenium browser opens link\n",
    "    browser.get(link)\n",
    "    HTML_logs = browser.page_source\n",
    "    soup = BeautifulSoup(HTML_logs)\n",
    "    get_text = soup.findAll('pre')[0].getText().encode('utf-8')\n",
    "    json_text = json.loads(get_text)\n",
    "    \n",
    "    df = pd.DataFrame(json_text['resultSets'][0]['rowSet'], columns=json_text['resultSets'][0]['headers']) \n",
    "    save_csv = '/Users/amos/Desktop/DSI-SF-2-amoskim25/nbastats/game_logs%s.csv' % year\n",
    "    df.to_csv(save_csv)\n",
    "    time.sleep(5*np.random.rand())"
   ]
  },
  {
   "cell_type": "code",
   "execution_count": null,
   "metadata": {
    "collapsed": true
   },
   "outputs": [],
   "source": []
  }
 ],
 "metadata": {
  "anaconda-cloud": {},
  "kernelspec": {
   "display_name": "Python [dsi]",
   "language": "python",
   "name": "Python [dsi]"
  },
  "language_info": {
   "codemirror_mode": {
    "name": "ipython",
    "version": 2
   },
   "file_extension": ".py",
   "mimetype": "text/x-python",
   "name": "python",
   "nbconvert_exporter": "python",
   "pygments_lexer": "ipython2",
   "version": "2.7.12"
  }
 },
 "nbformat": 4,
 "nbformat_minor": 0
}
