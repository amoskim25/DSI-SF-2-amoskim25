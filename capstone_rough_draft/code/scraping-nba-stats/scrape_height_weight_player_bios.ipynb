{
 "cells": [
  {
   "cell_type": "markdown",
   "metadata": {},
   "source": [
    "\n",
    "# Scrape player bios for there height and weight\n"
   ]
  },
  {
   "cell_type": "code",
   "execution_count": 1,
   "metadata": {
    "collapsed": true
   },
   "outputs": [],
   "source": [
    "import numpy as np\n",
    "import pandas as pd\n",
    "import seaborn as sns\n",
    "\n",
    "import requests\n",
    "import time\n",
    "from scrapy.selector import Selector\n",
    "from scrapy.http import HtmlResponse\n",
    "from selenium import webdriver\n",
    "from bs4 import BeautifulSoup\n",
    "import json\n",
    "\n",
    "chromedriver = \"/Users/amos/Desktop/chromedriver\"\n",
    "\n",
    "# browser = webdriver.Chrome(executable_path= chromedriver)\n",
    "\n",
    "# stat = \"http://stats.nba.com/stats/leaguedashplayerstats?College=&Conference=&Country=&\\\n",
    "# DateFrom=&DateTo=&Division=&DraftPick=&DraftYear=&GameScope=&GameSegment=&Height=&LastNGames=0&\\\n",
    "# LeagueID=00&Location=&MeasureType=Base&Month=0&OpponentTeamID=0&Outcome=&PORound=0&PaceAdjust=N&\\\n",
    "# PerMode=PerGame&Period=0&PlayerExperience=&PlayerPosition=%s&PlusMinus=N&Rank=N&Season=%s&\\\n",
    "# SeasonSegment=&SeasonType=Regular+Season&ShotClockRange=&StarterBench=&TeamID=0&VsConference=&VsDivision=&Weight=\"\n",
    "\n",
    "# browser.get('http://stats.nba.com/league/player/#!/')\n",
    "# HTML = browser.page_source\n",
    "# years = Selector(text=HTML).xpath(\"//select[@name='Season']/option/text()\").extract()\n",
    "\n",
    "# position = ['F', 'C', 'G']\n",
    "\n",
    "# for pos in position:\n",
    "#     for y in years:\n",
    "#         print y\n",
    "#         link = stat % ('F', y)\n",
    "#         browser.get(link)\n",
    "#         HTML = browser.page_source\n",
    "#         print \"=================================\"\n",
    "#         soup = BeautifulSoup(HTML, 'lxml')\n",
    "#         get_text = soup.findAll('pre')[0].getText().encode('utf-8')\n",
    "#         json_text = json.loads(get_text)\n",
    "#         df = pd.DataFrame(json_text['resultSets'][0]['rowSet'], columns=json_text['resultSets'][0]['headers']) \n",
    "#         df['PLAYER_POSITION'] = pos\n",
    "#         save_csv = '/Users/amos/Desktop/DSI-SF-2-amoskim25/copy_capstone/datasets/player_avgs/%splayer_average_%s.csv' % (pos,y)\n",
    "#         df.to_csv(save_csv)\n",
    "#         time.sleep(5*np.random.rand())"
   ]
  },
  {
   "cell_type": "code",
   "execution_count": 2,
   "metadata": {
    "collapsed": true
   },
   "outputs": [],
   "source": [
    "browser = webdriver.Chrome(executable_path= chromedriver)"
   ]
  },
  {
   "cell_type": "code",
   "execution_count": 3,
   "metadata": {
    "collapsed": true
   },
   "outputs": [],
   "source": [
    "stat = 'http://stats.nba.com/stats/leaguedashplayerbiostats?College=&Conference=\\\n",
    "&Country=&DateFrom=&DateTo=&Division=&DraftPick=&DraftYear=&GameScope=&GameSegment=\\\n",
    "&Height=&LastNGames=0&LeagueID=00&Location=&Month=0&OpponentTeamID=0&Outcome=&PORound=0\\\n",
    "&PerMode=PerGame&Period=0&PlayerExperience=&PlayerPosition=&Season=%s\\\n",
    "&SeasonSegment=&SeasonType=Regular+Season&ShotClockRange=&StarterBench=&TeamID=0&VsConference=&VsDivision=&Weight='"
   ]
  },
  {
   "cell_type": "code",
   "execution_count": 4,
   "metadata": {
    "collapsed": false
   },
   "outputs": [
    {
     "data": {
      "text/plain": [
       "[u'2015-16',\n",
       " u'2014-15',\n",
       " u'2013-14',\n",
       " u'2012-13',\n",
       " u'2011-12',\n",
       " u'2010-11',\n",
       " u'2009-10',\n",
       " u'2008-09',\n",
       " u'2007-08',\n",
       " u'2006-07',\n",
       " u'2005-06',\n",
       " u'2004-05',\n",
       " u'2003-04',\n",
       " u'2002-03',\n",
       " u'2001-02',\n",
       " u'2000-01',\n",
       " u'1999-00',\n",
       " u'1998-99',\n",
       " u'1997-98',\n",
       " u'1996-97']"
      ]
     },
     "execution_count": 4,
     "metadata": {},
     "output_type": "execute_result"
    }
   ],
   "source": [
    "browser.get('http://stats.nba.com/league/player/#!/bio/')\n",
    "HTML = browser.page_source\n",
    "years = Selector(text=HTML).xpath(\"//select[@name='Season']/option/text()\").extract()\n",
    "years"
   ]
  },
  {
   "cell_type": "code",
   "execution_count": 9,
   "metadata": {
    "collapsed": false
   },
   "outputs": [
    {
     "name": "stdout",
     "output_type": "stream",
     "text": [
      "2015-16\n",
      "2014-15\n",
      "2013-14\n",
      "2012-13\n",
      "2011-12\n",
      "2010-11\n",
      "2009-10\n",
      "2008-09\n",
      "2007-08\n",
      "2006-07\n",
      "2005-06\n",
      "2004-05\n",
      "2003-04\n",
      "2002-03\n",
      "2001-02\n",
      "2000-01\n",
      "1999-00\n",
      "1998-99\n",
      "1997-98\n",
      "1996-97\n"
     ]
    }
   ],
   "source": [
    "\n",
    "for y in years:\n",
    "    print y\n",
    "    link = stat % y\n",
    "    browser.get(link)\n",
    "    HTML = browser.page_source\n",
    "    soup = BeautifulSoup(HTML, 'lxml')\n",
    "    get_text = soup.findAll('pre')[0].getText().encode('utf-8')\n",
    "    json_text = json.loads(get_text)\n",
    "    df = pd.DataFrame(json_text['resultSets'][0]['rowSet'], columns=json_text['resultSets'][0]['headers']) \n",
    "    df.drop(['PLAYER_HEIGHT', 'COLLEGE', 'COUNTRY', 'DRAFT_YEAR',\n",
    "            'DRAFT_ROUND', 'DRAFT_NUMBER', 'GP', 'PTS', 'REB','AST',\n",
    "            'OREB_PCT', 'DREB_PCT', 'AST_PCT'], axis=1, inplace=True)\n",
    "    save_csv = '/Users/amos/Desktop/DSI-SF-2-amoskim25/copy_capstone/datasets/player_bios/player_bios%s.csv' % y\n",
    "    df.to_csv(save_csv)\n",
    "    "
   ]
  },
  {
   "cell_type": "code",
   "execution_count": null,
   "metadata": {
    "collapsed": true
   },
   "outputs": [],
   "source": []
  }
 ],
 "metadata": {
  "kernelspec": {
   "display_name": "Python [dsi]",
   "language": "python",
   "name": "Python [dsi]"
  },
  "language_info": {
   "codemirror_mode": {
    "name": "ipython",
    "version": 2
   },
   "file_extension": ".py",
   "mimetype": "text/x-python",
   "name": "python",
   "nbconvert_exporter": "python",
   "pygments_lexer": "ipython2",
   "version": "2.7.12"
  }
 },
 "nbformat": 4,
 "nbformat_minor": 0
}
