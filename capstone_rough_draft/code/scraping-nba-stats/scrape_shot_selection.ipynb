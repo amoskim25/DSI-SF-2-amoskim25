{
 "cells": [
  {
   "cell_type": "markdown",
   "metadata": {},
   "source": [
    "## Scraping shot selection for each player per year from 1996-2016.\n",
    "- Selenium webdriver and bs4.BeautifulSoup were imported to scrape the data on nba stats.\n"
   ]
  },
  {
   "cell_type": "code",
   "execution_count": 35,
   "metadata": {
    "collapsed": true
   },
   "outputs": [],
   "source": [
    "import pandas as pd\n",
    "\n",
    "import requests\n",
    "import time\n",
    "from scrapy.selector import Selector\n",
    "from scrapy.http import HtmlResponse\n",
    "from selenium import webdriver\n",
    "from bs4 import BeautifulSoup\n",
    "import json\n",
    "\n",
    "chromedriver = \"/Users/amos/Desktop/chromedriver\""
   ]
  },
  {
   "cell_type": "code",
   "execution_count": 36,
   "metadata": {
    "collapsed": true
   },
   "outputs": [],
   "source": [
    "# opens selenium webdriver\n",
    "browser = webdriver.Chrome(executable_path= chromedriver)"
   ]
  },
  {
   "cell_type": "code",
   "execution_count": 37,
   "metadata": {
    "collapsed": true
   },
   "outputs": [],
   "source": [
    "browser.get('http://stats.nba.com/league/player/#!/shooting/')\n",
    "#json html format\n",
    "HTML_logs = browser.page_source\n",
    "years = Selector(text=HTML_logs).xpath(\"//select[@name='Season']/option/text()\").extract()"
   ]
  },
  {
   "cell_type": "code",
   "execution_count": 38,
   "metadata": {
    "collapsed": false
   },
   "outputs": [],
   "source": [
    "stats_url = 'http://stats.nba.com/stats/leaguedashplayershotlocations?College=&Conference=&Country=&DateFrom=&DateTo=\\\n",
    "&DistanceRange=5ft+Range&Division=&DraftPick=&DraftYear=&GameScope=&GameSegment=&Height=&LastNGames=0&LeagueID=00&Location=\\\n",
    "&MeasureType=Base&Month=0&OpponentTeamID=0&Outcome=&PORound=0&PaceAdjust=N&PerMode=PerGame&Period=0&PlayerExperience=\\\n",
    "&PlayerPosition=&PlusMinus=N&Rank=N&Season=%s\\\n",
    "&SeasonSegment=&SeasonType=Regular+Season&ShotClockRange=&StarterBench=&TeamID=0&VsConference=&VsDivision=&Weight='"
   ]
  },
  {
   "cell_type": "code",
   "execution_count": 39,
   "metadata": {
    "collapsed": false
   },
   "outputs": [],
   "source": [
    "# Find Header or column names\n",
    "link = stats_url % '2001-02'\n",
    "browser.get(link)\n",
    "HTML = browser.page_source\n",
    "soup = BeautifulSoup(HTML, 'lxml')\n",
    "text = soup.findAll('pre')[0].getText().encode('utf-8')\n",
    "json_text = json.loads(text)\n",
    "shot_ranges = json_text['resultSets']['headers'][0]['columnNames']\n",
    "new_ranges = [rang.replace('-','_').replace('.','').replace(' ', '').\n",
    "                  replace('+','above').lower() for rang in shot_ranges]\n",
    "columns = json_text['resultSets']['headers'][1]['columnNames']\n",
    "fg_list = ['FGM', 'FGA', 'FG_PCT']\n",
    "headers = columns[:5]\n",
    "for rang in new_ranges:\n",
    "    for f in fg_list:\n",
    "        headers.append(rang + '_'+ f)"
   ]
  },
  {
   "cell_type": "code",
   "execution_count": 40,
   "metadata": {
    "collapsed": false
   },
   "outputs": [
    {
     "name": "stdout",
     "output_type": "stream",
     "text": [
      "2015-16\n",
      "2014-15\n",
      "2013-14\n",
      "2012-13\n",
      "2011-12\n",
      "2010-11\n",
      "2009-10\n",
      "2008-09\n",
      "2007-08\n",
      "2006-07\n",
      "2005-06\n",
      "2004-05\n",
      "2003-04\n",
      "2002-03\n",
      "2001-02\n",
      "2000-01\n",
      "1999-00\n",
      "1998-99\n",
      "1997-98\n",
      "1996-97\n"
     ]
    }
   ],
   "source": [
    "# Create Data frame of each player's shot selection for each year from 1996-2016 and save to csv file.\n",
    "for year in years:\n",
    "    print year\n",
    "    link = stats_url % year\n",
    "    #selenium browser opens link\n",
    "    browser.get(link)\n",
    "    HTML = browser.page_source\n",
    "    soup = BeautifulSoup(HTML, \"lxml\")\n",
    "    get_text = soup.findAll('pre')[0].getText().encode('utf-8')\n",
    "    json_text = json.loads(get_text)\n",
    "\n",
    "    \n",
    "    df = pd.DataFrame(json_text['resultSets']['rowSet'], columns=headers) \n",
    "    save_csv = '/Users/amos/Desktop/DSI-SF-2-amoskim25/copy_capstone/datasets/shot_range/shot_range%s.csv' % year\n",
    "    df.to_csv(save_csv)\n",
    "#     time.sleep(5*np.random.rand())\n",
    " "
   ]
  },
  {
   "cell_type": "code",
   "execution_count": 41,
   "metadata": {
    "collapsed": false
   },
   "outputs": [
    {
     "name": "stdout",
     "output_type": "stream",
     "text": [
      "Shot selection based on distance\n",
      "Dimension:  (440, 33)\n",
      "Column names:  Index([u'Unnamed: 0', u'PLAYER_ID', u'PLAYER_NAME', u'TEAM_ID',\n",
      "       u'TEAM_ABBREVIATION', u'AGE', u'lessthan5ft_FGM', u'lessthan5ft_FGA',\n",
      "       u'lessthan5ft_FG_PCT', u'5_9ft_FGM', u'5_9ft_FGA', u'5_9ft_FG_PCT',\n",
      "       u'10_14ft_FGM', u'10_14ft_FGA', u'10_14ft_FG_PCT', u'15_19ft_FGM',\n",
      "       u'15_19ft_FGA', u'15_19ft_FG_PCT', u'20_24ft_FGM', u'20_24ft_FGA',\n",
      "       u'20_24ft_FG_PCT', u'25_29ft_FGM', u'25_29ft_FGA', u'25_29ft_FG_PCT',\n",
      "       u'30_34ft_FGM', u'30_34ft_FGA', u'30_34ft_FG_PCT', u'35_39ft_FGM',\n",
      "       u'35_39ft_FGA', u'35_39ft_FG_PCT', u'40aboveft_FGM', u'40aboveft_FGA',\n",
      "       u'40aboveft_FG_PCT'],\n",
      "      dtype='object')\n"
     ]
    }
   ],
   "source": [
    "# testing out shot selection data for 2001 \n",
    "stats_2001 = pd.read_csv('/Users/amos/Desktop/DSI-SF-2-amoskim25/copy_capstone/datasets/shot_range/shot_range2001-02.csv')\n",
    "print \"Shot selection based on distance\"\n",
    "print \"Dimension: \", stats_2001.shape\n",
    "print \"Column names: \", stats_2001.columns"
   ]
  },
  {
   "cell_type": "code",
   "execution_count": null,
   "metadata": {
    "collapsed": true
   },
   "outputs": [],
   "source": []
  }
 ],
 "metadata": {
  "anaconda-cloud": {},
  "kernelspec": {
   "display_name": "Python [dsi]",
   "language": "python",
   "name": "Python [dsi]"
  },
  "language_info": {
   "codemirror_mode": {
    "name": "ipython",
    "version": 2
   },
   "file_extension": ".py",
   "mimetype": "text/x-python",
   "name": "python",
   "nbconvert_exporter": "python",
   "pygments_lexer": "ipython2",
   "version": "2.7.12"
  }
 },
 "nbformat": 4,
 "nbformat_minor": 0
}
