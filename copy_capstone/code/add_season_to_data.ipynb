{
 "cells": [
  {
   "cell_type": "markdown",
   "metadata": {},
   "source": [
    "# Add 'SEASON' column to following datasets:\n",
    "- opponent_shot_range\n",
    "- player_avgs\n",
    "- shot_range\n",
    "- unassisted_stats"
   ]
  },
  {
   "cell_type": "code",
   "execution_count": 8,
   "metadata": {
    "collapsed": true
   },
   "outputs": [],
   "source": [
    "import pandas as pd"
   ]
  },
  {
   "cell_type": "code",
   "execution_count": 10,
   "metadata": {
    "collapsed": false
   },
   "outputs": [],
   "source": [
    "# seasons 1996-97 to 2015-16\n",
    "seasons = [str(i)+'-'+str(i+1)[-2:] for i in range(1996, 2016)]"
   ]
  },
  {
   "cell_type": "code",
   "execution_count": 6,
   "metadata": {
    "collapsed": true
   },
   "outputs": [],
   "source": [
    "# file directory for datasets\n",
    "avg_file = '/Users/amos/Desktop/DSI-SF-2-amoskim25/copy_capstone/datasets/player_avgs/player_average_%s.csv'\n",
    "unassisted_file = '/Users/amos/Desktop/DSI-SF-2-amoskim25/copy_capstone/datasets/unassisted_stats/unassisted_stats%s.csv'\n",
    "files = [avg_file, unassisted_file]"
   ]
  },
  {
   "cell_type": "code",
   "execution_count": 23,
   "metadata": {
    "collapsed": false
   },
   "outputs": [
    {
     "name": "stdout",
     "output_type": "stream",
     "text": [
      "../datasets/opponent_shot_range/opp_shot_range%s.csv\n",
      "1996-97\n",
      "1997-98\n",
      "1998-99\n",
      "1999-00\n",
      "2000-01\n",
      "2001-02\n",
      "2002-03\n",
      "2003-04\n",
      "2004-05\n",
      "2005-06\n",
      "2006-07\n",
      "2007-08\n",
      "2008-09\n",
      "2009-10\n",
      "2010-11\n",
      "2011-12\n",
      "2012-13\n",
      "2013-14\n",
      "2014-15\n",
      "2015-16\n",
      "../datasets/shot_range/shot_range%s.csv\n",
      "1996-97\n",
      "1997-98\n",
      "1998-99\n",
      "1999-00\n",
      "2000-01\n",
      "2001-02\n",
      "2002-03\n",
      "2003-04\n",
      "2004-05\n",
      "2005-06\n",
      "2006-07\n",
      "2007-08\n",
      "2008-09\n",
      "2009-10\n",
      "2010-11\n",
      "2011-12\n",
      "2012-13\n",
      "2013-14\n",
      "2014-15\n",
      "2015-16\n",
      "../datasets/player_avgs/player_average_%s.csv\n",
      "1996-97\n",
      "1997-98\n",
      "1998-99\n",
      "1999-00\n",
      "2000-01\n",
      "2001-02\n",
      "2002-03\n",
      "2003-04\n",
      "2004-05\n",
      "2005-06\n",
      "2006-07\n",
      "2007-08\n",
      "2008-09\n",
      "2009-10\n",
      "2010-11\n",
      "2011-12\n",
      "2012-13\n",
      "2013-14\n",
      "2014-15\n",
      "2015-16\n",
      "../datasets/unassisted_stats/unassisted_stats%s.csv\n",
      "1996-97\n",
      "1997-98\n",
      "1998-99\n",
      "1999-00\n",
      "2000-01\n",
      "2001-02\n",
      "2002-03\n",
      "2003-04\n",
      "2004-05\n",
      "2005-06\n",
      "2006-07\n",
      "2007-08\n",
      "2008-09\n",
      "2009-10\n",
      "2010-11\n",
      "2011-12\n",
      "2012-13\n",
      "2013-14\n",
      "2014-15\n",
      "2015-16\n"
     ]
    }
   ],
   "source": [
    "for f in files:\n",
    "    print f\n",
    "    for season in seasons:\n",
    "        print season\n",
    "        df = pd.read_csv(f % season)\n",
    "        df['SEASON'] = season[:4]\n",
    "        save_csv = f % season\n",
    "        df.to_csv(save_csv)"
   ]
  },
  {
   "cell_type": "code",
   "execution_count": null,
   "metadata": {
    "collapsed": true
   },
   "outputs": [],
   "source": []
  }
 ],
 "metadata": {
  "kernelspec": {
   "display_name": "Python [dsi]",
   "language": "python",
   "name": "Python [dsi]"
  },
  "language_info": {
   "codemirror_mode": {
    "name": "ipython",
    "version": 2
   },
   "file_extension": ".py",
   "mimetype": "text/x-python",
   "name": "python",
   "nbconvert_exporter": "python",
   "pygments_lexer": "ipython2",
   "version": "2.7.12"
  }
 },
 "nbformat": 4,
 "nbformat_minor": 0
}
