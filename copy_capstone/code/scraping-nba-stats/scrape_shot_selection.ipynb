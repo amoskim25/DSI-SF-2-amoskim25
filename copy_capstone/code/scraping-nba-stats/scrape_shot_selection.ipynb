{
 "cells": [
  {
   "cell_type": "markdown",
   "metadata": {},
   "source": [
    "## Scraping shot selection for each player per year from 1996-2016.\n",
    "- Selenium webdriver and bs4.BeautifulSoup were imported to scrape the data on nba stats.\n"
   ]
  },
  {
   "cell_type": "code",
   "execution_count": 29,
   "metadata": {
    "collapsed": true
   },
   "outputs": [],
   "source": [
    "import pandas as pd\n",
    "\n",
    "import requests\n",
    "import time\n",
    "from scrapy.selector import Selector\n",
    "from scrapy.http import HtmlResponse\n",
    "from selenium import webdriver\n",
    "from bs4 import BeautifulSoup\n",
    "import json\n",
    "\n",
    "chromedriver = \"/Users/amos/Desktop/chromedriver\"\n",
    "\n",
    "# opens selenium webdriver\n",
    "browser = webdriver.Chrome(executable_path= chromedriver)"
   ]
  },
  {
   "cell_type": "code",
   "execution_count": 30,
   "metadata": {
    "collapsed": false
   },
   "outputs": [],
   "source": [
    "browser.get('http://stats.nba.com/league/player/#!/shooting/')\n",
    "#json html format\n",
    "HTML_logs = browser.page_source\n",
    "years = Selector(text=HTML_logs).xpath(\"//select[@name='Season']/option/text()\").extract()\n",
    "years = years[1:]"
   ]
  },
  {
   "cell_type": "code",
   "execution_count": 20,
   "metadata": {
    "collapsed": false
   },
   "outputs": [],
   "source": [
    "stats_url = 'http://stats.nba.com/stats/leaguedashplayershotlocations?College=&Conference=&Country=&DateFrom=&DateTo=\\\n",
    "&DistanceRange=5ft+Range&Division=&DraftPick=&DraftYear=&GameScope=&GameSegment=&Height=&LastNGames=0&LeagueID=00&Location=\\\n",
    "&MeasureType=Base&Month=0&OpponentTeamID=0&Outcome=&PORound=0&PaceAdjust=N&PerMode=PerGame&Period=0&PlayerExperience=\\\n",
    "&PlayerPosition=&PlusMinus=N&Rank=N&Season=%s\\\n",
    "&SeasonSegment=&SeasonType=Regular+Season&ShotClockRange=&StarterBench=&TeamID=0&VsConference=&VsDivision=&Weight='"
   ]
  },
  {
   "cell_type": "code",
   "execution_count": 31,
   "metadata": {
    "collapsed": false
   },
   "outputs": [],
   "source": [
    "# Find Header or column names\n",
    "link = stats_url % '2001-02'\n",
    "browser.get(link)\n",
    "HTML = browser.page_source\n",
    "soup = BeautifulSoup(HTML, 'lxml')\n",
    "text = soup.findAll('pre')[0].getText().encode('utf-8')\n",
    "json_text = json.loads(text)\n",
    "shot_ranges = json_text['resultSets']['headers'][0]['columnNames']\n",
    "new_ranges = [rang.replace('-','_').replace('.','').replace(' ', '').\n",
    "                  replace('+','above').lower() for rang in shot_ranges]\n",
    "columns = json_text['resultSets']['headers'][1]['columnNames']\n",
    "fg_list = ['FGM', 'FGA', 'FG_PCT']\n",
    "headers = columns[:5]\n",
    "for rang in new_ranges:\n",
    "    for f in fg_list:\n",
    "        headers.append(rang + '_'+ f)"
   ]
  },
  {
   "cell_type": "code",
   "execution_count": 32,
   "metadata": {
    "collapsed": false
   },
   "outputs": [
    {
     "data": {
      "text/plain": [
       "[u'PLAYER_ID',\n",
       " u'PLAYER_NAME',\n",
       " u'TEAM_ID',\n",
       " u'TEAM_ABBREVIATION',\n",
       " u'AGE',\n",
       " u'lessthan5ft_FGM',\n",
       " u'lessthan5ft_FGA',\n",
       " u'lessthan5ft_FG_PCT',\n",
       " u'5_9ft_FGM',\n",
       " u'5_9ft_FGA',\n",
       " u'5_9ft_FG_PCT',\n",
       " u'10_14ft_FGM',\n",
       " u'10_14ft_FGA',\n",
       " u'10_14ft_FG_PCT',\n",
       " u'15_19ft_FGM',\n",
       " u'15_19ft_FGA',\n",
       " u'15_19ft_FG_PCT',\n",
       " u'20_24ft_FGM',\n",
       " u'20_24ft_FGA',\n",
       " u'20_24ft_FG_PCT']"
      ]
     },
     "execution_count": 32,
     "metadata": {},
     "output_type": "execute_result"
    }
   ],
   "source": [
    "# dropping shot selection ranges beyond 25ft. \n",
    "# for i, x in enumerate(headers):\n",
    "#     print i,x\n",
    "new_headers = headers[:20]\n",
    "new_headers"
   ]
  },
  {
   "cell_type": "code",
   "execution_count": 33,
   "metadata": {
    "collapsed": false
   },
   "outputs": [
    {
     "name": "stdout",
     "output_type": "stream",
     "text": [
      "2015-16\n",
      "2014-15\n",
      "2013-14\n",
      "2012-13\n",
      "2011-12\n",
      "2010-11\n",
      "2009-10\n",
      "2008-09\n",
      "2007-08\n",
      "2006-07\n",
      "2005-06\n",
      "2004-05\n",
      "2003-04\n",
      "2002-03\n",
      "2001-02\n",
      "2000-01\n",
      "1999-00\n",
      "1998-99\n",
      "1997-98\n",
      "1996-97\n"
     ]
    }
   ],
   "source": [
    "# Create Data frame of each player's shot selection for each year from 1996-2016 and save to csv file.\n",
    "for year in years:\n",
    "    print year\n",
    "    link = stats_url % year\n",
    "    #selenium browser opens link\n",
    "    browser.get(link)\n",
    "    HTML = browser.page_source\n",
    "    soup = BeautifulSoup(HTML, \"lxml\")\n",
    "    get_text = soup.findAll('pre')[0].getText().encode('utf-8')\n",
    "    json_text = json.loads(get_text)\n",
    "\n",
    "    \n",
    "    df = pd.DataFrame(json_text['resultSets']['rowSet'], columns=headers)\n",
    "    df['SEASON'] = year[:4]\n",
    "    df.drop(headers[20:], axis=1, inplace=True)\n",
    "    save_csv = '/Users/amos/Desktop/DSI-SF-2-amoskim25/copy_capstone/datasets/update_shot_range/update_shot_range%s.csv' % year\n",
    "    df.to_csv(save_csv)\n",
    "#     time.sleep(5*np.random.rand())\n",
    " "
   ]
  },
  {
   "cell_type": "code",
   "execution_count": 24,
   "metadata": {
    "collapsed": false
   },
   "outputs": [
    {
     "name": "stdout",
     "output_type": "stream",
     "text": [
      "Shot selection based on distance\n",
      "Dimension:  (440, 22)\n",
      "Column names:  Index([u'Unnamed: 0', u'PLAYER_ID', u'PLAYER_NAME', u'TEAM_ID',\n",
      "       u'TEAM_ABBREVIATION', u'AGE', u'lessthan5ft_FGM', u'lessthan5ft_FGA',\n",
      "       u'lessthan5ft_FG_PCT', u'5_9ft_FGM', u'5_9ft_FGA', u'5_9ft_FG_PCT',\n",
      "       u'10_14ft_FGM', u'10_14ft_FGA', u'10_14ft_FG_PCT', u'15_19ft_FGM',\n",
      "       u'15_19ft_FGA', u'15_19ft_FG_PCT', u'20_24ft_FGM', u'20_24ft_FGA',\n",
      "       u'20_24ft_FG_PCT', u'SEASON'],\n",
      "      dtype='object')\n"
     ]
    }
   ],
   "source": [
    "# testing out shot selection data for 2001 \n",
    "stats_2001 = pd.read_csv('/Users/amos/Desktop/DSI-SF-2-amoskim25/copy_capstone/datasets/update_shot_range/update_shot_range2001-02.csv')\n",
    "print \"Shot selection based on distance\"\n",
    "print \"Dimension: \", stats_2001.shape\n",
    "print \"Column names: \", stats_2001.columns"
   ]
  },
  {
   "cell_type": "code",
   "execution_count": 25,
   "metadata": {
    "collapsed": false
   },
   "outputs": [
    {
     "data": {
      "text/html": [
       "<div>\n",
       "<table border=\"1\" class=\"dataframe\">\n",
       "  <thead>\n",
       "    <tr style=\"text-align: right;\">\n",
       "      <th></th>\n",
       "      <th>Unnamed: 0</th>\n",
       "      <th>PLAYER_ID</th>\n",
       "      <th>PLAYER_NAME</th>\n",
       "      <th>TEAM_ID</th>\n",
       "      <th>TEAM_ABBREVIATION</th>\n",
       "      <th>AGE</th>\n",
       "      <th>lessthan5ft_FGM</th>\n",
       "      <th>lessthan5ft_FGA</th>\n",
       "      <th>lessthan5ft_FG_PCT</th>\n",
       "      <th>5_9ft_FGM</th>\n",
       "      <th>...</th>\n",
       "      <th>10_14ft_FGM</th>\n",
       "      <th>10_14ft_FGA</th>\n",
       "      <th>10_14ft_FG_PCT</th>\n",
       "      <th>15_19ft_FGM</th>\n",
       "      <th>15_19ft_FGA</th>\n",
       "      <th>15_19ft_FG_PCT</th>\n",
       "      <th>20_24ft_FGM</th>\n",
       "      <th>20_24ft_FGA</th>\n",
       "      <th>20_24ft_FG_PCT</th>\n",
       "      <th>SEASON</th>\n",
       "    </tr>\n",
       "  </thead>\n",
       "  <tbody>\n",
       "    <tr>\n",
       "      <th>0</th>\n",
       "      <td>0</td>\n",
       "      <td>2062</td>\n",
       "      <td>A.J. Guyton</td>\n",
       "      <td>1610612741</td>\n",
       "      <td>CHI</td>\n",
       "      <td>24.0</td>\n",
       "      <td>0.3</td>\n",
       "      <td>0.6</td>\n",
       "      <td>0.556</td>\n",
       "      <td>0.1</td>\n",
       "      <td>...</td>\n",
       "      <td>0.1</td>\n",
       "      <td>0.2</td>\n",
       "      <td>0.556</td>\n",
       "      <td>0.2</td>\n",
       "      <td>0.9</td>\n",
       "      <td>0.200</td>\n",
       "      <td>0.7</td>\n",
       "      <td>2.1</td>\n",
       "      <td>0.348</td>\n",
       "      <td>2001-02</td>\n",
       "    </tr>\n",
       "    <tr>\n",
       "      <th>1</th>\n",
       "      <td>1</td>\n",
       "      <td>243</td>\n",
       "      <td>Aaron McKie</td>\n",
       "      <td>1610612755</td>\n",
       "      <td>PHI</td>\n",
       "      <td>29.0</td>\n",
       "      <td>1.3</td>\n",
       "      <td>2.1</td>\n",
       "      <td>0.620</td>\n",
       "      <td>0.4</td>\n",
       "      <td>...</td>\n",
       "      <td>0.6</td>\n",
       "      <td>1.6</td>\n",
       "      <td>0.387</td>\n",
       "      <td>0.8</td>\n",
       "      <td>2.3</td>\n",
       "      <td>0.357</td>\n",
       "      <td>1.1</td>\n",
       "      <td>2.0</td>\n",
       "      <td>0.585</td>\n",
       "      <td>2001-02</td>\n",
       "    </tr>\n",
       "    <tr>\n",
       "      <th>2</th>\n",
       "      <td>2</td>\n",
       "      <td>1425</td>\n",
       "      <td>Aaron Williams</td>\n",
       "      <td>1610612751</td>\n",
       "      <td>NJN</td>\n",
       "      <td>30.0</td>\n",
       "      <td>1.8</td>\n",
       "      <td>2.9</td>\n",
       "      <td>0.623</td>\n",
       "      <td>0.6</td>\n",
       "      <td>...</td>\n",
       "      <td>0.3</td>\n",
       "      <td>0.7</td>\n",
       "      <td>0.426</td>\n",
       "      <td>0.2</td>\n",
       "      <td>0.4</td>\n",
       "      <td>0.438</td>\n",
       "      <td>0.0</td>\n",
       "      <td>0.0</td>\n",
       "      <td>1.000</td>\n",
       "      <td>2001-02</td>\n",
       "    </tr>\n",
       "    <tr>\n",
       "      <th>3</th>\n",
       "      <td>3</td>\n",
       "      <td>1502</td>\n",
       "      <td>Adonal Foyle</td>\n",
       "      <td>1610612744</td>\n",
       "      <td>GSW</td>\n",
       "      <td>27.0</td>\n",
       "      <td>1.3</td>\n",
       "      <td>2.6</td>\n",
       "      <td>0.493</td>\n",
       "      <td>0.7</td>\n",
       "      <td>...</td>\n",
       "      <td>0.1</td>\n",
       "      <td>0.4</td>\n",
       "      <td>0.333</td>\n",
       "      <td>0.1</td>\n",
       "      <td>0.2</td>\n",
       "      <td>0.571</td>\n",
       "      <td>0.0</td>\n",
       "      <td>0.0</td>\n",
       "      <td>0.000</td>\n",
       "      <td>2001-02</td>\n",
       "    </tr>\n",
       "    <tr>\n",
       "      <th>4</th>\n",
       "      <td>4</td>\n",
       "      <td>1559</td>\n",
       "      <td>Adrian Griffin</td>\n",
       "      <td>1610612742</td>\n",
       "      <td>DAL</td>\n",
       "      <td>27.0</td>\n",
       "      <td>1.5</td>\n",
       "      <td>2.2</td>\n",
       "      <td>0.677</td>\n",
       "      <td>0.3</td>\n",
       "      <td>...</td>\n",
       "      <td>0.4</td>\n",
       "      <td>0.7</td>\n",
       "      <td>0.500</td>\n",
       "      <td>0.6</td>\n",
       "      <td>1.4</td>\n",
       "      <td>0.413</td>\n",
       "      <td>0.4</td>\n",
       "      <td>1.0</td>\n",
       "      <td>0.373</td>\n",
       "      <td>2001-02</td>\n",
       "    </tr>\n",
       "  </tbody>\n",
       "</table>\n",
       "<p>5 rows × 22 columns</p>\n",
       "</div>"
      ],
      "text/plain": [
       "   Unnamed: 0  PLAYER_ID     PLAYER_NAME     TEAM_ID TEAM_ABBREVIATION   AGE  \\\n",
       "0           0       2062     A.J. Guyton  1610612741               CHI  24.0   \n",
       "1           1        243     Aaron McKie  1610612755               PHI  29.0   \n",
       "2           2       1425  Aaron Williams  1610612751               NJN  30.0   \n",
       "3           3       1502    Adonal Foyle  1610612744               GSW  27.0   \n",
       "4           4       1559  Adrian Griffin  1610612742               DAL  27.0   \n",
       "\n",
       "   lessthan5ft_FGM  lessthan5ft_FGA  lessthan5ft_FG_PCT  5_9ft_FGM   ...     \\\n",
       "0              0.3              0.6               0.556        0.1   ...      \n",
       "1              1.3              2.1               0.620        0.4   ...      \n",
       "2              1.8              2.9               0.623        0.6   ...      \n",
       "3              1.3              2.6               0.493        0.7   ...      \n",
       "4              1.5              2.2               0.677        0.3   ...      \n",
       "\n",
       "   10_14ft_FGM  10_14ft_FGA  10_14ft_FG_PCT  15_19ft_FGM  15_19ft_FGA  \\\n",
       "0          0.1          0.2           0.556          0.2          0.9   \n",
       "1          0.6          1.6           0.387          0.8          2.3   \n",
       "2          0.3          0.7           0.426          0.2          0.4   \n",
       "3          0.1          0.4           0.333          0.1          0.2   \n",
       "4          0.4          0.7           0.500          0.6          1.4   \n",
       "\n",
       "   15_19ft_FG_PCT  20_24ft_FGM  20_24ft_FGA  20_24ft_FG_PCT   SEASON  \n",
       "0           0.200          0.7          2.1           0.348  2001-02  \n",
       "1           0.357          1.1          2.0           0.585  2001-02  \n",
       "2           0.438          0.0          0.0           1.000  2001-02  \n",
       "3           0.571          0.0          0.0           0.000  2001-02  \n",
       "4           0.413          0.4          1.0           0.373  2001-02  \n",
       "\n",
       "[5 rows x 22 columns]"
      ]
     },
     "execution_count": 25,
     "metadata": {},
     "output_type": "execute_result"
    }
   ],
   "source": [
    "stats_2001.head()"
   ]
  },
  {
   "cell_type": "code",
   "execution_count": null,
   "metadata": {
    "collapsed": true
   },
   "outputs": [],
   "source": []
  }
 ],
 "metadata": {
  "anaconda-cloud": {},
  "kernelspec": {
   "display_name": "Python [dsi]",
   "language": "python",
   "name": "Python [dsi]"
  },
  "language_info": {
   "codemirror_mode": {
    "name": "ipython",
    "version": 2
   },
   "file_extension": ".py",
   "mimetype": "text/x-python",
   "name": "python",
   "nbconvert_exporter": "python",
   "pygments_lexer": "ipython2",
   "version": "2.7.12"
  }
 },
 "nbformat": 4,
 "nbformat_minor": 0
}
