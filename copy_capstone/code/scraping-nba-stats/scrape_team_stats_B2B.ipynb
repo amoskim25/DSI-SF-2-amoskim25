{
 "cells": [
  {
   "cell_type": "markdown",
   "metadata": {},
   "source": [
    "# Scrape NBA Teams Regular season game logs.\n",
    "- Find b2b games in each year, 3 in 4, 4 in 5\n",
    "- Using time series analysis"
   ]
  },
  {
   "cell_type": "code",
   "execution_count": 2,
   "metadata": {
    "collapsed": true
   },
   "outputs": [],
   "source": [
    "import numpy as np\n",
    "import pandas as pd\n",
    "import seaborn as sns\n",
    "from datetime import datetime\n",
    "\n",
    "import requests\n",
    "import time\n",
    "from scrapy.selector import Selector\n",
    "from scrapy.http import HtmlResponse\n",
    "from selenium import webdriver\n",
    "from bs4 import BeautifulSoup\n",
    "import json\n",
    "\n",
    "chromedriver = \"/Users/amos/Desktop/chromedriver\""
   ]
  },
  {
   "cell_type": "code",
   "execution_count": 3,
   "metadata": {
    "collapsed": true
   },
   "outputs": [],
   "source": [
    "browser = webdriver.Chrome(executable_path= chromedriver)"
   ]
  },
  {
   "cell_type": "code",
   "execution_count": 4,
   "metadata": {
    "collapsed": true
   },
   "outputs": [],
   "source": [
    "stat = \"http://stats.nba.com/stats/leaguegamelog?Counter=1000&DateFrom=&DateTo=&Direction=DESC&LeagueID=00&PlayerOrTeam=T&Season=%s&SeasonType=Regular+Season&Sorter=PTS\"\n"
   ]
  },
  {
   "cell_type": "code",
   "execution_count": 5,
   "metadata": {
    "collapsed": false,
    "scrolled": true
   },
   "outputs": [
    {
     "data": {
      "text/plain": [
       "[u'2015-16',\n",
       " u'2014-15',\n",
       " u'2013-14',\n",
       " u'2012-13',\n",
       " u'2011-12',\n",
       " u'2010-11',\n",
       " u'2009-10',\n",
       " u'2008-09',\n",
       " u'2007-08',\n",
       " u'2006-07',\n",
       " u'2005-06',\n",
       " u'2004-05',\n",
       " u'2003-04',\n",
       " u'2002-03',\n",
       " u'2001-02',\n",
       " u'2000-01',\n",
       " u'1999-00',\n",
       " u'1998-99',\n",
       " u'1997-98',\n",
       " u'1996-97']"
      ]
     },
     "execution_count": 5,
     "metadata": {},
     "output_type": "execute_result"
    }
   ],
   "source": [
    "browser.get('http://stats.nba.com/league/team/#!/gamelogs/')\n",
    "HTML = browser.page_source\n",
    "years = Selector(text=HTML).xpath(\"//select[@name='Season']/option/text()\").extract()\n",
    "years_96_2016 = years[1:21]\n",
    "years_96_2016"
   ]
  },
  {
   "cell_type": "code",
   "execution_count": 8,
   "metadata": {
    "collapsed": false
   },
   "outputs": [
    {
     "name": "stdout",
     "output_type": "stream",
     "text": [
      "2015-16\n"
     ]
    },
    {
     "name": "stderr",
     "output_type": "stream",
     "text": [
      "/Users/amos/anaconda/envs/dsi/lib/python2.7/site-packages/ipykernel/__main__.py:15: SettingWithCopyWarning: \n",
      "A value is trying to be set on a copy of a slice from a DataFrame\n",
      "\n",
      "See the caveats in the documentation: http://pandas.pydata.org/pandas-docs/stable/indexing.html#indexing-view-versus-copy\n"
     ]
    },
    {
     "name": "stdout",
     "output_type": "stream",
     "text": [
      "2014-15\n",
      "2013-14\n",
      "2012-13\n",
      "2011-12\n",
      "2010-11\n",
      "2009-10\n",
      "2008-09\n",
      "2007-08\n",
      "2006-07\n",
      "2005-06\n",
      "2004-05\n",
      "2003-04\n",
      "2002-03\n",
      "2001-02\n",
      "2000-01\n",
      "1999-00\n",
      "1998-99\n",
      "1997-98\n",
      "1996-97\n"
     ]
    }
   ],
   "source": [
    "\n",
    "for y in years_96_2016:\n",
    "    print y\n",
    "    link = stat % y\n",
    "    browser.get(link)\n",
    "    HTML = browser.page_source\n",
    "    soup = BeautifulSoup(HTML, 'lxml')\n",
    "    get_text = soup.findAll('pre')[0].getText().encode('utf-8')\n",
    "    json_text = json.loads(get_text)\n",
    "    \n",
    "    df = pd.DataFrame(json_text['resultSets'][0]['rowSet'], columns=json_text['resultSets'][0]['headers']) \n",
    "    \n",
    "    df_date = df[['TEAM_ABBREVIATION', 'GAME_DATE']]\n",
    "    df_date.GAME_DATE = pd.to_datetime(df_date.GAME_DATE)\n",
    "    df_date.sort_values('GAME_DATE', inplace=True)\n",
    "    df_date.index = df_date.GAME_DATE\n",
    "    \n",
    "    # Goal: create a Dictionary {team: [count of B2B, count of 3 gms in 4 days, 4gms in 5 days]}\n",
    "    teams = df.TEAM_ABBREVIATION.unique()\n",
    "    # 1. set up dictionary \n",
    "    team_dict = {}\n",
    "    # 2. iterate through each nba team \n",
    "    for team in teams:\n",
    "        # date of each game played per team\n",
    "        game_day = df_date[df_date.TEAM_ABBREVIATION == team].index\n",
    "        b2b = 0\n",
    "        three_gms_in4 = 0\n",
    "        four_gms_in5 = 0\n",
    "\n",
    "        # 2. Count of B2B games\n",
    "        for i in range(1, game_day.shape[0]):\n",
    "            diff_2 = (game_day[i]-game_day[i-1]).days\n",
    "            if  diff_2 == 1:\n",
    "                b2b += 1\n",
    "\n",
    "        # subtract days of every three consecutive game days and add count if the difference is 4\n",
    "        # assuming no team plays 3 games in consecutive days\n",
    "        for i in range(2, game_day.shape[0]):\n",
    "            diff_4 = (game_day[i]-game_day[i-2]).days +1\n",
    "            if  diff_4 == 4:\n",
    "                three_gms_in4 += 1\n",
    "\n",
    "        for i in range(3, game_day.shape[0]):    \n",
    "            diff_5 = (game_day[i]-game_day[i-3]).days + 1\n",
    "            if  diff_5 == 5:\n",
    "                four_gms_in5 += 1\n",
    "        team_dict[team] = [b2b , three_gms_in4, four_gms_in5]\n",
    "        \n",
    "    df_final = pd.DataFrame.from_dict(team_dict, orient='index')\n",
    "    df_final.rename(columns={0:'B2B_COUNT', 1:'3GMS_IN_4DAYS', 2:'4GMS_IN_5DAYS'}, inplace=True)\n",
    "    df_final['SEASON'] = y[:4]\n",
    "    df_final['TEAM_ABBREVIATION'] = df_final.index\n",
    "    \n",
    "    save_csv = '/Users/amos/Desktop/DSI-SF-2-amoskim25/copy_capstone/datasets/team_schedule/team_schedule%s.csv' % y\n",
    "    df_final.to_csv(save_csv)\n"
   ]
  },
  {
   "cell_type": "code",
   "execution_count": null,
   "metadata": {
    "collapsed": true
   },
   "outputs": [],
   "source": []
  },
  {
   "cell_type": "code",
   "execution_count": null,
   "metadata": {
    "collapsed": true
   },
   "outputs": [],
   "source": []
  },
  {
   "cell_type": "code",
   "execution_count": null,
   "metadata": {
    "collapsed": true
   },
   "outputs": [],
   "source": []
  },
  {
   "cell_type": "code",
   "execution_count": null,
   "metadata": {
    "collapsed": true
   },
   "outputs": [],
   "source": []
  },
  {
   "cell_type": "code",
   "execution_count": null,
   "metadata": {
    "collapsed": true
   },
   "outputs": [],
   "source": []
  },
  {
   "cell_type": "code",
   "execution_count": 122,
   "metadata": {
    "collapsed": false
   },
   "outputs": [],
   "source": [
    "# # Need to create a dataframe of ['SEASON', 'TEAM_NAME', 'TEAM_ABBREVIATION', 'COUNT_B2B']\n",
    "\n",
    "# df_date = df[['TEAM_ABBREVIATION', 'GAME_DATE']]\n",
    "# df_date.GAME_DATE = pd.to_datetime(df_date.GAME_DATE)\n",
    "# df_date.sort_values('GAME_DATE', inplace=True)\n",
    "# df_date.index = df_date.GAME_DATE"
   ]
  },
  {
   "cell_type": "code",
   "execution_count": 121,
   "metadata": {
    "collapsed": false
   },
   "outputs": [],
   "source": [
    "# # Goal: create a Dictionary {team: [count of B2B, count of 3 gms in 4 days, 4gms in 5 days]}\n",
    "\n",
    "# # 1. set up dictionary \n",
    "# team_dict = {}\n",
    "# # 2. iterate through each nba team \n",
    "# for team in teams:\n",
    "#     # date of each game played per team\n",
    "#     game_day = df_date[df_date.TEAM_ABBREVIATION == team].index\n",
    "#     b2b = 0\n",
    "#     three_gms_in4 = 0\n",
    "#     four_gms_in5 = 0\n",
    "    \n",
    "#     # 2. Count of B2B games\n",
    "#     for i in range(1, game_day.shape[0]):\n",
    "#         diff_2 = (game_day[i]-game_day[i-1]).days\n",
    "#         if  diff_2 == 1:\n",
    "#             b2b += 1\n",
    "\n",
    "#     # subtract days of every three consecutive game days and add count if the difference is 4\n",
    "#     # assuming no team plays 3 games in consecutive days\n",
    "#     for i in range(2, game_day.shape[0]):\n",
    "#         diff_4 = (game_day[i]-game_day[i-2]).days +1\n",
    "#         if  diff_4 == 4:\n",
    "#             three_gms_in4 += 1\n",
    "\n",
    "#     for i in range(3, game_day.shape[0]):    \n",
    "#         diff_5 = (game_day[i]-game_day[i-3]).days + 1\n",
    "#         if  diff_5 == 5:\n",
    "#             four_gms_in5 += 1\n",
    "#     team_dict[team] = [b2b , three_gms_in4, four_gms_in5]\n"
   ]
  },
  {
   "cell_type": "code",
   "execution_count": null,
   "metadata": {
    "collapsed": true
   },
   "outputs": [],
   "source": []
  }
 ],
 "metadata": {
  "anaconda-cloud": {},
  "kernelspec": {
   "display_name": "Python [dsi]",
   "language": "python",
   "name": "Python [dsi]"
  },
  "language_info": {
   "codemirror_mode": {
    "name": "ipython",
    "version": 2
   },
   "file_extension": ".py",
   "mimetype": "text/x-python",
   "name": "python",
   "nbconvert_exporter": "python",
   "pygments_lexer": "ipython2",
   "version": "2.7.12"
  }
 },
 "nbformat": 4,
 "nbformat_minor": 0
}
