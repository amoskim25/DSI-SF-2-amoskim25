{
 "cells": [
  {
   "cell_type": "markdown",
   "metadata": {},
   "source": [
    "<img src=\"http://imgur.com/1ZcRyrc.png\" style=\"float: left; margin: 15px; height: 80px\">\n",
    "\n",
    "# Project 3\n",
    "\n",
    "### Iowa Liquor Sales \n",
    "\n",
    "---\n",
    "\n",
    "Project 3, unlike project 2 which combined skills from weeks 1 and 2, will now be review of week 2. Projects going forward will fit this format: you learn material one week and review it through a project the following week.\n",
    "\n",
    "That being said, this is as you might expect more challenging. You will be using the pandas data transformation functionality (melt, pivot, groupby, apply) that was not a factor in Project 2.\n",
    "\n",
    "---\n",
    "\n",
    "#### Context of the data\n",
    "\n",
    "The state of Iowa provides many data sets on their website, including [this dataset](https://www.dropbox.com/sh/pf5n5sgfgiri3i8/AACkaMeL_i_WgZ00rpxOOcysa?dl=0) which contains transactions for all stores that have a class E liquor license. You can choose one of the following two scenarios.\n",
    "\n",
    "The data can also be found [directly on their website](https://data.iowa.gov/Economy/Iowa-Liquor-Sales/m3tr-qhgy), which allows you to explore it graphically and download it (though it doesn't work very well).\n",
    "\n",
    "NOTE: Some of you may have computer issues with the full dataset. In this case, feel free to use [this 10% dataset version of Iowa liquor sales](https://drive.google.com/file/d/0Bx2SHQGVqWaseDB4QU9ZSVFDY2M/view?usp=sharing). You may want to use it anyway to test and prototype your code since it will be faster, before running it on the full dataset.\n",
    "\n",
    "---\n",
    "\n",
    "#### Package imports"
   ]
  },
  {
   "cell_type": "code",
   "execution_count": 1,
   "metadata": {
    "collapsed": true
   },
   "outputs": [],
   "source": [
    "import numpy as np\n",
    "import scipy.stats as stats\n",
    "import pandas as pd\n",
    "\n",
    "# this line tells jupyter notebook to put the plots in the notebook rather than saving them to file.\n",
    "%matplotlib inline\n",
    "\n",
    "# this line makes plots prettier on mac retina screens. If you don't have one it shouldn't do anything.\n",
    "%config InlineBackend.figure_format = 'retina'"
   ]
  },
  {
   "cell_type": "markdown",
   "metadata": {},
   "source": [
    "<img src=\"http://imgur.com/l5NasQj.png\" style=\"float: left; margin: 25px 15px 0px 0px; height: 25px\">\n",
    "\n",
    "## 1. Load the data from file\n",
    "\n",
    "---"
   ]
  },
  {
   "cell_type": "code",
   "execution_count": 2,
   "metadata": {
    "collapsed": false
   },
   "outputs": [],
   "source": [
    "iowa_file = '../../../Desktop/DSI-SF-2/datasets/iowa_liquor/Iowa_Liquor_sales_sample_10pct.csv'\n",
    "\n",
    "iowa = pd.read_csv(iowa_file)\n"
   ]
  },
  {
   "cell_type": "markdown",
   "metadata": {},
   "source": [
    "<img src=\"http://imgur.com/l5NasQj.png\" style=\"float: left; margin: 25px 15px 0px 0px; height: 25px\">\n",
    "\n",
    "## 2. Do an initial overview of the data\n",
    "\n",
    "---\n",
    "\n",
    "At the very least describe the columns/variables and the datatypes. "
   ]
  },
  {
   "cell_type": "code",
   "execution_count": 3,
   "metadata": {
    "collapsed": false
   },
   "outputs": [
    {
     "name": "stdout",
     "output_type": "stream",
     "text": [
      "<class 'pandas.core.frame.DataFrame'>\n",
      "RangeIndex: 270955 entries, 0 to 270954\n",
      "Data columns (total 18 columns):\n",
      "Date                     270955 non-null object\n",
      "Store Number             270955 non-null int64\n",
      "City                     270955 non-null object\n",
      "Zip Code                 270955 non-null object\n",
      "County Number            269878 non-null float64\n",
      "County                   269878 non-null object\n",
      "Category                 270887 non-null float64\n",
      "Category Name            270323 non-null object\n",
      "Vendor Number            270955 non-null int64\n",
      "Item Number              270955 non-null int64\n",
      "Item Description         270955 non-null object\n",
      "Bottle Volume (ml)       270955 non-null int64\n",
      "State Bottle Cost        270955 non-null object\n",
      "State Bottle Retail      270955 non-null object\n",
      "Bottles Sold             270955 non-null int64\n",
      "Sale (Dollars)           270955 non-null object\n",
      "Volume Sold (Liters)     270955 non-null float64\n",
      "Volume Sold (Gallons)    270955 non-null float64\n",
      "dtypes: float64(4), int64(5), object(9)\n",
      "memory usage: 37.2+ MB\n"
     ]
    }
   ],
   "source": [
    "iowa.info()\n",
    "# Columns with potential data types: Zip code, State bottle Cost, State bottle Retail, Sale(Dollars)"
   ]
  },
  {
   "cell_type": "code",
   "execution_count": 4,
   "metadata": {
    "collapsed": false
   },
   "outputs": [
    {
     "data": {
      "text/plain": [
       "37280"
      ]
     },
     "execution_count": 4,
     "metadata": {},
     "output_type": "execute_result"
    }
   ],
   "source": [
    "iowa[\"Vendor Number\"].unique().sum()"
   ]
  },
  {
   "cell_type": "code",
   "execution_count": 5,
   "metadata": {
    "collapsed": false
   },
   "outputs": [
    {
     "data": {
      "text/plain": [
       "260    46829\n",
       "434    27090\n",
       "65     25578\n",
       "370    16932\n",
       "115    15924\n",
       "Name: Vendor Number, dtype: int64"
      ]
     },
     "execution_count": 5,
     "metadata": {},
     "output_type": "execute_result"
    }
   ],
   "source": [
    "iowa['Vendor Number'].value_counts().head(5)"
   ]
  },
  {
   "cell_type": "code",
   "execution_count": 6,
   "metadata": {
    "collapsed": false
   },
   "outputs": [
    {
     "data": {
      "text/plain": [
       "VODKA 80 PROOF                      35373\n",
       "CANADIAN WHISKIES                   27087\n",
       "STRAIGHT BOURBON WHISKIES           15342\n",
       "SPICED RUM                          14631\n",
       "VODKA FLAVORED                      14001\n",
       "TEQUILA                             12109\n",
       "BLENDED WHISKIES                    11547\n",
       "WHISKEY LIQUEUR                     10902\n",
       "IMPORTED VODKA                      10668\n",
       "PUERTO RICO & VIRGIN ISLANDS RUM    10062\n",
       "Name: Category Name, dtype: int64"
      ]
     },
     "execution_count": 6,
     "metadata": {},
     "output_type": "execute_result"
    }
   ],
   "source": [
    "iowa['Category Name'].value_counts().head(10)\n",
    "# Des Moines has the top count for cities in DF\n",
    "# Vodka 80 PROOF Top Category Name"
   ]
  },
  {
   "cell_type": "code",
   "execution_count": 7,
   "metadata": {
    "collapsed": false
   },
   "outputs": [
    {
     "data": {
      "text/plain": [
       "DES MOINES        23724\n",
       "CEDAR RAPIDS      18888\n",
       "DAVENPORT         11580\n",
       "WATERLOO           8425\n",
       "COUNCIL BLUFFS     8060\n",
       "Name: City, dtype: int64"
      ]
     },
     "execution_count": 7,
     "metadata": {},
     "output_type": "execute_result"
    }
   ],
   "source": [
    "iowa['City'].value_counts().head(5)\n"
   ]
  },
  {
   "cell_type": "code",
   "execution_count": 8,
   "metadata": {
    "collapsed": false
   },
   "outputs": [
    {
     "data": {
      "text/plain": [
       "1077"
      ]
     },
     "execution_count": 8,
     "metadata": {},
     "output_type": "execute_result"
    }
   ],
   "source": [
    "iowa['County'].isnull().sum()"
   ]
  },
  {
   "cell_type": "markdown",
   "metadata": {},
   "source": [
    "## New column: Profit Margin Per Bottle Type = (Bottle Retail - Bottle Cost) * Quantity Sold\n",
    "\n",
    "-------------------------------------------------------------------------------------------------------------------"
   ]
  },
  {
   "cell_type": "markdown",
   "metadata": {},
   "source": [
    "<img src=\"http://imgur.com/l5NasQj.png\" style=\"float: left; margin: 25px 15px 0px 0px; height: 25px\">\n",
    "\n",
    "## 3. Clean the dataset\n",
    "\n",
    "---\n",
    "\n",
    "### 3.1 Identify columns that you will need to convert and clean. Where and how is the data corrupted?\n",
    "\n",
    "Don't worry about converting the date column to a pandas/numpy \"datetime\" datatype, unless you want to (not required for these problems and is a challenging thing to work with in its own right.)"
   ]
  },
  {
   "cell_type": "markdown",
   "metadata": {},
   "source": [
    "## Need to clean/munge data type:\n",
    "    \n",
    "    1. State Bottle Cost to float\n",
    "    2. State Bottle Retail to float\n",
    "    3. Sale (Dollars) to float"
   ]
  },
  {
   "cell_type": "markdown",
   "metadata": {},
   "source": [
    "### 3.2 Clean the columns"
   ]
  },
  {
   "cell_type": "code",
   "execution_count": 9,
   "metadata": {
    "collapsed": false
   },
   "outputs": [
    {
     "name": "stdout",
     "output_type": "stream",
     "text": [
      "<class 'pandas.core.frame.DataFrame'>\n",
      "RangeIndex: 270955 entries, 0 to 270954\n",
      "Data columns (total 18 columns):\n",
      "Date                     270955 non-null object\n",
      "Store Number             270955 non-null int64\n",
      "City                     270955 non-null object\n",
      "Zip Code                 270955 non-null object\n",
      "County Number            269878 non-null float64\n",
      "County                   269878 non-null object\n",
      "Category                 270887 non-null float64\n",
      "Category Name            270323 non-null object\n",
      "Vendor Number            270955 non-null int64\n",
      "Item Number              270955 non-null int64\n",
      "Item Description         270955 non-null object\n",
      "Bottle Volume (ml)       270955 non-null int64\n",
      "State Bottle Cost        270955 non-null float64\n",
      "State Bottle Retail      270955 non-null float64\n",
      "Bottles Sold             270955 non-null int64\n",
      "Sale (Dollars)           270955 non-null float64\n",
      "Volume Sold (Liters)     270955 non-null float64\n",
      "Volume Sold (Gallons)    270955 non-null float64\n",
      "dtypes: float64(7), int64(5), object(6)\n",
      "memory usage: 37.2+ MB\n"
     ]
    }
   ],
   "source": [
    "for col in ['State Bottle Cost','State Bottle Retail','Sale (Dollars)']:  \n",
    "    iowa[col] = [float(x.replace('$','')) for x in iowa[col]]\n",
    "    \n",
    "iowa.info()\n"
   ]
  },
  {
   "cell_type": "code",
   "execution_count": 10,
   "metadata": {
    "collapsed": false
   },
   "outputs": [],
   "source": [
    "iowa['Date'] = pd.to_datetime(iowa['Date'], format='%m/%d/%Y')\n"
   ]
  },
  {
   "cell_type": "code",
   "execution_count": 11,
   "metadata": {
    "collapsed": true
   },
   "outputs": [],
   "source": [
    "# since dates are now in datetime I can extract the month, year and into it's own column\n",
    "iowa['MONTH'] = iowa['Date'].map(lambda val: val.month)\n",
    "iowa['YEAR'] = iowa['Date'].map(lambda val: val.year)\n",
    "iowa['DAY'] = iowa['Date'].map(lambda val: val.day)"
   ]
  },
  {
   "cell_type": "code",
   "execution_count": 12,
   "metadata": {
    "collapsed": false
   },
   "outputs": [
    {
     "data": {
      "text/html": [
       "<div>\n",
       "<table border=\"1\" class=\"dataframe\">\n",
       "  <thead>\n",
       "    <tr style=\"text-align: right;\">\n",
       "      <th></th>\n",
       "      <th>Date</th>\n",
       "      <th>Store Number</th>\n",
       "      <th>City</th>\n",
       "      <th>Zip Code</th>\n",
       "      <th>County Number</th>\n",
       "      <th>County</th>\n",
       "      <th>Category</th>\n",
       "      <th>Category Name</th>\n",
       "      <th>Vendor Number</th>\n",
       "      <th>Item Number</th>\n",
       "      <th>...</th>\n",
       "      <th>Bottle Volume (ml)</th>\n",
       "      <th>State Bottle Cost</th>\n",
       "      <th>State Bottle Retail</th>\n",
       "      <th>Bottles Sold</th>\n",
       "      <th>Sale (Dollars)</th>\n",
       "      <th>Volume Sold (Liters)</th>\n",
       "      <th>Volume Sold (Gallons)</th>\n",
       "      <th>MONTH</th>\n",
       "      <th>YEAR</th>\n",
       "      <th>DAY</th>\n",
       "    </tr>\n",
       "  </thead>\n",
       "  <tbody>\n",
       "    <tr>\n",
       "      <th>0</th>\n",
       "      <td>2015-11-04</td>\n",
       "      <td>3717</td>\n",
       "      <td>SUMNER</td>\n",
       "      <td>50674</td>\n",
       "      <td>9.0</td>\n",
       "      <td>Bremer</td>\n",
       "      <td>1051100.0</td>\n",
       "      <td>APRICOT BRANDIES</td>\n",
       "      <td>55</td>\n",
       "      <td>54436</td>\n",
       "      <td>...</td>\n",
       "      <td>750</td>\n",
       "      <td>4.50</td>\n",
       "      <td>6.75</td>\n",
       "      <td>12</td>\n",
       "      <td>81.00</td>\n",
       "      <td>9.0</td>\n",
       "      <td>2.38</td>\n",
       "      <td>11</td>\n",
       "      <td>2015</td>\n",
       "      <td>4</td>\n",
       "    </tr>\n",
       "    <tr>\n",
       "      <th>1</th>\n",
       "      <td>2016-03-02</td>\n",
       "      <td>2614</td>\n",
       "      <td>DAVENPORT</td>\n",
       "      <td>52807</td>\n",
       "      <td>82.0</td>\n",
       "      <td>Scott</td>\n",
       "      <td>1011100.0</td>\n",
       "      <td>BLENDED WHISKIES</td>\n",
       "      <td>395</td>\n",
       "      <td>27605</td>\n",
       "      <td>...</td>\n",
       "      <td>750</td>\n",
       "      <td>13.75</td>\n",
       "      <td>20.63</td>\n",
       "      <td>2</td>\n",
       "      <td>41.26</td>\n",
       "      <td>1.5</td>\n",
       "      <td>0.40</td>\n",
       "      <td>3</td>\n",
       "      <td>2016</td>\n",
       "      <td>2</td>\n",
       "    </tr>\n",
       "    <tr>\n",
       "      <th>2</th>\n",
       "      <td>2016-02-11</td>\n",
       "      <td>2106</td>\n",
       "      <td>CEDAR FALLS</td>\n",
       "      <td>50613</td>\n",
       "      <td>7.0</td>\n",
       "      <td>Black Hawk</td>\n",
       "      <td>1011200.0</td>\n",
       "      <td>STRAIGHT BOURBON WHISKIES</td>\n",
       "      <td>65</td>\n",
       "      <td>19067</td>\n",
       "      <td>...</td>\n",
       "      <td>1000</td>\n",
       "      <td>12.59</td>\n",
       "      <td>18.89</td>\n",
       "      <td>24</td>\n",
       "      <td>453.36</td>\n",
       "      <td>24.0</td>\n",
       "      <td>6.34</td>\n",
       "      <td>2</td>\n",
       "      <td>2016</td>\n",
       "      <td>11</td>\n",
       "    </tr>\n",
       "  </tbody>\n",
       "</table>\n",
       "<p>3 rows × 21 columns</p>\n",
       "</div>"
      ],
      "text/plain": [
       "        Date  Store Number         City Zip Code  County Number      County  \\\n",
       "0 2015-11-04          3717       SUMNER    50674            9.0      Bremer   \n",
       "1 2016-03-02          2614    DAVENPORT    52807           82.0       Scott   \n",
       "2 2016-02-11          2106  CEDAR FALLS    50613            7.0  Black Hawk   \n",
       "\n",
       "    Category              Category Name  Vendor Number  Item Number ...   \\\n",
       "0  1051100.0           APRICOT BRANDIES             55        54436 ...    \n",
       "1  1011100.0           BLENDED WHISKIES            395        27605 ...    \n",
       "2  1011200.0  STRAIGHT BOURBON WHISKIES             65        19067 ...    \n",
       "\n",
       "  Bottle Volume (ml)  State Bottle Cost  State Bottle Retail  Bottles Sold  \\\n",
       "0                750               4.50                 6.75            12   \n",
       "1                750              13.75                20.63             2   \n",
       "2               1000              12.59                18.89            24   \n",
       "\n",
       "   Sale (Dollars)  Volume Sold (Liters)  Volume Sold (Gallons)  MONTH  YEAR  \\\n",
       "0           81.00                   9.0                   2.38     11  2015   \n",
       "1           41.26                   1.5                   0.40      3  2016   \n",
       "2          453.36                  24.0                   6.34      2  2016   \n",
       "\n",
       "   DAY  \n",
       "0    4  \n",
       "1    2  \n",
       "2   11  \n",
       "\n",
       "[3 rows x 21 columns]"
      ]
     },
     "execution_count": 12,
     "metadata": {},
     "output_type": "execute_result"
    }
   ],
   "source": [
    "iowa.head(3)"
   ]
  },
  {
   "cell_type": "markdown",
   "metadata": {},
   "source": [
    "<img src=\"http://imgur.com/xDpSobf.png\" style=\"float: left; margin: 25px 15px 0px 0px; height: 25px\">\n",
    "\n",
    "### 3.3 Perform more extensive cleaning of the dataset\n",
    "\n",
    "Cleaning of data can mean a lot more than just fixing strings and numbers in columns. There are often logical errors with data, useless or nonsensical categories, redundancy of information, outliers, and many more problems.\n",
    "\n",
    "This dataset has problems beyond just fixing the types of columns. Though resolving them may not be required for EDA and analysis, if you want experience with \"deeper\" cleaning of data this is a great dataset to start practicing with.\n",
    "\n",
    "Keep in mind that some types of \"data cleaning\" is subjective: it's not always a cut-and-dry conversion of type or removal of null values. Subjectivity when dealing with data is just a fact of life for a data scientist. This isn't a kind of programming where things are just right or wrong."
   ]
  },
  {
   "cell_type": "code",
   "execution_count": null,
   "metadata": {
    "collapsed": true
   },
   "outputs": [],
   "source": []
  },
  {
   "cell_type": "markdown",
   "metadata": {},
   "source": [
    "<img src=\"http://imgur.com/l5NasQj.png\" style=\"float: left; margin: 25px 15px 0px 0px; height: 25px\">\n",
    "\n",
    "## 4. Filter/adjust the store data\n",
    "\n",
    "---\n",
    "\n",
    "Some stores may have opened or closed in 2015. These stores will have incorrect yearly summary statistics since they were not open the full year. We need to filter them out or find another way to deal with the inconsistent numbers of months across stores.\n",
    "\n",
    "It is up to you how you want to deal with this problem.\n",
    "\n",
    "1. Investigate problematic stores.\n",
    "2. Decide on an approach to deal with stores not open for the full 2015 year.\n",
    "3. Implement your plan.\n",
    "4. Briefly report on what you did and why.\n"
   ]
  },
  {
   "cell_type": "code",
   "execution_count": 13,
   "metadata": {
    "collapsed": false
   },
   "outputs": [],
   "source": [
    "import datetime\n",
    "\n",
    "def date_format(series): # this function converts the date of a series into a mmyy format\n",
    "   series = series.strftime('%m%y')\n",
    "   return series\n",
    "\n",
    "iowa['Month/Year'] = iowa['Date'].map(date_format)\n",
    "\n",
    "grouped_stores = iowa.groupby('Store Number')['Month/Year'].agg([np.min,np.max])\n",
    "# this line groups the data by store number and then finds the minimum and maximum dates\n",
    "\n",
    "grouped_stores.reset_index()\n",
    "grouped_stores['amin'] = pd.to_numeric(grouped_stores['amin']) \n",
    "grouped_stores['amax'] = pd.to_numeric(grouped_stores['amax'])\n",
    "\n",
    " \n",
    "date_mask = (grouped_stores['amin']<=115)&(grouped_stores['amax']>=1215)\n",
    "# this mask tries to only keep stores that have a minimum date of Jan 2015 or before and stores that have a max \n",
    "# date of Dec 2015 or later. If this is true it would mean they were around for all of 2015.\n",
    "\n",
    "grouped_stores = grouped_stores[date_mask]\n",
    "\n",
    "stores_list = list(grouped_stores.index)\n",
    "\n",
    "stores_mask = iowa['Store Number'].isin(stores_list) # this masks goes back to find all stores which were \n",
    "# in the list of stores created by the date mask above.\n",
    "\n",
    "new_iowa = iowa[stores_mask] # this only keeps those stores within the mask, removing stores which weren't\n",
    "# around for all of 2015 by my above definition"
   ]
  },
  {
   "cell_type": "code",
   "execution_count": 14,
   "metadata": {
    "collapsed": false
   },
   "outputs": [
    {
     "data": {
      "text/html": [
       "<div>\n",
       "<table border=\"1\" class=\"dataframe\">\n",
       "  <thead>\n",
       "    <tr style=\"text-align: right;\">\n",
       "      <th></th>\n",
       "      <th>Date</th>\n",
       "      <th>Store Number</th>\n",
       "      <th>City</th>\n",
       "      <th>Zip Code</th>\n",
       "      <th>County Number</th>\n",
       "      <th>County</th>\n",
       "      <th>Category</th>\n",
       "      <th>Category Name</th>\n",
       "      <th>Vendor Number</th>\n",
       "      <th>Item Number</th>\n",
       "      <th>...</th>\n",
       "      <th>State Bottle Cost</th>\n",
       "      <th>State Bottle Retail</th>\n",
       "      <th>Bottles Sold</th>\n",
       "      <th>Sale (Dollars)</th>\n",
       "      <th>Volume Sold (Liters)</th>\n",
       "      <th>Volume Sold (Gallons)</th>\n",
       "      <th>MONTH</th>\n",
       "      <th>YEAR</th>\n",
       "      <th>DAY</th>\n",
       "      <th>Month/Year</th>\n",
       "    </tr>\n",
       "  </thead>\n",
       "  <tbody>\n",
       "    <tr>\n",
       "      <th>0</th>\n",
       "      <td>2015-11-04</td>\n",
       "      <td>3717</td>\n",
       "      <td>SUMNER</td>\n",
       "      <td>50674</td>\n",
       "      <td>9.0</td>\n",
       "      <td>Bremer</td>\n",
       "      <td>1051100.0</td>\n",
       "      <td>APRICOT BRANDIES</td>\n",
       "      <td>55</td>\n",
       "      <td>54436</td>\n",
       "      <td>...</td>\n",
       "      <td>4.50</td>\n",
       "      <td>6.75</td>\n",
       "      <td>12</td>\n",
       "      <td>81.00</td>\n",
       "      <td>9.0</td>\n",
       "      <td>2.38</td>\n",
       "      <td>11</td>\n",
       "      <td>2015</td>\n",
       "      <td>4</td>\n",
       "      <td>1115</td>\n",
       "    </tr>\n",
       "    <tr>\n",
       "      <th>1</th>\n",
       "      <td>2016-03-02</td>\n",
       "      <td>2614</td>\n",
       "      <td>DAVENPORT</td>\n",
       "      <td>52807</td>\n",
       "      <td>82.0</td>\n",
       "      <td>Scott</td>\n",
       "      <td>1011100.0</td>\n",
       "      <td>BLENDED WHISKIES</td>\n",
       "      <td>395</td>\n",
       "      <td>27605</td>\n",
       "      <td>...</td>\n",
       "      <td>13.75</td>\n",
       "      <td>20.63</td>\n",
       "      <td>2</td>\n",
       "      <td>41.26</td>\n",
       "      <td>1.5</td>\n",
       "      <td>0.40</td>\n",
       "      <td>3</td>\n",
       "      <td>2016</td>\n",
       "      <td>2</td>\n",
       "      <td>0316</td>\n",
       "    </tr>\n",
       "    <tr>\n",
       "      <th>2</th>\n",
       "      <td>2016-02-11</td>\n",
       "      <td>2106</td>\n",
       "      <td>CEDAR FALLS</td>\n",
       "      <td>50613</td>\n",
       "      <td>7.0</td>\n",
       "      <td>Black Hawk</td>\n",
       "      <td>1011200.0</td>\n",
       "      <td>STRAIGHT BOURBON WHISKIES</td>\n",
       "      <td>65</td>\n",
       "      <td>19067</td>\n",
       "      <td>...</td>\n",
       "      <td>12.59</td>\n",
       "      <td>18.89</td>\n",
       "      <td>24</td>\n",
       "      <td>453.36</td>\n",
       "      <td>24.0</td>\n",
       "      <td>6.34</td>\n",
       "      <td>2</td>\n",
       "      <td>2016</td>\n",
       "      <td>11</td>\n",
       "      <td>0216</td>\n",
       "    </tr>\n",
       "    <tr>\n",
       "      <th>3</th>\n",
       "      <td>2016-02-03</td>\n",
       "      <td>2501</td>\n",
       "      <td>AMES</td>\n",
       "      <td>50010</td>\n",
       "      <td>85.0</td>\n",
       "      <td>Story</td>\n",
       "      <td>1071100.0</td>\n",
       "      <td>AMERICAN COCKTAILS</td>\n",
       "      <td>395</td>\n",
       "      <td>59154</td>\n",
       "      <td>...</td>\n",
       "      <td>9.50</td>\n",
       "      <td>14.25</td>\n",
       "      <td>6</td>\n",
       "      <td>85.50</td>\n",
       "      <td>10.5</td>\n",
       "      <td>2.77</td>\n",
       "      <td>2</td>\n",
       "      <td>2016</td>\n",
       "      <td>3</td>\n",
       "      <td>0216</td>\n",
       "    </tr>\n",
       "    <tr>\n",
       "      <th>4</th>\n",
       "      <td>2015-08-18</td>\n",
       "      <td>3654</td>\n",
       "      <td>BELMOND</td>\n",
       "      <td>50421</td>\n",
       "      <td>99.0</td>\n",
       "      <td>Wright</td>\n",
       "      <td>1031080.0</td>\n",
       "      <td>VODKA 80 PROOF</td>\n",
       "      <td>297</td>\n",
       "      <td>35918</td>\n",
       "      <td>...</td>\n",
       "      <td>7.20</td>\n",
       "      <td>10.80</td>\n",
       "      <td>12</td>\n",
       "      <td>129.60</td>\n",
       "      <td>21.0</td>\n",
       "      <td>5.55</td>\n",
       "      <td>8</td>\n",
       "      <td>2015</td>\n",
       "      <td>18</td>\n",
       "      <td>0815</td>\n",
       "    </tr>\n",
       "  </tbody>\n",
       "</table>\n",
       "<p>5 rows × 22 columns</p>\n",
       "</div>"
      ],
      "text/plain": [
       "        Date  Store Number         City Zip Code  County Number      County  \\\n",
       "0 2015-11-04          3717       SUMNER    50674            9.0      Bremer   \n",
       "1 2016-03-02          2614    DAVENPORT    52807           82.0       Scott   \n",
       "2 2016-02-11          2106  CEDAR FALLS    50613            7.0  Black Hawk   \n",
       "3 2016-02-03          2501         AMES    50010           85.0       Story   \n",
       "4 2015-08-18          3654      BELMOND    50421           99.0      Wright   \n",
       "\n",
       "    Category              Category Name  Vendor Number  Item Number  \\\n",
       "0  1051100.0           APRICOT BRANDIES             55        54436   \n",
       "1  1011100.0           BLENDED WHISKIES            395        27605   \n",
       "2  1011200.0  STRAIGHT BOURBON WHISKIES             65        19067   \n",
       "3  1071100.0         AMERICAN COCKTAILS            395        59154   \n",
       "4  1031080.0             VODKA 80 PROOF            297        35918   \n",
       "\n",
       "      ...     State Bottle Cost  State Bottle Retail  Bottles Sold  \\\n",
       "0     ...                  4.50                 6.75            12   \n",
       "1     ...                 13.75                20.63             2   \n",
       "2     ...                 12.59                18.89            24   \n",
       "3     ...                  9.50                14.25             6   \n",
       "4     ...                  7.20                10.80            12   \n",
       "\n",
       "   Sale (Dollars)  Volume Sold (Liters)  Volume Sold (Gallons)  MONTH  YEAR  \\\n",
       "0           81.00                   9.0                   2.38     11  2015   \n",
       "1           41.26                   1.5                   0.40      3  2016   \n",
       "2          453.36                  24.0                   6.34      2  2016   \n",
       "3           85.50                  10.5                   2.77      2  2016   \n",
       "4          129.60                  21.0                   5.55      8  2015   \n",
       "\n",
       "   DAY  Month/Year  \n",
       "0    4        1115  \n",
       "1    2        0316  \n",
       "2   11        0216  \n",
       "3    3        0216  \n",
       "4   18        0815  \n",
       "\n",
       "[5 rows x 22 columns]"
      ]
     },
     "execution_count": 14,
     "metadata": {},
     "output_type": "execute_result"
    }
   ],
   "source": [
    "new_iowa.head()"
   ]
  },
  {
   "cell_type": "markdown",
   "metadata": {},
   "source": [
    "<img src=\"http://imgur.com/l5NasQj.png\" style=\"float: left; margin: 25px 15px 0px 0px; height: 25px\">\n",
    "\n",
    "## 5. Proposals for new tax rates (Scenario 1)\n",
    "\n",
    "---\n",
    "\n",
    "You are a data scientist in residence at the Iowa State tax board. The Iowa State legislature is considering changes in the liquor tax rates and has assigned you to the project.\n",
    "\n",
    "### 5.1 Calculate yearly liquor sales for each store in 2015."
   ]
  },
  {
   "cell_type": "code",
   "execution_count": 15,
   "metadata": {
    "collapsed": false
   },
   "outputs": [
    {
     "data": {
      "text/html": [
       "<div>\n",
       "<table border=\"1\" class=\"dataframe\">\n",
       "  <thead>\n",
       "    <tr style=\"text-align: right;\">\n",
       "      <th></th>\n",
       "      <th>Store Number</th>\n",
       "      <th>YEAR</th>\n",
       "      <th>Sale (Dollars)</th>\n",
       "    </tr>\n",
       "  </thead>\n",
       "  <tbody>\n",
       "    <tr>\n",
       "      <th>0</th>\n",
       "      <td>2106</td>\n",
       "      <td>2015</td>\n",
       "      <td>146326.22</td>\n",
       "    </tr>\n",
       "    <tr>\n",
       "      <th>1</th>\n",
       "      <td>2113</td>\n",
       "      <td>2015</td>\n",
       "      <td>9310.22</td>\n",
       "    </tr>\n",
       "    <tr>\n",
       "      <th>2</th>\n",
       "      <td>2130</td>\n",
       "      <td>2015</td>\n",
       "      <td>111871.43</td>\n",
       "    </tr>\n",
       "    <tr>\n",
       "      <th>3</th>\n",
       "      <td>2152</td>\n",
       "      <td>2015</td>\n",
       "      <td>7721.08</td>\n",
       "    </tr>\n",
       "    <tr>\n",
       "      <th>4</th>\n",
       "      <td>2178</td>\n",
       "      <td>2015</td>\n",
       "      <td>24324.18</td>\n",
       "    </tr>\n",
       "    <tr>\n",
       "      <th>5</th>\n",
       "      <td>2190</td>\n",
       "      <td>2015</td>\n",
       "      <td>121689.06</td>\n",
       "    </tr>\n",
       "    <tr>\n",
       "      <th>6</th>\n",
       "      <td>2191</td>\n",
       "      <td>2015</td>\n",
       "      <td>125093.49</td>\n",
       "    </tr>\n",
       "    <tr>\n",
       "      <th>7</th>\n",
       "      <td>2200</td>\n",
       "      <td>2015</td>\n",
       "      <td>22811.55</td>\n",
       "    </tr>\n",
       "    <tr>\n",
       "      <th>8</th>\n",
       "      <td>2205</td>\n",
       "      <td>2015</td>\n",
       "      <td>24681.39</td>\n",
       "    </tr>\n",
       "    <tr>\n",
       "      <th>9</th>\n",
       "      <td>2228</td>\n",
       "      <td>2015</td>\n",
       "      <td>17462.07</td>\n",
       "    </tr>\n",
       "  </tbody>\n",
       "</table>\n",
       "</div>"
      ],
      "text/plain": [
       "   Store Number  YEAR  Sale (Dollars)\n",
       "0          2106  2015       146326.22\n",
       "1          2113  2015         9310.22\n",
       "2          2130  2015       111871.43\n",
       "3          2152  2015         7721.08\n",
       "4          2178  2015        24324.18\n",
       "5          2190  2015       121689.06\n",
       "6          2191  2015       125093.49\n",
       "7          2200  2015        22811.55\n",
       "8          2205  2015        24681.39\n",
       "9          2228  2015        17462.07"
      ]
     },
     "execution_count": 15,
     "metadata": {},
     "output_type": "execute_result"
    }
   ],
   "source": [
    "#Groupby([var1,var2,..]) [[ what I want to know]].what metric I want()\n",
    "\n",
    "\n",
    "mask_year = new_iowa[new_iowa['YEAR'] == 2015]\n",
    "mask_year.groupby(['Store Number', 'YEAR'])[['Sale (Dollars)']].sum().reset_index().head(10)\n"
   ]
  },
  {
   "cell_type": "markdown",
   "metadata": {},
   "source": [
    "### 5.2 Calculate the profit each store is making in 2015.\n"
   ]
  },
  {
   "cell_type": "code",
   "execution_count": 16,
   "metadata": {
    "collapsed": false
   },
   "outputs": [
    {
     "name": "stderr",
     "output_type": "stream",
     "text": [
      "/Users/amos/anaconda/envs/dsi/lib/python2.7/site-packages/ipykernel/__main__.py:2: SettingWithCopyWarning: \n",
      "A value is trying to be set on a copy of a slice from a DataFrame.\n",
      "Try using .loc[row_indexer,col_indexer] = value instead\n",
      "\n",
      "See the caveats in the documentation: http://pandas.pydata.org/pandas-docs/stable/indexing.html#indexing-view-versus-copy\n",
      "  from ipykernel import kernelapp as app\n"
     ]
    }
   ],
   "source": [
    "#Create column Total Profit = (Retail - Cost) * Quantity\n",
    "new_iowa['Total_Profit'] = (new_iowa['State Bottle Retail'] - new_iowa['State Bottle Cost']) * new_iowa['Bottles Sold']\n"
   ]
  },
  {
   "cell_type": "code",
   "execution_count": 17,
   "metadata": {
    "collapsed": false
   },
   "outputs": [
    {
     "data": {
      "text/html": [
       "<div>\n",
       "<table border=\"1\" class=\"dataframe\">\n",
       "  <thead>\n",
       "    <tr style=\"text-align: right;\">\n",
       "      <th></th>\n",
       "      <th>Store Number</th>\n",
       "      <th>YEAR</th>\n",
       "      <th>Total_Profit</th>\n",
       "    </tr>\n",
       "  </thead>\n",
       "  <tbody>\n",
       "    <tr>\n",
       "      <th>0</th>\n",
       "      <td>2633</td>\n",
       "      <td>2015</td>\n",
       "      <td>333816.91</td>\n",
       "    </tr>\n",
       "    <tr>\n",
       "      <th>1</th>\n",
       "      <td>4829</td>\n",
       "      <td>2015</td>\n",
       "      <td>293196.99</td>\n",
       "    </tr>\n",
       "    <tr>\n",
       "      <th>2</th>\n",
       "      <td>3385</td>\n",
       "      <td>2015</td>\n",
       "      <td>147884.62</td>\n",
       "    </tr>\n",
       "    <tr>\n",
       "      <th>3</th>\n",
       "      <td>2512</td>\n",
       "      <td>2015</td>\n",
       "      <td>140143.46</td>\n",
       "    </tr>\n",
       "    <tr>\n",
       "      <th>4</th>\n",
       "      <td>3420</td>\n",
       "      <td>2015</td>\n",
       "      <td>117593.34</td>\n",
       "    </tr>\n",
       "    <tr>\n",
       "      <th>5</th>\n",
       "      <td>3952</td>\n",
       "      <td>2015</td>\n",
       "      <td>111230.21</td>\n",
       "    </tr>\n",
       "    <tr>\n",
       "      <th>6</th>\n",
       "      <td>3814</td>\n",
       "      <td>2015</td>\n",
       "      <td>83004.48</td>\n",
       "    </tr>\n",
       "    <tr>\n",
       "      <th>7</th>\n",
       "      <td>3354</td>\n",
       "      <td>2015</td>\n",
       "      <td>80244.69</td>\n",
       "    </tr>\n",
       "    <tr>\n",
       "      <th>8</th>\n",
       "      <td>3773</td>\n",
       "      <td>2015</td>\n",
       "      <td>77525.08</td>\n",
       "    </tr>\n",
       "    <tr>\n",
       "      <th>9</th>\n",
       "      <td>2670</td>\n",
       "      <td>2015</td>\n",
       "      <td>75945.64</td>\n",
       "    </tr>\n",
       "  </tbody>\n",
       "</table>\n",
       "</div>"
      ],
      "text/plain": [
       "   Store Number  YEAR  Total_Profit\n",
       "0          2633  2015     333816.91\n",
       "1          4829  2015     293196.99\n",
       "2          3385  2015     147884.62\n",
       "3          2512  2015     140143.46\n",
       "4          3420  2015     117593.34\n",
       "5          3952  2015     111230.21\n",
       "6          3814  2015      83004.48\n",
       "7          3354  2015      80244.69\n",
       "8          3773  2015      77525.08\n",
       "9          2670  2015      75945.64"
      ]
     },
     "execution_count": 17,
     "metadata": {},
     "output_type": "execute_result"
    }
   ],
   "source": [
    "profit = new_iowa[new_iowa['YEAR'] == 2015]\n",
    "profit.groupby(['Store Number', 'YEAR'])[['Total_Profit']].sum().sort_values(by='Total_Profit',ascending=False).reset_index().head(10)"
   ]
  },
  {
   "cell_type": "markdown",
   "metadata": {},
   "source": [
    "### 5.3 Investigate which Iowa counties are making the most profit on liquor per gallon in 2015."
   ]
  },
  {
   "cell_type": "markdown",
   "metadata": {},
   "source": [
    "# Polk, Linn and Scott counties are making the most profit on liquor per gallon in 2015."
   ]
  },
  {
   "cell_type": "code",
   "execution_count": 18,
   "metadata": {
    "collapsed": false
   },
   "outputs": [
    {
     "name": "stderr",
     "output_type": "stream",
     "text": [
      "/Users/amos/anaconda/envs/dsi/lib/python2.7/site-packages/ipykernel/__main__.py:3: SettingWithCopyWarning: \n",
      "A value is trying to be set on a copy of a slice from a DataFrame.\n",
      "Try using .loc[row_indexer,col_indexer] = value instead\n",
      "\n",
      "See the caveats in the documentation: http://pandas.pydata.org/pandas-docs/stable/indexing.html#indexing-view-versus-copy\n",
      "  app.launch_new_instance()\n"
     ]
    },
    {
     "data": {
      "text/html": [
       "<div>\n",
       "<table border=\"1\" class=\"dataframe\">\n",
       "  <thead>\n",
       "    <tr style=\"text-align: right;\">\n",
       "      <th></th>\n",
       "      <th>County</th>\n",
       "      <th>YEAR</th>\n",
       "      <th>Profit_per_gallon</th>\n",
       "    </tr>\n",
       "  </thead>\n",
       "  <tbody>\n",
       "    <tr>\n",
       "      <th>0</th>\n",
       "      <td>Polk</td>\n",
       "      <td>2015</td>\n",
       "      <td>884268.133072</td>\n",
       "    </tr>\n",
       "    <tr>\n",
       "      <th>1</th>\n",
       "      <td>Linn</td>\n",
       "      <td>2015</td>\n",
       "      <td>395195.590195</td>\n",
       "    </tr>\n",
       "    <tr>\n",
       "      <th>2</th>\n",
       "      <td>Scott</td>\n",
       "      <td>2015</td>\n",
       "      <td>315806.558370</td>\n",
       "    </tr>\n",
       "    <tr>\n",
       "      <th>3</th>\n",
       "      <td>Black Hawk</td>\n",
       "      <td>2015</td>\n",
       "      <td>270600.543943</td>\n",
       "    </tr>\n",
       "    <tr>\n",
       "      <th>4</th>\n",
       "      <td>Johnson</td>\n",
       "      <td>2015</td>\n",
       "      <td>244704.298340</td>\n",
       "    </tr>\n",
       "    <tr>\n",
       "      <th>5</th>\n",
       "      <td>Story</td>\n",
       "      <td>2015</td>\n",
       "      <td>161683.597825</td>\n",
       "    </tr>\n",
       "    <tr>\n",
       "      <th>6</th>\n",
       "      <td>Pottawattamie</td>\n",
       "      <td>2015</td>\n",
       "      <td>158867.320912</td>\n",
       "    </tr>\n",
       "    <tr>\n",
       "      <th>7</th>\n",
       "      <td>Woodbury</td>\n",
       "      <td>2015</td>\n",
       "      <td>157359.991207</td>\n",
       "    </tr>\n",
       "    <tr>\n",
       "      <th>8</th>\n",
       "      <td>Dubuque</td>\n",
       "      <td>2015</td>\n",
       "      <td>134350.787094</td>\n",
       "    </tr>\n",
       "    <tr>\n",
       "      <th>9</th>\n",
       "      <td>Cerro Gordo</td>\n",
       "      <td>2015</td>\n",
       "      <td>112043.824328</td>\n",
       "    </tr>\n",
       "  </tbody>\n",
       "</table>\n",
       "</div>"
      ],
      "text/plain": [
       "          County  YEAR  Profit_per_gallon\n",
       "0           Polk  2015      884268.133072\n",
       "1           Linn  2015      395195.590195\n",
       "2          Scott  2015      315806.558370\n",
       "3     Black Hawk  2015      270600.543943\n",
       "4        Johnson  2015      244704.298340\n",
       "5          Story  2015      161683.597825\n",
       "6  Pottawattamie  2015      158867.320912\n",
       "7       Woodbury  2015      157359.991207\n",
       "8        Dubuque  2015      134350.787094\n",
       "9    Cerro Gordo  2015      112043.824328"
      ]
     },
     "execution_count": 18,
     "metadata": {},
     "output_type": "execute_result"
    }
   ],
   "source": [
    "# Creating new column Profit(per gallon) = Total_Profit / Volume Sold(Gallons)\n",
    "\n",
    "new_iowa['Profit_per_gallon'] = new_iowa['Total_Profit'] / new_iowa['Volume Sold (Gallons)']\n",
    "profit = new_iowa[new_iowa['YEAR'] == 2015]\n",
    "profit.groupby(['County', 'YEAR'])[['Profit_per_gallon']].sum().sort_values(by='Profit_per_gallon', ascending=False).reset_index().head(10)"
   ]
  },
  {
   "cell_type": "markdown",
   "metadata": {},
   "source": [
    "<img src=\"http://imgur.com/xDpSobf.png\" style=\"float: left; margin: 25px 15px 0px 0px; height: 25px\">\n",
    "\n",
    "### 5.4 Plot a color map of average profit per county in 2015.\n",
    "\n",
    "[Check out this site](http://flowingdata.com/2009/11/12/how-to-make-a-us-county-thematic-map-using-free-tools/) for  information on how to create map visualizations in python. There are other resources online for map plotting in python as well.\n",
    "\n",
    "Another interesting map plot might show the difference in profit between time periods. Change in profit from November to December, for example."
   ]
  },
  {
   "cell_type": "code",
   "execution_count": null,
   "metadata": {
    "collapsed": true
   },
   "outputs": [],
   "source": []
  },
  {
   "cell_type": "markdown",
   "metadata": {},
   "source": [
    "### 5.5  Does profit scale proportionally to store size?\n",
    "\n",
    "Size of a store can be defined as the total gallons sold in 2015. Is the profit to store size ratio increasing as store size increases? Decreasing? Consistent?"
   ]
  },
  {
   "cell_type": "markdown",
   "metadata": {},
   "source": [
    "## Profit_per_gallon has a negative correlation to size so the profit to store size ratio is decreasing. "
   ]
  },
  {
   "cell_type": "code",
   "execution_count": 19,
   "metadata": {
    "collapsed": false
   },
   "outputs": [
    {
     "data": {
      "text/html": [
       "<div>\n",
       "<table border=\"1\" class=\"dataframe\">\n",
       "  <thead>\n",
       "    <tr style=\"text-align: right;\">\n",
       "      <th></th>\n",
       "      <th>Profit_per_gallon</th>\n",
       "      <th>Volume Sold (Gallons)</th>\n",
       "    </tr>\n",
       "  </thead>\n",
       "  <tbody>\n",
       "    <tr>\n",
       "      <th>Profit_per_gallon</th>\n",
       "      <td>1.000000</td>\n",
       "      <td>-0.083842</td>\n",
       "    </tr>\n",
       "    <tr>\n",
       "      <th>Volume Sold (Gallons)</th>\n",
       "      <td>-0.083842</td>\n",
       "      <td>1.000000</td>\n",
       "    </tr>\n",
       "  </tbody>\n",
       "</table>\n",
       "</div>"
      ],
      "text/plain": [
       "                       Profit_per_gallon  Volume Sold (Gallons)\n",
       "Profit_per_gallon               1.000000              -0.083842\n",
       "Volume Sold (Gallons)          -0.083842               1.000000"
      ]
     },
     "execution_count": 19,
     "metadata": {},
     "output_type": "execute_result"
    }
   ],
   "source": [
    "mask_2015 = new_iowa[new_iowa['YEAR']==2015]\n",
    "mask_2015[['Profit_per_gallon', 'Volume Sold (Gallons)']].corr()\n",
    "\n",
    "\n",
    "# Please ignore comments below:\n",
    "#mask_2015.groupby('Store Number', 'Profit_per_gallon')[['Volume Sold (Gallons)']].sum()\n",
    "# size = mask_2015.groupby('Store Number')[['Volume Sold (Gallons)']].sum().reset_index()\n",
    "# size['Profit_per_gallon'] = mask_2015['Profit_per_gallon']\n",
    "# profit = pd.DataFrame(mask_2015, columns=['Store Number','Profit_per_gallon'])\n",
    "\n",
    "\n",
    "# profit_size = pd.merge(size, profit , on=['Store Number'], how='outer')\n",
    "# profit_size.head() \n",
    "# # The Profit to store size ratio is negative, which means that the greater the profit the smaller the store size. \n",
    "# #mask_2015['Profit_per_gallon'],size['Volume Sold (Gallons)'"
   ]
  },
  {
   "cell_type": "markdown",
   "metadata": {},
   "source": [
    "### 5.6 Create a broader category for liquor type.\n",
    "\n",
    "Liquor types are pretty granular in this dataset. Create a column that categorizes these types into a smaller amount of categories. The categories you decide on are up to you."
   ]
  },
  {
   "cell_type": "code",
   "execution_count": 20,
   "metadata": {
    "collapsed": false
   },
   "outputs": [
    {
     "data": {
      "text/plain": [
       "VODKA 80 PROOF               32488\n",
       "CANADIAN WHISKIES            25005\n",
       "STRAIGHT BOURBON WHISKIES    14424\n",
       "SPICED RUM                   13509\n",
       "VODKA FLAVORED               13101\n",
       "Name: Category Name, dtype: int64"
      ]
     },
     "execution_count": 20,
     "metadata": {},
     "output_type": "execute_result"
    }
   ],
   "source": [
    "new_iowa['Category Name'].value_counts().head()\n",
    "# I want to divide into following categories\n",
    "#'BRANDIE', 'WHISKIE', 'VODKA', 'GIN', 'SCHNAPP', 'TEQUILA', 'SCOTCH', 'RUM'"
   ]
  },
  {
   "cell_type": "code",
   "execution_count": 21,
   "metadata": {
    "collapsed": false
   },
   "outputs": [
    {
     "name": "stderr",
     "output_type": "stream",
     "text": [
      "/Users/amos/anaconda/envs/dsi/lib/python2.7/site-packages/ipykernel/__main__.py:25: SettingWithCopyWarning: \n",
      "A value is trying to be set on a copy of a slice from a DataFrame.\n",
      "Try using .loc[row_indexer,col_indexer] = value instead\n",
      "\n",
      "See the caveats in the documentation: http://pandas.pydata.org/pandas-docs/stable/indexing.html#indexing-view-versus-copy\n"
     ]
    },
    {
     "data": {
      "text/html": [
       "<div>\n",
       "<table border=\"1\" class=\"dataframe\">\n",
       "  <thead>\n",
       "    <tr style=\"text-align: right;\">\n",
       "      <th></th>\n",
       "      <th>Date</th>\n",
       "      <th>Store Number</th>\n",
       "      <th>City</th>\n",
       "      <th>Zip Code</th>\n",
       "      <th>County Number</th>\n",
       "      <th>County</th>\n",
       "      <th>Category</th>\n",
       "      <th>Category Name</th>\n",
       "      <th>Vendor Number</th>\n",
       "      <th>Item Number</th>\n",
       "      <th>...</th>\n",
       "      <th>Sale (Dollars)</th>\n",
       "      <th>Volume Sold (Liters)</th>\n",
       "      <th>Volume Sold (Gallons)</th>\n",
       "      <th>MONTH</th>\n",
       "      <th>YEAR</th>\n",
       "      <th>DAY</th>\n",
       "      <th>Month/Year</th>\n",
       "      <th>Total_Profit</th>\n",
       "      <th>Profit_per_gallon</th>\n",
       "      <th>liquor_type</th>\n",
       "    </tr>\n",
       "  </thead>\n",
       "  <tbody>\n",
       "    <tr>\n",
       "      <th>0</th>\n",
       "      <td>2015-11-04</td>\n",
       "      <td>3717</td>\n",
       "      <td>SUMNER</td>\n",
       "      <td>50674</td>\n",
       "      <td>9.0</td>\n",
       "      <td>Bremer</td>\n",
       "      <td>1051100.0</td>\n",
       "      <td>APRICOT BRANDIES</td>\n",
       "      <td>55</td>\n",
       "      <td>54436</td>\n",
       "      <td>...</td>\n",
       "      <td>81.00</td>\n",
       "      <td>9.0</td>\n",
       "      <td>2.38</td>\n",
       "      <td>11</td>\n",
       "      <td>2015</td>\n",
       "      <td>4</td>\n",
       "      <td>1115</td>\n",
       "      <td>27.00</td>\n",
       "      <td>11.344538</td>\n",
       "      <td>Brandies</td>\n",
       "    </tr>\n",
       "    <tr>\n",
       "      <th>1</th>\n",
       "      <td>2016-03-02</td>\n",
       "      <td>2614</td>\n",
       "      <td>DAVENPORT</td>\n",
       "      <td>52807</td>\n",
       "      <td>82.0</td>\n",
       "      <td>Scott</td>\n",
       "      <td>1011100.0</td>\n",
       "      <td>BLENDED WHISKIES</td>\n",
       "      <td>395</td>\n",
       "      <td>27605</td>\n",
       "      <td>...</td>\n",
       "      <td>41.26</td>\n",
       "      <td>1.5</td>\n",
       "      <td>0.40</td>\n",
       "      <td>3</td>\n",
       "      <td>2016</td>\n",
       "      <td>2</td>\n",
       "      <td>0316</td>\n",
       "      <td>13.76</td>\n",
       "      <td>34.400000</td>\n",
       "      <td>Whiskie</td>\n",
       "    </tr>\n",
       "    <tr>\n",
       "      <th>2</th>\n",
       "      <td>2016-02-11</td>\n",
       "      <td>2106</td>\n",
       "      <td>CEDAR FALLS</td>\n",
       "      <td>50613</td>\n",
       "      <td>7.0</td>\n",
       "      <td>Black Hawk</td>\n",
       "      <td>1011200.0</td>\n",
       "      <td>STRAIGHT BOURBON WHISKIES</td>\n",
       "      <td>65</td>\n",
       "      <td>19067</td>\n",
       "      <td>...</td>\n",
       "      <td>453.36</td>\n",
       "      <td>24.0</td>\n",
       "      <td>6.34</td>\n",
       "      <td>2</td>\n",
       "      <td>2016</td>\n",
       "      <td>11</td>\n",
       "      <td>0216</td>\n",
       "      <td>151.20</td>\n",
       "      <td>23.848580</td>\n",
       "      <td>Whiskie</td>\n",
       "    </tr>\n",
       "    <tr>\n",
       "      <th>3</th>\n",
       "      <td>2016-02-03</td>\n",
       "      <td>2501</td>\n",
       "      <td>AMES</td>\n",
       "      <td>50010</td>\n",
       "      <td>85.0</td>\n",
       "      <td>Story</td>\n",
       "      <td>1071100.0</td>\n",
       "      <td>AMERICAN COCKTAILS</td>\n",
       "      <td>395</td>\n",
       "      <td>59154</td>\n",
       "      <td>...</td>\n",
       "      <td>85.50</td>\n",
       "      <td>10.5</td>\n",
       "      <td>2.77</td>\n",
       "      <td>2</td>\n",
       "      <td>2016</td>\n",
       "      <td>3</td>\n",
       "      <td>0216</td>\n",
       "      <td>28.50</td>\n",
       "      <td>10.288809</td>\n",
       "      <td>Other</td>\n",
       "    </tr>\n",
       "    <tr>\n",
       "      <th>4</th>\n",
       "      <td>2015-08-18</td>\n",
       "      <td>3654</td>\n",
       "      <td>BELMOND</td>\n",
       "      <td>50421</td>\n",
       "      <td>99.0</td>\n",
       "      <td>Wright</td>\n",
       "      <td>1031080.0</td>\n",
       "      <td>VODKA 80 PROOF</td>\n",
       "      <td>297</td>\n",
       "      <td>35918</td>\n",
       "      <td>...</td>\n",
       "      <td>129.60</td>\n",
       "      <td>21.0</td>\n",
       "      <td>5.55</td>\n",
       "      <td>8</td>\n",
       "      <td>2015</td>\n",
       "      <td>18</td>\n",
       "      <td>0815</td>\n",
       "      <td>43.20</td>\n",
       "      <td>7.783784</td>\n",
       "      <td>Vodka</td>\n",
       "    </tr>\n",
       "  </tbody>\n",
       "</table>\n",
       "<p>5 rows × 25 columns</p>\n",
       "</div>"
      ],
      "text/plain": [
       "        Date  Store Number         City Zip Code  County Number      County  \\\n",
       "0 2015-11-04          3717       SUMNER    50674            9.0      Bremer   \n",
       "1 2016-03-02          2614    DAVENPORT    52807           82.0       Scott   \n",
       "2 2016-02-11          2106  CEDAR FALLS    50613            7.0  Black Hawk   \n",
       "3 2016-02-03          2501         AMES    50010           85.0       Story   \n",
       "4 2015-08-18          3654      BELMOND    50421           99.0      Wright   \n",
       "\n",
       "    Category              Category Name  Vendor Number  Item Number  \\\n",
       "0  1051100.0           APRICOT BRANDIES             55        54436   \n",
       "1  1011100.0           BLENDED WHISKIES            395        27605   \n",
       "2  1011200.0  STRAIGHT BOURBON WHISKIES             65        19067   \n",
       "3  1071100.0         AMERICAN COCKTAILS            395        59154   \n",
       "4  1031080.0             VODKA 80 PROOF            297        35918   \n",
       "\n",
       "      ...      Sale (Dollars)  Volume Sold (Liters)  Volume Sold (Gallons)  \\\n",
       "0     ...               81.00                   9.0                   2.38   \n",
       "1     ...               41.26                   1.5                   0.40   \n",
       "2     ...              453.36                  24.0                   6.34   \n",
       "3     ...               85.50                  10.5                   2.77   \n",
       "4     ...              129.60                  21.0                   5.55   \n",
       "\n",
       "   MONTH  YEAR  DAY  Month/Year  Total_Profit  Profit_per_gallon  liquor_type  \n",
       "0     11  2015    4        1115         27.00          11.344538     Brandies  \n",
       "1      3  2016    2        0316         13.76          34.400000      Whiskie  \n",
       "2      2  2016   11        0216        151.20          23.848580      Whiskie  \n",
       "3      2  2016    3        0216         28.50          10.288809        Other  \n",
       "4      8  2015   18        0815         43.20           7.783784        Vodka  \n",
       "\n",
       "[5 rows x 25 columns]"
      ]
     },
     "execution_count": 21,
     "metadata": {},
     "output_type": "execute_result"
    }
   ],
   "source": [
    "def liquor_cat(row):\n",
    "    if type(row)== str:\n",
    "        if 'WHISKIES' in row:\n",
    "            return 'Whiskie'\n",
    "        elif 'BRANDIES' in row:\n",
    "            return 'Brandies'\n",
    "        elif 'VODKA' in row:\n",
    "            return'Vodka'\n",
    "        elif 'GIN' in row:\n",
    "            return'Gin'\n",
    "        elif 'SCHNAPPS' in row:\n",
    "            return 'Schnapps'\n",
    "        elif 'TEQUILA' in row:\n",
    "            return 'Tequila'\n",
    "        elif 'SCOTCH' in row:\n",
    "            return'Scotch'\n",
    "        elif 'RUM' in row:\n",
    "            return 'Rum'\n",
    "        else:\n",
    "            return \"Other\"\n",
    "           \n",
    "\n",
    "\n",
    "\n",
    "new_iowa['liquor_type'] = new_iowa['Category Name'].apply(liquor_cat)\n",
    "new_iowa.head()"
   ]
  },
  {
   "cell_type": "markdown",
   "metadata": {},
   "source": [
    "### 5.7 Do relationships exist between the broader liquor type and profit?"
   ]
  },
  {
   "cell_type": "code",
   "execution_count": 22,
   "metadata": {
    "collapsed": false
   },
   "outputs": [
    {
     "data": {
      "text/plain": [
       "<matplotlib.axes._subplots.AxesSubplot at 0x118505d90>"
      ]
     },
     "execution_count": 22,
     "metadata": {},
     "output_type": "execute_result"
    },
    {
     "data": {
      "image/png": "[encoded data removed]",
      "text/plain": [
       "<matplotlib.figure.Figure at 0x112f43a10>"
      ]
     },
     "metadata": {
      "image/png": {
       "height": 310,
       "width": 397
      }
     },
     "output_type": "display_data"
    }
   ],
   "source": [
    "new_iowa.groupby('liquor_type')['Total_Profit'].sum().plot(kind='bar')"
   ]
  },
  {
   "cell_type": "markdown",
   "metadata": {},
   "source": [
    "<img src=\"http://imgur.com/xDpSobf.png\" style=\"float: left; margin: 25px 15px 0px 0px; height: 25px\">\n",
    "\n",
    "### 5.8 Are there any noticeable relationships between liquor brand and sales? Profit?"
   ]
  },
  {
   "cell_type": "code",
   "execution_count": null,
   "metadata": {
    "collapsed": true
   },
   "outputs": [],
   "source": []
  },
  {
   "cell_type": "markdown",
   "metadata": {},
   "source": [
    "### 5.9 The tax board wants to design a tax or taxes that affect larger stores more than smaller \"mom and pop\" stores.\n",
    "\n",
    "Based on your investigations into the data, come up with a way you could design a tax that achieves this goal **without explicitly taxing stores based on size or county critera.** The liqour board does not want to obviously punish larger stores or speific counties for fear of backlash, but is willing to tax hard alcohol more than beer, for example.\n",
    "\n",
    "Feel free to do more EDA if it helps.\n",
    "\n",
    "Your report should describe whether such a tax is possible or not, and the specifics of what the tax will target/do."
   ]
  },
  {
   "cell_type": "markdown",
   "metadata": {},
   "source": [
    "## ***Given the top 5 stores that produce highest total profits, Vodka seems like the top producing liquor type and Whiskie a close second.  So the tax board may want to consider raising taxes on particular vodka or whiskie types to target larger markets. "
   ]
  },
  {
   "cell_type": "code",
   "execution_count": 23,
   "metadata": {
    "collapsed": false
   },
   "outputs": [
    {
     "name": "stdout",
     "output_type": "stream",
     "text": [
      "liquor_type\n",
      "Vodka       5266.60\n",
      "Other       3420.77\n",
      "Tequila     3101.66\n",
      "Whiskie     2774.31\n",
      "Rum         2403.98\n",
      "Gin         1536.32\n",
      "Schnapps    1256.10\n",
      "Brandies     184.03\n",
      "Scotch        70.60\n",
      "Name: Volume Sold (Gallons), dtype: float64\n",
      "liquor_type\n",
      "Vodka       5080.57\n",
      "Other       3196.48\n",
      "Whiskie     3007.94\n",
      "Tequila     1630.39\n",
      "Rum         1202.47\n",
      "Gin         1190.36\n",
      "Schnapps    1117.74\n",
      "Brandies     223.03\n",
      "Scotch        60.89\n",
      "Name: Volume Sold (Gallons), dtype: float64\n",
      "liquor_type\n",
      "Vodka       2640.36\n",
      "Whiskie     2064.09\n",
      "Other       1430.86\n",
      "Gin          863.64\n",
      "Rum          671.08\n",
      "Tequila      620.41\n",
      "Schnapps     372.65\n",
      "Brandies     113.18\n",
      "Scotch        40.85\n",
      "Name: Volume Sold (Gallons), dtype: float64\n",
      "liquor_type\n",
      "Vodka       2403.37\n",
      "Other       2391.91\n",
      "Whiskie     2272.94\n",
      "Gin          709.68\n",
      "Rum          580.50\n",
      "Tequila      530.86\n",
      "Schnapps     514.37\n",
      "Brandies     108.99\n",
      "Scotch        19.43\n",
      "Name: Volume Sold (Gallons), dtype: float64\n",
      "liquor_type\n",
      "Whiskie     2055.83\n",
      "Vodka       1813.72\n",
      "Other       1541.90\n",
      "Rum          702.57\n",
      "Gin          639.56\n",
      "Tequila      446.20\n",
      "Schnapps     189.41\n",
      "Brandies     126.83\n",
      "Scotch        26.96\n",
      "Name: Volume Sold (Gallons), dtype: float64\n"
     ]
    }
   ],
   "source": [
    "top_5_profit_stores = new_iowa.groupby('Store Number')['Total_Profit'].sum().sort_values(\n",
    "            ascending = False).reset_index().iloc[0:5, 0].values\n",
    "\n",
    "\n",
    "store_2633 = new_iowa[new_iowa['Store Number'] == 2633]\n",
    "# print store_2633\n",
    "\n",
    "store_4829 = new_iowa[new_iowa['Store Number'] == 4829]\n",
    "# print store_4829\n",
    "\n",
    "store_2512 = new_iowa[new_iowa['Store Number'] == 2512]\n",
    "# print store_2512\n",
    "\n",
    "store_3385 = new_iowa[new_iowa['Store Number'] == 3385]\n",
    "# print store_3385\n",
    "\n",
    "store_3420 = new_iowa[new_iowa['Store Number'] == 3420]\n",
    "# print store_3420\n",
    "\n",
    "\n",
    "print store_2633.groupby('liquor_type')['Volume Sold (Gallons)'].sum().sort_values(ascending = False)\n",
    "print store_4829.groupby('liquor_type')['Volume Sold (Gallons)'].sum().sort_values(ascending = False)\n",
    "print store_2512.groupby('liquor_type')['Volume Sold (Gallons)'].sum().sort_values(ascending = False)\n",
    "print store_3385.groupby('liquor_type')['Volume Sold (Gallons)'].sum().sort_values(ascending = False)\n",
    "print store_3420.groupby('liquor_type')['Volume Sold (Gallons)'].sum().sort_values(ascending = False)"
   ]
  },
  {
   "cell_type": "code",
   "execution_count": 24,
   "metadata": {
    "collapsed": false
   },
   "outputs": [
    {
     "data": {
      "text/plain": [
       "<matplotlib.axes._subplots.AxesSubplot at 0x118cddc50>"
      ]
     },
     "execution_count": 24,
     "metadata": {},
     "output_type": "execute_result"
    },
    {
     "data": {
      "image/png": "[encoded data removed]",
      "text/plain": [
       "<matplotlib.figure.Figure at 0x11693c6d0>"
      ]
     },
     "metadata": {
      "image/png": {
       "height": 310,
       "width": 837
      }
     },
     "output_type": "display_data"
    },
    {
     "data": {
      "image/png": "[encoded data removed]",
      "text/plain": [
       "<matplotlib.figure.Figure at 0x118cec150>"
      ]
     },
     "metadata": {
      "image/png": {
       "height": 310,
       "width": 844
      }
     },
     "output_type": "display_data"
    }
   ],
   "source": [
    "new_iowa.groupby(['liquor_type'])[['Bottles Sold']].sum().sort_values('Bottles Sold', ascending = False).head(30).plot(kind = 'bar',figsize=(14,4))\n",
    "\n",
    "new_iowa.groupby(['liquor_type'])[['Total_Profit']].sum().sort_values('Total_Profit', ascending = False).head(30).plot(kind = 'bar',figsize=(14,4))"
   ]
  },
  {
   "cell_type": "markdown",
   "metadata": {},
   "source": [
    "<img src=\"http://imgur.com/l5NasQj.png\" style=\"float: left; margin: 25px 15px 0px 0px; height: 25px\">\n",
    "\n",
    "## 6. Market research for new store locations (Scenario 2)\n",
    "\n",
    "A liquor store owner in Iowa is looking to open a store in a new location and has hired you to investigate the market data for potential new locations. The business owner is interested in what you can discover from the data that will help him evaluate a good location for a new storefront.\n",
    "\n",
    "---\n",
    "\n",
    "### 6.1 Create columns for Q1 2015 sales and Q1 2016 sales.\n",
    "\n",
    "The owner is not just interested in what locations are currently selling well, but also which areas are showing the most promising sales growth from 2015 to 2016. \n",
    "\n",
    "For yearly changes we will focus on the changes from Q1 2015 to Q1 2016 specifically (avoiding effects of season changes).\n",
    "\n",
    "Note: Q1 is months: January, February, and March.\n"
   ]
  },
  {
   "cell_type": "markdown",
   "metadata": {},
   "source": [
    "## * Comparing Q1 for 2015 and 2016 we see above displays the top ten counties based sales growth. Johnson County produced the top quarter one sales growth from 2015 to 2016."
   ]
  },
  {
   "cell_type": "code",
   "execution_count": 25,
   "metadata": {
    "collapsed": false,
    "scrolled": true
   },
   "outputs": [
    {
     "data": {
      "text/html": [
       "<div>\n",
       "<table border=\"1\" class=\"dataframe\">\n",
       "  <thead>\n",
       "    <tr style=\"text-align: right;\">\n",
       "      <th></th>\n",
       "      <th>Store Number</th>\n",
       "      <th>Sales_growth</th>\n",
       "    </tr>\n",
       "  </thead>\n",
       "  <tbody>\n",
       "    <tr>\n",
       "      <th>0</th>\n",
       "      <td>3477.0</td>\n",
       "      <td>12376.74</td>\n",
       "    </tr>\n",
       "    <tr>\n",
       "      <th>1</th>\n",
       "      <td>2512.0</td>\n",
       "      <td>10115.17</td>\n",
       "    </tr>\n",
       "    <tr>\n",
       "      <th>2</th>\n",
       "      <td>3354.0</td>\n",
       "      <td>8502.99</td>\n",
       "    </tr>\n",
       "    <tr>\n",
       "      <th>3</th>\n",
       "      <td>3447.0</td>\n",
       "      <td>7211.62</td>\n",
       "    </tr>\n",
       "    <tr>\n",
       "      <th>4</th>\n",
       "      <td>2595.0</td>\n",
       "      <td>6618.08</td>\n",
       "    </tr>\n",
       "    <tr>\n",
       "      <th>5</th>\n",
       "      <td>2191.0</td>\n",
       "      <td>6061.13</td>\n",
       "    </tr>\n",
       "    <tr>\n",
       "      <th>6</th>\n",
       "      <td>3773.0</td>\n",
       "      <td>5875.35</td>\n",
       "    </tr>\n",
       "    <tr>\n",
       "      <th>7</th>\n",
       "      <td>3494.0</td>\n",
       "      <td>4975.86</td>\n",
       "    </tr>\n",
       "    <tr>\n",
       "      <th>8</th>\n",
       "      <td>2670.0</td>\n",
       "      <td>4844.05</td>\n",
       "    </tr>\n",
       "    <tr>\n",
       "      <th>9</th>\n",
       "      <td>2548.0</td>\n",
       "      <td>4657.48</td>\n",
       "    </tr>\n",
       "    <tr>\n",
       "      <th>10</th>\n",
       "      <td>2665.0</td>\n",
       "      <td>4592.85</td>\n",
       "    </tr>\n",
       "    <tr>\n",
       "      <th>11</th>\n",
       "      <td>4092.0</td>\n",
       "      <td>4515.43</td>\n",
       "    </tr>\n",
       "    <tr>\n",
       "      <th>12</th>\n",
       "      <td>2633.0</td>\n",
       "      <td>4165.95</td>\n",
       "    </tr>\n",
       "    <tr>\n",
       "      <th>13</th>\n",
       "      <td>4167.0</td>\n",
       "      <td>4161.97</td>\n",
       "    </tr>\n",
       "    <tr>\n",
       "      <th>14</th>\n",
       "      <td>4969.0</td>\n",
       "      <td>4086.63</td>\n",
       "    </tr>\n",
       "    <tr>\n",
       "      <th>15</th>\n",
       "      <td>4255.0</td>\n",
       "      <td>3620.25</td>\n",
       "    </tr>\n",
       "    <tr>\n",
       "      <th>16</th>\n",
       "      <td>4191.0</td>\n",
       "      <td>3247.40</td>\n",
       "    </tr>\n",
       "    <tr>\n",
       "      <th>17</th>\n",
       "      <td>4269.0</td>\n",
       "      <td>3074.43</td>\n",
       "    </tr>\n",
       "    <tr>\n",
       "      <th>18</th>\n",
       "      <td>4159.0</td>\n",
       "      <td>2980.90</td>\n",
       "    </tr>\n",
       "    <tr>\n",
       "      <th>19</th>\n",
       "      <td>2571.0</td>\n",
       "      <td>2855.87</td>\n",
       "    </tr>\n",
       "    <tr>\n",
       "      <th>20</th>\n",
       "      <td>2562.0</td>\n",
       "      <td>2692.72</td>\n",
       "    </tr>\n",
       "    <tr>\n",
       "      <th>21</th>\n",
       "      <td>2613.0</td>\n",
       "      <td>2425.55</td>\n",
       "    </tr>\n",
       "    <tr>\n",
       "      <th>22</th>\n",
       "      <td>2614.0</td>\n",
       "      <td>2222.11</td>\n",
       "    </tr>\n",
       "    <tr>\n",
       "      <th>23</th>\n",
       "      <td>3814.0</td>\n",
       "      <td>2220.36</td>\n",
       "    </tr>\n",
       "    <tr>\n",
       "      <th>24</th>\n",
       "      <td>2616.0</td>\n",
       "      <td>2188.98</td>\n",
       "    </tr>\n",
       "    <tr>\n",
       "      <th>25</th>\n",
       "      <td>2622.0</td>\n",
       "      <td>2166.87</td>\n",
       "    </tr>\n",
       "    <tr>\n",
       "      <th>26</th>\n",
       "      <td>4829.0</td>\n",
       "      <td>2139.19</td>\n",
       "    </tr>\n",
       "    <tr>\n",
       "      <th>27</th>\n",
       "      <td>3584.0</td>\n",
       "      <td>2112.28</td>\n",
       "    </tr>\n",
       "    <tr>\n",
       "      <th>28</th>\n",
       "      <td>2594.0</td>\n",
       "      <td>2078.15</td>\n",
       "    </tr>\n",
       "    <tr>\n",
       "      <th>29</th>\n",
       "      <td>2585.0</td>\n",
       "      <td>1987.62</td>\n",
       "    </tr>\n",
       "    <tr>\n",
       "      <th>...</th>\n",
       "      <td>...</td>\n",
       "      <td>...</td>\n",
       "    </tr>\n",
       "    <tr>\n",
       "      <th>1017</th>\n",
       "      <td>4481.0</td>\n",
       "      <td>-2403.42</td>\n",
       "    </tr>\n",
       "    <tr>\n",
       "      <th>1018</th>\n",
       "      <td>4258.0</td>\n",
       "      <td>-2465.11</td>\n",
       "    </tr>\n",
       "    <tr>\n",
       "      <th>1019</th>\n",
       "      <td>4158.0</td>\n",
       "      <td>-2602.98</td>\n",
       "    </tr>\n",
       "    <tr>\n",
       "      <th>1020</th>\n",
       "      <td>2106.0</td>\n",
       "      <td>-2918.69</td>\n",
       "    </tr>\n",
       "    <tr>\n",
       "      <th>1021</th>\n",
       "      <td>4107.0</td>\n",
       "      <td>-3006.28</td>\n",
       "    </tr>\n",
       "    <tr>\n",
       "      <th>1022</th>\n",
       "      <td>4648.0</td>\n",
       "      <td>-3040.84</td>\n",
       "    </tr>\n",
       "    <tr>\n",
       "      <th>1023</th>\n",
       "      <td>2558.0</td>\n",
       "      <td>-3069.56</td>\n",
       "    </tr>\n",
       "    <tr>\n",
       "      <th>1024</th>\n",
       "      <td>3820.0</td>\n",
       "      <td>-3218.00</td>\n",
       "    </tr>\n",
       "    <tr>\n",
       "      <th>1025</th>\n",
       "      <td>3944.0</td>\n",
       "      <td>-3380.76</td>\n",
       "    </tr>\n",
       "    <tr>\n",
       "      <th>1026</th>\n",
       "      <td>2648.0</td>\n",
       "      <td>-3397.19</td>\n",
       "    </tr>\n",
       "    <tr>\n",
       "      <th>1027</th>\n",
       "      <td>3390.0</td>\n",
       "      <td>-3551.57</td>\n",
       "    </tr>\n",
       "    <tr>\n",
       "      <th>1028</th>\n",
       "      <td>2549.0</td>\n",
       "      <td>-3624.59</td>\n",
       "    </tr>\n",
       "    <tr>\n",
       "      <th>1029</th>\n",
       "      <td>2535.0</td>\n",
       "      <td>-3900.83</td>\n",
       "    </tr>\n",
       "    <tr>\n",
       "      <th>1030</th>\n",
       "      <td>2353.0</td>\n",
       "      <td>-4197.60</td>\n",
       "    </tr>\n",
       "    <tr>\n",
       "      <th>1031</th>\n",
       "      <td>2629.0</td>\n",
       "      <td>-4253.84</td>\n",
       "    </tr>\n",
       "    <tr>\n",
       "      <th>1032</th>\n",
       "      <td>2593.0</td>\n",
       "      <td>-4440.58</td>\n",
       "    </tr>\n",
       "    <tr>\n",
       "      <th>1033</th>\n",
       "      <td>3521.0</td>\n",
       "      <td>-5433.83</td>\n",
       "    </tr>\n",
       "    <tr>\n",
       "      <th>1034</th>\n",
       "      <td>4253.0</td>\n",
       "      <td>-5959.32</td>\n",
       "    </tr>\n",
       "    <tr>\n",
       "      <th>1035</th>\n",
       "      <td>2502.0</td>\n",
       "      <td>-7018.65</td>\n",
       "    </tr>\n",
       "    <tr>\n",
       "      <th>1036</th>\n",
       "      <td>3524.0</td>\n",
       "      <td>-7249.08</td>\n",
       "    </tr>\n",
       "    <tr>\n",
       "      <th>1037</th>\n",
       "      <td>3952.0</td>\n",
       "      <td>-8901.37</td>\n",
       "    </tr>\n",
       "    <tr>\n",
       "      <th>1038</th>\n",
       "      <td>3420.0</td>\n",
       "      <td>-11697.30</td>\n",
       "    </tr>\n",
       "    <tr>\n",
       "      <th>1039</th>\n",
       "      <td>3385.0</td>\n",
       "      <td>-13776.48</td>\n",
       "    </tr>\n",
       "    <tr>\n",
       "      <th>1040</th>\n",
       "      <td>2205.0</td>\n",
       "      <td>NaN</td>\n",
       "    </tr>\n",
       "    <tr>\n",
       "      <th>1041</th>\n",
       "      <td>3437.0</td>\n",
       "      <td>NaN</td>\n",
       "    </tr>\n",
       "    <tr>\n",
       "      <th>1042</th>\n",
       "      <td>3970.0</td>\n",
       "      <td>NaN</td>\n",
       "    </tr>\n",
       "    <tr>\n",
       "      <th>1043</th>\n",
       "      <td>4112.0</td>\n",
       "      <td>NaN</td>\n",
       "    </tr>\n",
       "    <tr>\n",
       "      <th>1044</th>\n",
       "      <td>4247.0</td>\n",
       "      <td>NaN</td>\n",
       "    </tr>\n",
       "    <tr>\n",
       "      <th>1045</th>\n",
       "      <td>4811.0</td>\n",
       "      <td>NaN</td>\n",
       "    </tr>\n",
       "    <tr>\n",
       "      <th>1046</th>\n",
       "      <td>5093.0</td>\n",
       "      <td>NaN</td>\n",
       "    </tr>\n",
       "  </tbody>\n",
       "</table>\n",
       "<p>1047 rows × 2 columns</p>\n",
       "</div>"
      ],
      "text/plain": [
       "      Store Number  Sales_growth\n",
       "0           3477.0      12376.74\n",
       "1           2512.0      10115.17\n",
       "2           3354.0       8502.99\n",
       "3           3447.0       7211.62\n",
       "4           2595.0       6618.08\n",
       "5           2191.0       6061.13\n",
       "6           3773.0       5875.35\n",
       "7           3494.0       4975.86\n",
       "8           2670.0       4844.05\n",
       "9           2548.0       4657.48\n",
       "10          2665.0       4592.85\n",
       "11          4092.0       4515.43\n",
       "12          2633.0       4165.95\n",
       "13          4167.0       4161.97\n",
       "14          4969.0       4086.63\n",
       "15          4255.0       3620.25\n",
       "16          4191.0       3247.40\n",
       "17          4269.0       3074.43\n",
       "18          4159.0       2980.90\n",
       "19          2571.0       2855.87\n",
       "20          2562.0       2692.72\n",
       "21          2613.0       2425.55\n",
       "22          2614.0       2222.11\n",
       "23          3814.0       2220.36\n",
       "24          2616.0       2188.98\n",
       "25          2622.0       2166.87\n",
       "26          4829.0       2139.19\n",
       "27          3584.0       2112.28\n",
       "28          2594.0       2078.15\n",
       "29          2585.0       1987.62\n",
       "...            ...           ...\n",
       "1017        4481.0      -2403.42\n",
       "1018        4258.0      -2465.11\n",
       "1019        4158.0      -2602.98\n",
       "1020        2106.0      -2918.69\n",
       "1021        4107.0      -3006.28\n",
       "1022        4648.0      -3040.84\n",
       "1023        2558.0      -3069.56\n",
       "1024        3820.0      -3218.00\n",
       "1025        3944.0      -3380.76\n",
       "1026        2648.0      -3397.19\n",
       "1027        3390.0      -3551.57\n",
       "1028        2549.0      -3624.59\n",
       "1029        2535.0      -3900.83\n",
       "1030        2353.0      -4197.60\n",
       "1031        2629.0      -4253.84\n",
       "1032        2593.0      -4440.58\n",
       "1033        3521.0      -5433.83\n",
       "1034        4253.0      -5959.32\n",
       "1035        2502.0      -7018.65\n",
       "1036        3524.0      -7249.08\n",
       "1037        3952.0      -8901.37\n",
       "1038        3420.0     -11697.30\n",
       "1039        3385.0     -13776.48\n",
       "1040        2205.0           NaN\n",
       "1041        3437.0           NaN\n",
       "1042        3970.0           NaN\n",
       "1043        4112.0           NaN\n",
       "1044        4247.0           NaN\n",
       "1045        4811.0           NaN\n",
       "1046        5093.0           NaN\n",
       "\n",
       "[1047 rows x 2 columns]"
      ]
     },
     "execution_count": 25,
     "metadata": {},
     "output_type": "execute_result"
    }
   ],
   "source": [
    "q2015_mask = (new_iowa['Date'] >= '01/01/2015') & (new_iowa['Date'] < '04/01/2015')\n",
    "q2016_mask = (new_iowa['Date'] >= '01/01/2016') & (new_iowa['Date'] < '04/01/2016')\n",
    "\n",
    "quarter_2015 = new_iowa[q2015_mask]\n",
    "quarter_2016 = new_iowa[q2016_mask]\n",
    "# quarter1_2015 = iowa[iowa['Date'] >= '01/01/2015'][iowa['Date'] < '04/01/2015']\n",
    "\n",
    "#quarter1_2016 = iowa[iowa['Date'] >= '01/01/2016'][iowa['Date'] < '04/01/2016']\n",
    "\n",
    "df1 = quarter_2015.groupby(['Store Number','County'])[['Total_Profit']].sum().reset_index()\n",
    "df2 = quarter_2016.groupby(['Store Number'])[['Total_Profit']].sum().reset_index()\n",
    "\n",
    "new = pd.merge(df1, df2, on=['Store Number'], how='outer')\n",
    "new.columns = ['Store Number','County','Total_Profit_2015','Total_Profit_2016']\n",
    "\n",
    "new['Sales_growth'] = (new['Total_Profit_2016'] - new['Total_Profit_2015'])\n",
    "new['Sales_growth_percent'] = (new['Total_Profit_2016'] - new['Total_Profit_2015']) / new['Total_Profit_2015']\n",
    "\n",
    "new.groupby('Store Number')[['Sales_growth']].sum().sort_values(by='Sales_growth', ascending=False).reset_index()"
   ]
  },
  {
   "cell_type": "markdown",
   "metadata": {},
   "source": [
    "### 6.2 Decide on a metric for performance that combines Q1 2016 sales as well as growth in sales from Q1 2015.\n",
    "\n",
    "Again, the owner wants to know that his store will be in a good position to sell a large amount of liquor now, but also have his store be more likely to grow and sell even more going forward. \n",
    "\n",
    "In particular, he is worried about opening a store in an area that is showing a decline in liquor sales between Q1 2015 and Q1 2016."
   ]
  },
  {
   "cell_type": "markdown",
   "metadata": {},
   "source": [
    "## * Linn, Polk and Carrol counties should be avoided since quarter one growths from 2015 to 2016 have shown a decline in Sales growth. "
   ]
  },
  {
   "cell_type": "code",
   "execution_count": 26,
   "metadata": {
    "collapsed": false
   },
   "outputs": [
    {
     "data": {
      "text/html": [
       "<div>\n",
       "<table border=\"1\" class=\"dataframe\">\n",
       "  <thead>\n",
       "    <tr style=\"text-align: right;\">\n",
       "      <th></th>\n",
       "      <th>County</th>\n",
       "      <th>Sales_growth</th>\n",
       "    </tr>\n",
       "  </thead>\n",
       "  <tbody>\n",
       "    <tr>\n",
       "      <th>0</th>\n",
       "      <td>Linn</td>\n",
       "      <td>-15127.14</td>\n",
       "    </tr>\n",
       "    <tr>\n",
       "      <th>1</th>\n",
       "      <td>Polk</td>\n",
       "      <td>-12794.66</td>\n",
       "    </tr>\n",
       "    <tr>\n",
       "      <th>2</th>\n",
       "      <td>Carroll</td>\n",
       "      <td>-7553.46</td>\n",
       "    </tr>\n",
       "    <tr>\n",
       "      <th>3</th>\n",
       "      <td>Madison</td>\n",
       "      <td>-7050.02</td>\n",
       "    </tr>\n",
       "    <tr>\n",
       "      <th>4</th>\n",
       "      <td>Howard</td>\n",
       "      <td>-6892.69</td>\n",
       "    </tr>\n",
       "    <tr>\n",
       "      <th>5</th>\n",
       "      <td>Des Moines</td>\n",
       "      <td>-5767.34</td>\n",
       "    </tr>\n",
       "    <tr>\n",
       "      <th>6</th>\n",
       "      <td>Story</td>\n",
       "      <td>-4897.56</td>\n",
       "    </tr>\n",
       "    <tr>\n",
       "      <th>7</th>\n",
       "      <td>Boone</td>\n",
       "      <td>-3039.21</td>\n",
       "    </tr>\n",
       "    <tr>\n",
       "      <th>8</th>\n",
       "      <td>Dickinson</td>\n",
       "      <td>-2443.59</td>\n",
       "    </tr>\n",
       "    <tr>\n",
       "      <th>9</th>\n",
       "      <td>Henry</td>\n",
       "      <td>-2356.85</td>\n",
       "    </tr>\n",
       "  </tbody>\n",
       "</table>\n",
       "</div>"
      ],
      "text/plain": [
       "       County  Sales_growth\n",
       "0        Linn     -15127.14\n",
       "1        Polk     -12794.66\n",
       "2     Carroll      -7553.46\n",
       "3     Madison      -7050.02\n",
       "4      Howard      -6892.69\n",
       "5  Des Moines      -5767.34\n",
       "6       Story      -4897.56\n",
       "7       Boone      -3039.21\n",
       "8   Dickinson      -2443.59\n",
       "9       Henry      -2356.85"
      ]
     },
     "execution_count": 26,
     "metadata": {},
     "output_type": "execute_result"
    }
   ],
   "source": [
    "new.groupby('County')[['Sales_growth']].sum().sort_values(by='Sales_growth', ascending=True).reset_index().head(10)"
   ]
  },
  {
   "cell_type": "markdown",
   "metadata": {},
   "source": [
    "### 6.3 Recommend a location based on your metric.\n",
    "\n",
    "The owner asks you to make a recommendation for a new store location. Explain why you recommended this area."
   ]
  },
  {
   "cell_type": "markdown",
   "metadata": {
    "collapsed": true
   },
   "source": [
    "### *I would recommend opening a new store location in Johnson county, Woodbury county or Pottawattamie county.  They are the top three cities in Sales growth in quarter one valuations from 2015 to 2016. "
   ]
  },
  {
   "cell_type": "markdown",
   "metadata": {},
   "source": [
    "### 6.4 Recommend a location based also on a restricted inventory type.\n",
    "\n",
    "Your employer has now decided he wants his store to focus on one type of liquor only. He askes you:\n",
    "\n",
    "1. What would be the best type of liquor to sell to maximize profit?\n",
    "2. Should the recommended location change if he is only selling one type of liquor?"
   ]
  },
  {
   "cell_type": "code",
   "execution_count": 27,
   "metadata": {
    "collapsed": false
   },
   "outputs": [
    {
     "data": {
      "text/html": [
       "<div>\n",
       "<table border=\"1\" class=\"dataframe\">\n",
       "  <thead>\n",
       "    <tr style=\"text-align: right;\">\n",
       "      <th></th>\n",
       "      <th>Store Number</th>\n",
       "      <th>County</th>\n",
       "      <th>Liquor_Type</th>\n",
       "      <th>Total_Profit_2015</th>\n",
       "      <th>Total_Profit_2016</th>\n",
       "      <th>Profit_Change</th>\n",
       "      <th>Profit_Growth</th>\n",
       "    </tr>\n",
       "  </thead>\n",
       "  <tbody>\n",
       "    <tr>\n",
       "      <th>0</th>\n",
       "      <td>2106.0</td>\n",
       "      <td>Black Hawk</td>\n",
       "      <td>Brandies</td>\n",
       "      <td>241.92</td>\n",
       "      <td>156.72</td>\n",
       "      <td>-85.20</td>\n",
       "      <td>-0.352183</td>\n",
       "    </tr>\n",
       "    <tr>\n",
       "      <th>1</th>\n",
       "      <td>2106.0</td>\n",
       "      <td>Black Hawk</td>\n",
       "      <td>Gin</td>\n",
       "      <td>762.99</td>\n",
       "      <td>406.50</td>\n",
       "      <td>-356.49</td>\n",
       "      <td>-0.467228</td>\n",
       "    </tr>\n",
       "    <tr>\n",
       "      <th>2</th>\n",
       "      <td>2106.0</td>\n",
       "      <td>Black Hawk</td>\n",
       "      <td>Other</td>\n",
       "      <td>3246.74</td>\n",
       "      <td>1227.78</td>\n",
       "      <td>-2018.96</td>\n",
       "      <td>-0.621842</td>\n",
       "    </tr>\n",
       "    <tr>\n",
       "      <th>3</th>\n",
       "      <td>2106.0</td>\n",
       "      <td>Black Hawk</td>\n",
       "      <td>Rum</td>\n",
       "      <td>2379.90</td>\n",
       "      <td>2146.50</td>\n",
       "      <td>-233.40</td>\n",
       "      <td>-0.098071</td>\n",
       "    </tr>\n",
       "    <tr>\n",
       "      <th>4</th>\n",
       "      <td>2106.0</td>\n",
       "      <td>Black Hawk</td>\n",
       "      <td>Schnapps</td>\n",
       "      <td>1034.04</td>\n",
       "      <td>1542.72</td>\n",
       "      <td>508.68</td>\n",
       "      <td>0.491935</td>\n",
       "    </tr>\n",
       "  </tbody>\n",
       "</table>\n",
       "</div>"
      ],
      "text/plain": [
       "   Store Number      County Liquor_Type  Total_Profit_2015  Total_Profit_2016  \\\n",
       "0        2106.0  Black Hawk    Brandies             241.92             156.72   \n",
       "1        2106.0  Black Hawk         Gin             762.99             406.50   \n",
       "2        2106.0  Black Hawk       Other            3246.74            1227.78   \n",
       "3        2106.0  Black Hawk         Rum            2379.90            2146.50   \n",
       "4        2106.0  Black Hawk    Schnapps            1034.04            1542.72   \n",
       "\n",
       "   Profit_Change  Profit_Growth  \n",
       "0         -85.20      -0.352183  \n",
       "1        -356.49      -0.467228  \n",
       "2       -2018.96      -0.621842  \n",
       "3        -233.40      -0.098071  \n",
       "4         508.68       0.491935  "
      ]
     },
     "execution_count": 27,
     "metadata": {},
     "output_type": "execute_result"
    }
   ],
   "source": [
    "q2015_mask = (new_iowa['Date'] >= '01/01/2015') & (new_iowa['Date'] < '04/01/2015')\n",
    "q2016_mask = (new_iowa['Date'] >= '01/01/2016') & (new_iowa['Date'] < '04/01/2016')\n",
    "\n",
    "Q1_2015 = new_iowa[q2015_mask]\n",
    "Q1_2016 = new_iowa[q2016_mask]\n",
    "\n",
    "Q1_2015_stores_by_type = Q1_2015.groupby(['Store Number', 'County', 'liquor_type'])[['Total_Profit']].sum().reset_index()\n",
    "Q1_2016_stores_by_type = Q1_2016.groupby(['Store Number', 'County', 'liquor_type'])[['Total_Profit']].sum().reset_index()\n",
    "\n",
    "comparison = pd.merge(Q1_2015_stores_by_type, Q1_2016_stores_by_type, on=(\n",
    "       'Store Number', 'County', 'liquor_type'), how='outer')\n",
    "comparison.columns = ['Store Number', 'County', 'Liquor_Type', 'Total_Profit_2015', 'Total_Profit_2016']\n",
    "\n",
    "comparison['Profit_Change'] = comparison['Total_Profit_2016'] - comparison['Total_Profit_2015']\n",
    "comparison['Profit_Growth'] = comparison['Profit_Change'] / comparison['Total_Profit_2015']\n",
    "\n",
    "comparison.head()"
   ]
  },
  {
   "cell_type": "markdown",
   "metadata": {},
   "source": [
    "<img src=\"http://imgur.com/GCAf1UX.png\" style=\"float: left; margin: 25px 15px 0px 0px; height: 25px\">\n",
    "\n",
    "## 7. Time-related effects\n",
    "\n",
    "---\n",
    "\n",
    "You could imagine that liquor sales might be affected by a variety of effects related to time. Do people buy more beer in the summer? Do liquor sales skyrocket in december? Do people buy less liquor on Tuesdays?\n",
    "\n",
    "You have the date of sales in your dataset, which you can use to pull out time components.\n",
    "\n",
    "1. Come up with 3 different hypotheses about how liquor sales may vary with time-related variables. \n",
    "2. Create a visualization exploring each hypothesis.\n",
    "3. Write brief concluding remarks on what you observed.\n"
   ]
  },
  {
   "cell_type": "code",
   "execution_count": null,
   "metadata": {
    "collapsed": true
   },
   "outputs": [],
   "source": []
  },
  {
   "cell_type": "markdown",
   "metadata": {},
   "source": [
    "<img src=\"http://imgur.com/GCAf1UX.png\" style=\"float: left; margin: 25px 15px 0px 0px; height: 25px\">\n",
    "\n",
    "## 8. Appropriate spending\n",
    "\n",
    "---\n",
    "\n",
    "The owner you worked with before realized that opening new stores cost money, something he had completely overlooked earlier. He brings you back in to help him figure out how much he should be willing to spend on opening his store.\n",
    "\n",
    "### 8.1 Calculate costs and time to recoup.\n",
    "\n",
    "The owner has decided he will buy 20,000 gallons of the liquor type you recommended (randomly sampled across the different brands/subtypes). He will also be opening his store in the area you recommended.\n",
    "\n",
    "The cost of buying the property for his store will be $150,000.\n",
    "\n",
    "1. How much should he expect to spend on the 20,000 gallons of liquor alone?\n",
    "2. Based on the amount he's spent on the liquor and property, and on the profit per time period he is expected to have, how long will it take him to recoup the costs?"
   ]
  },
  {
   "cell_type": "code",
   "execution_count": null,
   "metadata": {
    "collapsed": true
   },
   "outputs": [],
   "source": []
  },
  {
   "cell_type": "markdown",
   "metadata": {},
   "source": [
    "<img src=\"http://imgur.com/gGrau8s.png\" style=\"float: left; margin: 25px 15px 0px 0px; height: 25px\">\n",
    "\n",
    "\n",
    "### 8.2 Calculate maximum loan interest rate.\n",
    "\n",
    "The owner unfortunately has to take out a loan to to pay for the entirety of the property and liquor. \n",
    "\n",
    "**Conditions of the loan**:\n",
    "\n",
    "Every quarter, (except for Q1 when he takes out the loan), the interest rate is applied to the remaining balance on the loan and added to his debt. \n",
    "\n",
    "If, for example, he made no payments whatsoever, not only would the amount of debt he owed keep increasing by quarter but the debt incurred from interest would keep increasing as well. (Since his debt keeps growing, the interest rate is applied each month to the bigger balance, incurring more debt each time.)\n",
    "\n",
    "**Determining maximum acceptable interest:**\n",
    "\n",
    "Given this, _the owner wants to be 99% confident that he will be able to pay off his loans._ If the interest rate is too high he will have to eventually declare bankruptcy.\n",
    "\n",
    "Based on his expected profits per quarter (assume the expected profit stays the same for all future quarters), what is the maximum interest rate he should accept on the loan to be 99% confident he will be able to pay it off?"
   ]
  },
  {
   "cell_type": "code",
   "execution_count": null,
   "metadata": {
    "collapsed": true
   },
   "outputs": [],
   "source": []
  }
 ],
 "metadata": {
  "anaconda-cloud": {},
  "kernelspec": {
   "display_name": "Python [dsi]",
   "language": "python",
   "name": "Python [dsi]"
  },
  "language_info": {
   "codemirror_mode": {
    "name": "ipython",
    "version": 2
   },
   "file_extension": ".py",
   "mimetype": "text/x-python",
   "name": "python",
   "nbconvert_exporter": "python",
   "pygments_lexer": "ipython2",
   "version": "2.7.12"
  }
 },
 "nbformat": 4,
 "nbformat_minor": 0
}
