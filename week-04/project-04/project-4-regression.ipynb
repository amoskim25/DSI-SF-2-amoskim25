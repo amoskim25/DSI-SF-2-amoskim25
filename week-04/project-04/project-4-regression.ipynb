{
 "cells": [
  {
   "cell_type": "markdown",
   "metadata": {},
   "source": [
    "<img src=\"http://imgur.com/1ZcRyrc.png\" style=\"float: left; margin: 15px; height: 80px\">\n",
    "\n",
    "# Project 4\n",
    "\n",
    "## San Francisco Data\n",
    "\n",
    "---\n",
    "\n",
    "[San Francisco provides a wealth of data on the city to the public.](https://data.sfgov.org/) Project 4 is all about exploring this data and modeling interesting relationships with regression.\n",
    "\n",
    "Project 4 is also much more open-ended than the previous projects. You are more responsible for finding things about the data that interest you, coming up with your own hypothesis about it, and reporting on the analysis you carry out. That being said, there are still specific requirements and restrictions on the type of models you will be constructing.\n",
    "\n",
    "---\n",
    "\n",
    "## Notes on the data\n",
    "\n",
    "We have gone through the above website and pulled out a variety of different datasets that we think are particularly interesting. Some of the datasets are from external sources as well, but all are related to San Francisco. A high level overview of data folders is provided after the project requirements section.\n",
    "\n",
    "**There is a lot of different data. You are _NOT_ expected to explore all of it or include all of it in analyses.** The point of the project is to focus on aspects of San Francisco that are particularly interesting to you from a modeling point of view. \n",
    "\n",
    "**The uncompressed data is a large filesize.** Even the compressed data is pretty large. The data is compressed into a .7z format which has one of the smallest filesizes available. You will likely need a 3rd party app to extract it. \n",
    "\n",
    "### Recommended Utilities for .7z\n",
    "- For OSX [Keka](http://www.kekaosx.com/en/) or [The Unarchiver](http://wakaba.c3.cx/s/apps/unarchiver.html). \n",
    "- For Windows [7-zip](http://www.7-zip.org/) is the standard. \n",
    "- For Linux try the `p7zip` utility.  `sudo apt-get install p7zip`.\n",
    "\n",
    "---\n",
    "\n",
    "## Project requirements\n",
    "\n",
    "**You will be performing 4 different sections of analysis on the San Francisco data.**\n",
    "\n",
    "**Models must be regression. This means that your target variable needs to be numeric/continuous**\n",
    "\n",
    "Do not perform classification models – this will be the topic of week 4.\n"
   ]
  },
  {
   "cell_type": "markdown",
   "metadata": {},
   "source": [
    "<img src=\"http://imgur.com/l5NasQj.png\" style=\"float: left; margin: 25px 15px 0px 0px; height: 25px\">\n",
    "\n",
    "### 1. Choose a dataset or datasets of interest to you and perform EDA\n",
    "\n",
    "---\n",
    "\n",
    "1. Explain what the data is. This may include multiple csv files. Some of this data has hard to understand codes representing the variables. Nearly all data is pulled from https://data.sfgov.org/ so this is a very good resource for determining what the data is.\n",
    "- Clean the data.\n",
    "- Develop and state clearly a hypothesis about the data that you would want to test.\n",
    "- Create some initial visualizations on the portions of the data relevant to your hypothesis."
   ]
  },
  {
   "cell_type": "code",
   "execution_count": 2,
   "metadata": {
    "collapsed": false
   },
   "outputs": [],
   "source": [
    "# import moduled\n",
    "import pandas as pd\n",
    "import numpy as np\n",
    "import scipy.stats as stats\n",
    "import seaborn as sns\n",
    "import matplotlib.pyplot as plt\n",
    "%matplotlib inline\n",
    "\n"
   ]
  },
  {
   "cell_type": "code",
   "execution_count": 3,
   "metadata": {
    "collapsed": true
   },
   "outputs": [],
   "source": [
    "import patsy\n",
    "from sklearn.cross_validation import train_test_split\n",
    "from sklearn.linear_model import LinearRegression"
   ]
  },
  {
   "cell_type": "code",
   "execution_count": 4,
   "metadata": {
    "collapsed": false
   },
   "outputs": [
    {
     "name": "stderr",
     "output_type": "stream",
     "text": [
      "/Users/amos/anaconda/envs/dsi/lib/python2.7/site-packages/IPython/core/interactiveshell.py:2723: DtypeWarning: Columns (10,13) have mixed types. Specify dtype option on import or set low_memory=False.\n",
      "  interactivity=interactivity, compiler=compiler, result=result)\n"
     ]
    },
    {
     "data": {
      "text/html": [
       "<div>\n",
       "<table border=\"1\" class=\"dataframe\">\n",
       "  <thead>\n",
       "    <tr style=\"text-align: right;\">\n",
       "      <th></th>\n",
       "      <th>business_id</th>\n",
       "      <th>score</th>\n",
       "      <th>date</th>\n",
       "      <th>type</th>\n",
       "      <th>violation_count</th>\n",
       "      <th>days_since_first_violation</th>\n",
       "      <th>name</th>\n",
       "      <th>address</th>\n",
       "      <th>city</th>\n",
       "      <th>state</th>\n",
       "      <th>...</th>\n",
       "      <th>washed fruits</th>\n",
       "      <th>wastewater</th>\n",
       "      <th>wastewater contamination</th>\n",
       "      <th>wastewater disposal</th>\n",
       "      <th>water</th>\n",
       "      <th>water running</th>\n",
       "      <th>wiping</th>\n",
       "      <th>wiping cloths</th>\n",
       "      <th>worker</th>\n",
       "      <th>worker safety</th>\n",
       "    </tr>\n",
       "  </thead>\n",
       "  <tbody>\n",
       "    <tr>\n",
       "      <th>0</th>\n",
       "      <td>10.0</td>\n",
       "      <td>92.0</td>\n",
       "      <td>2014-01-14</td>\n",
       "      <td>routine</td>\n",
       "      <td>1.0</td>\n",
       "      <td>0.0</td>\n",
       "      <td>TIRAMISU KITCHEN</td>\n",
       "      <td>033 BELDEN PL</td>\n",
       "      <td>San Francisco</td>\n",
       "      <td>CA</td>\n",
       "      <td>...</td>\n",
       "      <td>0</td>\n",
       "      <td>0</td>\n",
       "      <td>0</td>\n",
       "      <td>0</td>\n",
       "      <td>0</td>\n",
       "      <td>0</td>\n",
       "      <td>0</td>\n",
       "      <td>0</td>\n",
       "      <td>0</td>\n",
       "      <td>0</td>\n",
       "    </tr>\n",
       "    <tr>\n",
       "      <th>1</th>\n",
       "      <td>10.0</td>\n",
       "      <td>92.0</td>\n",
       "      <td>2014-01-14</td>\n",
       "      <td>routine</td>\n",
       "      <td>1.0</td>\n",
       "      <td>0.0</td>\n",
       "      <td>TIRAMISU KITCHEN</td>\n",
       "      <td>033 BELDEN PL</td>\n",
       "      <td>San Francisco</td>\n",
       "      <td>CA</td>\n",
       "      <td>...</td>\n",
       "      <td>0</td>\n",
       "      <td>0</td>\n",
       "      <td>0</td>\n",
       "      <td>0</td>\n",
       "      <td>0</td>\n",
       "      <td>0</td>\n",
       "      <td>0</td>\n",
       "      <td>0</td>\n",
       "      <td>0</td>\n",
       "      <td>0</td>\n",
       "    </tr>\n",
       "  </tbody>\n",
       "</table>\n",
       "<p>2 rows × 393 columns</p>\n",
       "</div>"
      ],
      "text/plain": [
       "   business_id  score        date     type  violation_count  \\\n",
       "0         10.0   92.0  2014-01-14  routine              1.0   \n",
       "1         10.0   92.0  2014-01-14  routine              1.0   \n",
       "\n",
       "   days_since_first_violation              name        address           city  \\\n",
       "0                         0.0  TIRAMISU KITCHEN  033 BELDEN PL  San Francisco   \n",
       "1                         0.0  TIRAMISU KITCHEN  033 BELDEN PL  San Francisco   \n",
       "\n",
       "  state      ...      washed fruits  wastewater  wastewater contamination  \\\n",
       "0    CA      ...                  0           0                         0   \n",
       "1    CA      ...                  0           0                         0   \n",
       "\n",
       "  wastewater disposal  water water running wiping wiping cloths  worker  \\\n",
       "0                   0      0             0      0             0       0   \n",
       "1                   0      0             0      0             0       0   \n",
       "\n",
       "  worker safety  \n",
       "0             0  \n",
       "1             0  \n",
       "\n",
       "[2 rows x 393 columns]"
      ]
     },
     "execution_count": 4,
     "metadata": {},
     "output_type": "execute_result"
    }
   ],
   "source": [
    "violations = pd.read_csv('/Users/amos/Desktop/DSI-SF-2/datasets/san_francisco/san_francisco/yelp_sf_healthcode_violations/violations_parsed_words.csv')\n",
    "violations.head(2)"
   ]
  },
  {
   "cell_type": "code",
   "execution_count": 5,
   "metadata": {
    "collapsed": false,
    "scrolled": false
   },
   "outputs": [
    {
     "data": {
      "text/plain": [
       "<matplotlib.text.Text at 0x117ca1610>"
      ]
     },
     "execution_count": 5,
     "metadata": {},
     "output_type": "execute_result"
    },
    {
     "data": {
      "image/png": "[encoded data removed]",
      "text/plain": [
       "<matplotlib.figure.Figure at 0x110ff5950>"
      ]
     },
     "metadata": {},
     "output_type": "display_data"
    }
   ],
   "source": [
    "sns.set(rc={\"figure.figsize\": (10, 7)})\n",
    "sns.set_style('white')\n",
    "\n",
    "ax = sns.distplot(violations['score'], kde=False)\n",
    "\n",
    "ax.set_xlabel('Score', fontsize=18)"
   ]
  },
  {
   "cell_type": "code",
   "execution_count": 6,
   "metadata": {
    "collapsed": false
   },
   "outputs": [
    {
     "data": {
      "text/plain": [
       "<matplotlib.lines.Line2D at 0x1020771d0>"
      ]
     },
     "execution_count": 6,
     "metadata": {},
     "output_type": "execute_result"
    },
    {
     "data": {
      "image/png": "[encoded data removed]",
      "text/plain": [
       "<matplotlib.figure.Figure at 0x117cc9610>"
      ]
     },
     "metadata": {},
     "output_type": "display_data"
    }
   ],
   "source": [
    "fig = plt.figure(figsize=(10,6))\n",
    "result = plt.hist(violations.score, bins=20, color='r')\n",
    "plt.axvline(violations.score.mean(), color='b', linestyle='dotted', linewidth=5)"
   ]
  },
  {
   "cell_type": "code",
   "execution_count": null,
   "metadata": {
    "collapsed": true
   },
   "outputs": [],
   "source": []
  },
  {
   "cell_type": "markdown",
   "metadata": {},
   "source": [
    "<img src=\"http://imgur.com/l5NasQj.png\" style=\"float: left; margin: 25px 15px 0px 0px; height: 25px\">\n",
    "\n",
    "### 2. Construct and evaluate a linear regression model on the data\n",
    "\n",
    "---\n",
    "\n",
    "1. State the variables that are predictors in your linear regression and the target variable.\n",
    "- Investigate and remove any outliers or other problems in your data. _This is a subjective process._\n",
    "- Construct a linear regression model.\n",
    "- Evaluate the model. How does the $R^2$ of the overall model compare to cross-validated $R^2$. What do the differences in $R^2$ mean?\n",
    "  - Use test / train split\n",
    "  - Use K-Folds\n",
    "  - Compare and explain your results with both\n",
    "- Visualize the evaluation metrics of your analysis in clear charts.\n",
    "- Summarize your results in the context of your hypothesis. Frame this as if you are presenting to non-technical readers.\n"
   ]
  },
  {
   "cell_type": "markdown",
   "metadata": {},
   "source": [
    "## The violations data frame displays health code information on restaurants in San Francisco based on certain criteria to determine how well each food chain maintains a clean, safe and healthy workspace. I've chosen three criterias neighborhood, safety and sanitizer as a good model to predict the target variable score. \n",
    "\n"
   ]
  },
  {
   "cell_type": "code",
   "execution_count": 8,
   "metadata": {
    "collapsed": true
   },
   "outputs": [],
   "source": [
    "\n",
    "formula = 'score ~ C(neighborhood) + C(safety) + C(sanitizer) - 1'"
   ]
  },
  {
   "cell_type": "code",
   "execution_count": 9,
   "metadata": {
    "collapsed": false
   },
   "outputs": [],
   "source": [
    "y, X = patsy.dmatrices(formula,data=violations,return_type='dataframe')\n",
    "# Creating 2 design matrices or dataframes"
   ]
  },
  {
   "cell_type": "code",
   "execution_count": 10,
   "metadata": {
    "collapsed": false
   },
   "outputs": [
    {
     "name": "stdout",
     "output_type": "stream",
     "text": [
      "(32455, 1) (32455, 46)\n"
     ]
    }
   ],
   "source": [
    "print y.shape, X.shape"
   ]
  },
  {
   "cell_type": "code",
   "execution_count": 11,
   "metadata": {
    "collapsed": true
   },
   "outputs": [],
   "source": [
    "X_train, X_test, y_train, y_test = train_test_split(X,y,test_size=.33)\n",
    "# splitting the 2 design matrices into test/train datasets. \n"
   ]
  },
  {
   "cell_type": "code",
   "execution_count": 12,
   "metadata": {
    "collapsed": true
   },
   "outputs": [],
   "source": [
    "lr = LinearRegression()\n",
    "# Initialize linear regression model"
   ]
  },
  {
   "cell_type": "code",
   "execution_count": 13,
   "metadata": {
    "collapsed": true
   },
   "outputs": [],
   "source": [
    "model= lr.fit(X_train,y_train)\n",
    "predictions = lr.predict(X_test)"
   ]
  },
  {
   "cell_type": "code",
   "execution_count": 14,
   "metadata": {
    "collapsed": false
   },
   "outputs": [],
   "source": [
    "model= lr.fit(X_train,y_train) # Fit the regressional model with our trainning data set. (How we \"teach\" the model)"
   ]
  },
  {
   "cell_type": "code",
   "execution_count": 15,
   "metadata": {
    "collapsed": false
   },
   "outputs": [],
   "source": [
    "predictions = lr.predict(X_test) #See what the model thinks or make predictions on test data using the model created by the trainning data."
   ]
  },
  {
   "cell_type": "code",
   "execution_count": 16,
   "metadata": {
    "collapsed": false
   },
   "outputs": [
    {
     "data": {
      "text/plain": [
       "77.809789021624397"
      ]
     },
     "execution_count": 16,
     "metadata": {},
     "output_type": "execute_result"
    }
   ],
   "source": [
    "# using sklearn we find that the mean squared error between predicted y (applying X_test to our linear regression model\n",
    "# from the trainning data set)  and the y_test array. \n",
    "from sklearn.metrics import mean_squared_error\n",
    "mean_squared_error(y_test, predictions)"
   ]
  },
  {
   "cell_type": "code",
   "execution_count": 17,
   "metadata": {
    "collapsed": false
   },
   "outputs": [
    {
     "data": {
      "text/plain": [
       "0.09167837539338175"
      ]
     },
     "execution_count": 17,
     "metadata": {},
     "output_type": "execute_result"
    }
   ],
   "source": [
    "# Calculating the accuracy of my model: R^2 value\n",
    "model.score(X_test,y_test)\n"
   ]
  },
  {
   "cell_type": "code",
   "execution_count": 18,
   "metadata": {
    "collapsed": false
   },
   "outputs": [
    {
     "data": {
      "image/png": "[encoded data removed]",
      "text/plain": [
       "<matplotlib.figure.Figure at 0x120ae4b50>"
      ]
     },
     "metadata": {},
     "output_type": "display_data"
    }
   ],
   "source": [
    "plt.scatter(predictions, y_test, s=30, c='r')\n",
    "\n",
    "plt.xlabel(\"Predicted Score\")\n",
    "plt.ylabel(\"Target or True value of score\")\n",
    "\n",
    "plt.show()"
   ]
  },
  {
   "cell_type": "code",
   "execution_count": 19,
   "metadata": {
    "collapsed": false
   },
   "outputs": [
    {
     "name": "stdout",
     "output_type": "stream",
     "text": [
      "MSE: 77.81\n",
      "R^2: 0.0917\n"
     ]
    }
   ],
   "source": [
    "print \"MSE: %.2f\" % mean_squared_error(y_test, predictions)\n",
    "print \"R^2: %.4f\"% model.score(X_test,y_test)"
   ]
  },
  {
   "cell_type": "code",
   "execution_count": 20,
   "metadata": {
    "collapsed": false
   },
   "outputs": [
    {
     "name": "stdout",
     "output_type": "stream",
     "text": [
      "10711\n",
      "10711\n"
     ]
    }
   ],
   "source": [
    "print len(y_test)\n",
    "print len(predictions)"
   ]
  },
  {
   "cell_type": "code",
   "execution_count": 21,
   "metadata": {
    "collapsed": false
   },
   "outputs": [
    {
     "data": {
      "image/png": "[encoded data removed]",
      "text/plain": [
       "<matplotlib.figure.Figure at 0x12089b790>"
      ]
     },
     "metadata": {},
     "output_type": "display_data"
    }
   ],
   "source": [
    "def plot_y_yhat(y, yhat):\n",
    "\n",
    "    fig = plt.figure(figsize=(7,7))\n",
    "    ax = fig.gca()\n",
    "\n",
    "    ax.scatter(y, yhat, color='darkgoldenrod', s=70, label='yhat - true y')\n",
    "\n",
    "    max_val = np.max(y)\n",
    "    min_val = np.min(y)\n",
    "\n",
    "    ax.plot([min_val, max_val], [min_val, max_val], color='darkgreen',\n",
    "            linewidth=4.0, alpha=0.7, label='perfect model')\n",
    "\n",
    "    ax.set_xlabel('true y', fontsize=16)\n",
    "    ax.set_ylabel('yhat', fontsize=16)\n",
    "\n",
    "    plt.legend(loc='upper left')\n",
    "\n",
    "    plt.show()\n",
    "    \n",
    "plot_y_yhat(y_test, predictions)"
   ]
  },
  {
   "cell_type": "code",
   "execution_count": 22,
   "metadata": {
    "collapsed": true
   },
   "outputs": [],
   "source": [
    "lm = LinearRegression()"
   ]
  },
  {
   "cell_type": "code",
   "execution_count": 23,
   "metadata": {
    "collapsed": false
   },
   "outputs": [
    {
     "name": "stdout",
     "output_type": "stream",
     "text": [
      "Cross-validated scores: [ -4.15037426e+21  -1.97336217e+22  -6.57530489e+21  -2.24489584e+26\n",
      "  -2.09746107e+23]\n",
      "Cross-Predicted Accuracy: -4.6508525015e+25\n",
      "Mean scores: -4.49459578512e+25\n"
     ]
    },
    {
     "data": {
      "image/png": "[encoded data removed]",
      "text/plain": [
       "<matplotlib.figure.Figure at 0x103980150>"
      ]
     },
     "metadata": {},
     "output_type": "display_data"
    }
   ],
   "source": [
    "from sklearn.cross_validation import cross_val_score, cross_val_predict\n",
    "from sklearn import metrics\n",
    "\n",
    "# Perform 6-fold cross validation\n",
    "scores = cross_val_score(lm, X, y, cv=5)\n",
    "print \"Cross-validated scores:\", scores\n",
    "\n",
    "# # Make cross validated predictions\n",
    "predictions = cross_val_predict(lm, X, y, cv=5)\n",
    "plt.scatter(y, predictions)\n",
    "\n",
    "accuracy = metrics.r2_score(y, predictions)\n",
    "print \"Cross-Predicted Accuracy:\", accuracy   # our R^2 values\n",
    "print \"Mean scores:\", np.mean(scores)"
   ]
  },
  {
   "cell_type": "markdown",
   "metadata": {},
   "source": [
    "# Conclusion: Predicting score with predictor variables neighborhood, safety and sanitizer is not enough to create a model to predict future scores. \n",
    "\n",
    "## The range of our target data is [0,100] so the high mean squared error value is pretty bad. It's saying that my model is creating predictions that are on average 82.06 squared units away from the target values. \n",
    "\n",
    "## The low  R^2 shows my predictor variables are not good predictors in itself. "
   ]
  },
  {
   "cell_type": "code",
   "execution_count": 24,
   "metadata": {
    "collapsed": true
   },
   "outputs": [],
   "source": [
    "# The combination of these three scores is not enough to model score"
   ]
  },
  {
   "cell_type": "markdown",
   "metadata": {},
   "source": [
    "<img src=\"http://imgur.com/xDpSobf.png\" style=\"float: left; margin: 25px 15px 0px 0px; height: 25px\">\n",
    "\n",
    "### 2.2 Explain $R^2$ vs. mean squared error (MSE)\n",
    "\n",
    "---\n",
    "\n",
    "1. If you have negative $R^2$ values in cross-validation, what does this mean? \n",
    "2. Why can $R^2$ only be negative when the model is tested on new data?"
   ]
  },
  {
   "cell_type": "code",
   "execution_count": null,
   "metadata": {
    "collapsed": true
   },
   "outputs": [],
   "source": []
  },
  {
   "cell_type": "markdown",
   "metadata": {},
   "source": [
    "<img src=\"http://imgur.com/l5NasQj.png\" style=\"float: left; margin: 25px 15px 0px 0px; height: 25px\">\n",
    "\n",
    "### 3. Combine multiple sources of data and evaluate a model with regularized regression\n",
    "\n",
    "---\n",
    "\n",
    "**I recommend having many predictors to see benefits from regularization methods, but it's up to you.**\n",
    "\n",
    "1. Use _NEW_ sources of data for this section. It should not be related to your analysis/hypothesis from section 1.\n",
    "- Like in part 1, you should state a hypothesis and perform data cleaning and EDA _only_ on the relevant portions of your data. Don't waste time!\n",
    "- Construct and evaluate different models with cross-validated $R^2$. Compare LinearRegression, Lasso, Ridge, and ElasticNet. Find the optimal hyperparameters (alpha, l1_ratio) using gridsearch.\n",
    "- Report on which model is best, and why that might be the case (hint: does your data have multicollinearity? Irrelevant variables? Both?)\n",
    "- Plot visuals that compare the performance of the four models.\n"
   ]
  },
  {
   "cell_type": "code",
   "execution_count": 35,
   "metadata": {
    "collapsed": false
   },
   "outputs": [
    {
     "data": {
      "text/html": [
       "<div>\n",
       "<table border=\"1\" class=\"dataframe\">\n",
       "  <thead>\n",
       "    <tr style=\"text-align: right;\">\n",
       "      <th></th>\n",
       "      <th>Incident Number</th>\n",
       "      <th>Exposure Number</th>\n",
       "      <th>Address</th>\n",
       "      <th>Incident Date</th>\n",
       "      <th>Call Number</th>\n",
       "      <th>Alarm DtTm</th>\n",
       "      <th>Arrival DtTm</th>\n",
       "      <th>Close DtTm</th>\n",
       "      <th>City</th>\n",
       "      <th>Zipcode</th>\n",
       "      <th>...</th>\n",
       "      <th>Detector Effectiveness</th>\n",
       "      <th>Detector Failure Reason</th>\n",
       "      <th>Automatic Extinguishing System Present</th>\n",
       "      <th>Automatic Extinguishing Sytem Type</th>\n",
       "      <th>Automatic Extinguishing Sytem Perfomance</th>\n",
       "      <th>Automatic Extinguishing Sytem Failure Reason</th>\n",
       "      <th>Number of Sprinkler Heads Operating</th>\n",
       "      <th>Supervisor District</th>\n",
       "      <th>Neighborhood  District</th>\n",
       "      <th>Location</th>\n",
       "    </tr>\n",
       "  </thead>\n",
       "  <tbody>\n",
       "    <tr>\n",
       "      <th>0</th>\n",
       "      <td>9030109</td>\n",
       "      <td>0</td>\n",
       "      <td>310 Colon Av.</td>\n",
       "      <td>04/12/2009</td>\n",
       "      <td>91020273</td>\n",
       "      <td>04/12/2009 06:09:13 PM</td>\n",
       "      <td>04/12/2009 06:13:45 PM</td>\n",
       "      <td>04/12/2009 07:23:13 PM</td>\n",
       "      <td>SF</td>\n",
       "      <td>NaN</td>\n",
       "      <td>...</td>\n",
       "      <td>NaN</td>\n",
       "      <td>NaN</td>\n",
       "      <td>NaN</td>\n",
       "      <td>NaN</td>\n",
       "      <td>NaN</td>\n",
       "      <td>NaN</td>\n",
       "      <td>NaN</td>\n",
       "      <td>NaN</td>\n",
       "      <td>NaN</td>\n",
       "      <td>NaN</td>\n",
       "    </tr>\n",
       "    <tr>\n",
       "      <th>1</th>\n",
       "      <td>13067402</td>\n",
       "      <td>0</td>\n",
       "      <td>20 Lansdale Av</td>\n",
       "      <td>07/18/2013</td>\n",
       "      <td>131990117</td>\n",
       "      <td>07/18/2013 10:32:03 AM</td>\n",
       "      <td>07/18/2013 10:37:15 AM</td>\n",
       "      <td>07/18/2013 10:39:55 AM</td>\n",
       "      <td>SF</td>\n",
       "      <td>NaN</td>\n",
       "      <td>...</td>\n",
       "      <td>NaN</td>\n",
       "      <td>NaN</td>\n",
       "      <td>NaN</td>\n",
       "      <td>NaN</td>\n",
       "      <td>NaN</td>\n",
       "      <td>NaN</td>\n",
       "      <td>NaN</td>\n",
       "      <td>NaN</td>\n",
       "      <td>NaN</td>\n",
       "      <td>NaN</td>\n",
       "    </tr>\n",
       "    <tr>\n",
       "      <th>2</th>\n",
       "      <td>12044490</td>\n",
       "      <td>0</td>\n",
       "      <td>7th St. / Folsom St.</td>\n",
       "      <td>05/13/2012</td>\n",
       "      <td>121340051</td>\n",
       "      <td>05/13/2012 03:55:37 AM</td>\n",
       "      <td>05/13/2012 04:01:57 AM</td>\n",
       "      <td>05/13/2012 04:05:44 AM</td>\n",
       "      <td>SF</td>\n",
       "      <td>94103.0</td>\n",
       "      <td>...</td>\n",
       "      <td>NaN</td>\n",
       "      <td>NaN</td>\n",
       "      <td>NaN</td>\n",
       "      <td>NaN</td>\n",
       "      <td>NaN</td>\n",
       "      <td>NaN</td>\n",
       "      <td>NaN</td>\n",
       "      <td>6.0</td>\n",
       "      <td>South of Market</td>\n",
       "      <td>(37.7767460000297, -122.407844)</td>\n",
       "    </tr>\n",
       "    <tr>\n",
       "      <th>3</th>\n",
       "      <td>13033326</td>\n",
       "      <td>0</td>\n",
       "      <td>2799 Pacific Av</td>\n",
       "      <td>04/09/2013</td>\n",
       "      <td>130990286</td>\n",
       "      <td>04/09/2013 04:34:07 PM</td>\n",
       "      <td>04/09/2013 04:39:31 PM</td>\n",
       "      <td>04/09/2013 05:20:27 PM</td>\n",
       "      <td>SF</td>\n",
       "      <td>NaN</td>\n",
       "      <td>...</td>\n",
       "      <td>NaN</td>\n",
       "      <td>NaN</td>\n",
       "      <td>NaN</td>\n",
       "      <td>NaN</td>\n",
       "      <td>NaN</td>\n",
       "      <td>NaN</td>\n",
       "      <td>NaN</td>\n",
       "      <td>NaN</td>\n",
       "      <td>NaN</td>\n",
       "      <td>NaN</td>\n",
       "    </tr>\n",
       "    <tr>\n",
       "      <th>4</th>\n",
       "      <td>11101416</td>\n",
       "      <td>0</td>\n",
       "      <td>Polk St. / Pine St.</td>\n",
       "      <td>11/01/2011</td>\n",
       "      <td>113050357</td>\n",
       "      <td>11/01/2011 06:07:45 PM</td>\n",
       "      <td>11/01/2011 06:10:17 PM</td>\n",
       "      <td>11/01/2011 06:11:09 PM</td>\n",
       "      <td>SF</td>\n",
       "      <td>94109.0</td>\n",
       "      <td>...</td>\n",
       "      <td>NaN</td>\n",
       "      <td>NaN</td>\n",
       "      <td>NaN</td>\n",
       "      <td>NaN</td>\n",
       "      <td>NaN</td>\n",
       "      <td>NaN</td>\n",
       "      <td>NaN</td>\n",
       "      <td>3.0</td>\n",
       "      <td>Nob Hill</td>\n",
       "      <td>(37.7896190000297, -122.420497)</td>\n",
       "    </tr>\n",
       "  </tbody>\n",
       "</table>\n",
       "<p>5 rows × 63 columns</p>\n",
       "</div>"
      ],
      "text/plain": [
       "   Incident Number  Exposure Number               Address Incident Date  \\\n",
       "0          9030109                0         310 Colon Av.    04/12/2009   \n",
       "1         13067402                0        20 Lansdale Av    07/18/2013   \n",
       "2         12044490                0  7th St. / Folsom St.    05/13/2012   \n",
       "3         13033326                0       2799 Pacific Av    04/09/2013   \n",
       "4         11101416                0   Polk St. / Pine St.    11/01/2011   \n",
       "\n",
       "   Call Number              Alarm DtTm            Arrival DtTm  \\\n",
       "0     91020273  04/12/2009 06:09:13 PM  04/12/2009 06:13:45 PM   \n",
       "1    131990117  07/18/2013 10:32:03 AM  07/18/2013 10:37:15 AM   \n",
       "2    121340051  05/13/2012 03:55:37 AM  05/13/2012 04:01:57 AM   \n",
       "3    130990286  04/09/2013 04:34:07 PM  04/09/2013 04:39:31 PM   \n",
       "4    113050357  11/01/2011 06:07:45 PM  11/01/2011 06:10:17 PM   \n",
       "\n",
       "               Close DtTm City  Zipcode               ...                 \\\n",
       "0  04/12/2009 07:23:13 PM   SF      NaN               ...                  \n",
       "1  07/18/2013 10:39:55 AM   SF      NaN               ...                  \n",
       "2  05/13/2012 04:05:44 AM   SF  94103.0               ...                  \n",
       "3  04/09/2013 05:20:27 PM   SF      NaN               ...                  \n",
       "4  11/01/2011 06:11:09 PM   SF  94109.0               ...                  \n",
       "\n",
       "  Detector Effectiveness Detector Failure Reason  \\\n",
       "0                    NaN                     NaN   \n",
       "1                    NaN                     NaN   \n",
       "2                    NaN                     NaN   \n",
       "3                    NaN                     NaN   \n",
       "4                    NaN                     NaN   \n",
       "\n",
       "  Automatic Extinguishing System Present  Automatic Extinguishing Sytem Type  \\\n",
       "0                                    NaN                                 NaN   \n",
       "1                                    NaN                                 NaN   \n",
       "2                                    NaN                                 NaN   \n",
       "3                                    NaN                                 NaN   \n",
       "4                                    NaN                                 NaN   \n",
       "\n",
       "   Automatic Extinguishing Sytem Perfomance  \\\n",
       "0                                       NaN   \n",
       "1                                       NaN   \n",
       "2                                       NaN   \n",
       "3                                       NaN   \n",
       "4                                       NaN   \n",
       "\n",
       "   Automatic Extinguishing Sytem Failure Reason  \\\n",
       "0                                           NaN   \n",
       "1                                           NaN   \n",
       "2                                           NaN   \n",
       "3                                           NaN   \n",
       "4                                           NaN   \n",
       "\n",
       "   Number of Sprinkler Heads Operating  Supervisor District  \\\n",
       "0                                  NaN                  NaN   \n",
       "1                                  NaN                  NaN   \n",
       "2                                  NaN                  6.0   \n",
       "3                                  NaN                  NaN   \n",
       "4                                  NaN                  3.0   \n",
       "\n",
       "   Neighborhood  District                         Location  \n",
       "0                     NaN                              NaN  \n",
       "1                     NaN                              NaN  \n",
       "2         South of Market  (37.7767460000297, -122.407844)  \n",
       "3                     NaN                              NaN  \n",
       "4                Nob Hill  (37.7896190000297, -122.420497)  \n",
       "\n",
       "[5 rows x 63 columns]"
      ]
     },
     "execution_count": 35,
     "metadata": {},
     "output_type": "execute_result"
    }
   ],
   "source": [
    "fire = pd.read_csv('/Users/amos/Desktop/DSI-SF-2/datasets/san_francisco/san_francisco/fire_data/fire_incidents.csv')\n",
    "fire.head()"
   ]
  },
  {
   "cell_type": "code",
   "execution_count": 26,
   "metadata": {
    "collapsed": false
   },
   "outputs": [
    {
     "data": {
      "text/html": [
       "<div>\n",
       "<table border=\"1\" class=\"dataframe\">\n",
       "  <thead>\n",
       "    <tr style=\"text-align: right;\">\n",
       "      <th></th>\n",
       "      <th>Incident Number</th>\n",
       "      <th>Exposure Number</th>\n",
       "      <th>Call Number</th>\n",
       "      <th>Alarm DtTm</th>\n",
       "      <th>Arrival DtTm</th>\n",
       "      <th>Suppression Units</th>\n",
       "      <th>Suppression Personnel</th>\n",
       "      <th>EMS Units</th>\n",
       "      <th>EMS Personnel</th>\n",
       "      <th>Other Units</th>\n",
       "      <th>Other Personnel</th>\n",
       "      <th>Fire Fatalities</th>\n",
       "      <th>Fire Injuries</th>\n",
       "      <th>Civilian Fatalities</th>\n",
       "      <th>Civilian Injuries</th>\n",
       "    </tr>\n",
       "  </thead>\n",
       "  <tbody>\n",
       "    <tr>\n",
       "      <th>0</th>\n",
       "      <td>9030109</td>\n",
       "      <td>0</td>\n",
       "      <td>91020273</td>\n",
       "      <td>04/12/2009 06:09:13 PM</td>\n",
       "      <td>04/12/2009 06:13:45 PM</td>\n",
       "      <td>1</td>\n",
       "      <td>5</td>\n",
       "      <td>0</td>\n",
       "      <td>0</td>\n",
       "      <td>0</td>\n",
       "      <td>0</td>\n",
       "      <td>0</td>\n",
       "      <td>0</td>\n",
       "      <td>0</td>\n",
       "      <td>0</td>\n",
       "    </tr>\n",
       "    <tr>\n",
       "      <th>1</th>\n",
       "      <td>13067402</td>\n",
       "      <td>0</td>\n",
       "      <td>131990117</td>\n",
       "      <td>07/18/2013 10:32:03 AM</td>\n",
       "      <td>07/18/2013 10:37:15 AM</td>\n",
       "      <td>3</td>\n",
       "      <td>11</td>\n",
       "      <td>0</td>\n",
       "      <td>0</td>\n",
       "      <td>0</td>\n",
       "      <td>0</td>\n",
       "      <td>0</td>\n",
       "      <td>0</td>\n",
       "      <td>0</td>\n",
       "      <td>0</td>\n",
       "    </tr>\n",
       "    <tr>\n",
       "      <th>2</th>\n",
       "      <td>12044490</td>\n",
       "      <td>0</td>\n",
       "      <td>121340051</td>\n",
       "      <td>05/13/2012 03:55:37 AM</td>\n",
       "      <td>05/13/2012 04:01:57 AM</td>\n",
       "      <td>3</td>\n",
       "      <td>10</td>\n",
       "      <td>0</td>\n",
       "      <td>0</td>\n",
       "      <td>0</td>\n",
       "      <td>0</td>\n",
       "      <td>0</td>\n",
       "      <td>0</td>\n",
       "      <td>0</td>\n",
       "      <td>0</td>\n",
       "    </tr>\n",
       "    <tr>\n",
       "      <th>3</th>\n",
       "      <td>13033326</td>\n",
       "      <td>0</td>\n",
       "      <td>130990286</td>\n",
       "      <td>04/09/2013 04:34:07 PM</td>\n",
       "      <td>04/09/2013 04:39:31 PM</td>\n",
       "      <td>3</td>\n",
       "      <td>10</td>\n",
       "      <td>0</td>\n",
       "      <td>0</td>\n",
       "      <td>0</td>\n",
       "      <td>0</td>\n",
       "      <td>0</td>\n",
       "      <td>0</td>\n",
       "      <td>0</td>\n",
       "      <td>0</td>\n",
       "    </tr>\n",
       "    <tr>\n",
       "      <th>4</th>\n",
       "      <td>11101416</td>\n",
       "      <td>0</td>\n",
       "      <td>113050357</td>\n",
       "      <td>11/01/2011 06:07:45 PM</td>\n",
       "      <td>11/01/2011 06:10:17 PM</td>\n",
       "      <td>2</td>\n",
       "      <td>9</td>\n",
       "      <td>0</td>\n",
       "      <td>0</td>\n",
       "      <td>0</td>\n",
       "      <td>0</td>\n",
       "      <td>0</td>\n",
       "      <td>0</td>\n",
       "      <td>0</td>\n",
       "      <td>0</td>\n",
       "    </tr>\n",
       "  </tbody>\n",
       "</table>\n",
       "</div>"
      ],
      "text/plain": [
       "   Incident Number  Exposure Number  Call Number              Alarm DtTm  \\\n",
       "0          9030109                0     91020273  04/12/2009 06:09:13 PM   \n",
       "1         13067402                0    131990117  07/18/2013 10:32:03 AM   \n",
       "2         12044490                0    121340051  05/13/2012 03:55:37 AM   \n",
       "3         13033326                0    130990286  04/09/2013 04:34:07 PM   \n",
       "4         11101416                0    113050357  11/01/2011 06:07:45 PM   \n",
       "\n",
       "             Arrival DtTm  Suppression Units  Suppression Personnel  \\\n",
       "0  04/12/2009 06:13:45 PM                  1                      5   \n",
       "1  07/18/2013 10:37:15 AM                  3                     11   \n",
       "2  05/13/2012 04:01:57 AM                  3                     10   \n",
       "3  04/09/2013 04:39:31 PM                  3                     10   \n",
       "4  11/01/2011 06:10:17 PM                  2                      9   \n",
       "\n",
       "   EMS Units  EMS Personnel  Other Units  Other Personnel  Fire Fatalities  \\\n",
       "0          0              0            0                0                0   \n",
       "1          0              0            0                0                0   \n",
       "2          0              0            0                0                0   \n",
       "3          0              0            0                0                0   \n",
       "4          0              0            0                0                0   \n",
       "\n",
       "   Fire Injuries  Civilian Fatalities  Civilian Injuries  \n",
       "0              0                    0                  0  \n",
       "1              0                    0                  0  \n",
       "2              0                    0                  0  \n",
       "3              0                    0                  0  \n",
       "4              0                    0                  0  "
      ]
     },
     "execution_count": 26,
     "metadata": {},
     "output_type": "execute_result"
    }
   ],
   "source": [
    "fire_sub = fire[['Incident Number', 'Exposure Number', 'Call Number', 'Alarm DtTm',\n",
    "                    'Arrival DtTm', 'Suppression Units', 'Suppression Personnel', 'EMS Units',\n",
    "                    'EMS Personnel', 'Other Units', 'Other Personnel', 'Fire Fatalities', \n",
    "                    'Fire Injuries', 'Civilian Fatalities', 'Civilian Injuries']]\n",
    "fire_sub.head()"
   ]
  },
  {
   "cell_type": "code",
   "execution_count": 27,
   "metadata": {
    "collapsed": false
   },
   "outputs": [
    {
     "name": "stderr",
     "output_type": "stream",
     "text": [
      "/Users/amos/anaconda/envs/dsi/lib/python2.7/site-packages/ipykernel/__main__.py:1: SettingWithCopyWarning: \n",
      "A value is trying to be set on a copy of a slice from a DataFrame.\n",
      "Try using .loc[row_indexer,col_indexer] = value instead\n",
      "\n",
      "See the caveats in the documentation: http://pandas.pydata.org/pandas-docs/stable/indexing.html#indexing-view-versus-copy\n",
      "  if __name__ == '__main__':\n",
      "/Users/amos/anaconda/envs/dsi/lib/python2.7/site-packages/ipykernel/__main__.py:2: SettingWithCopyWarning: \n",
      "A value is trying to be set on a copy of a slice from a DataFrame.\n",
      "Try using .loc[row_indexer,col_indexer] = value instead\n",
      "\n",
      "See the caveats in the documentation: http://pandas.pydata.org/pandas-docs/stable/indexing.html#indexing-view-versus-copy\n",
      "  from ipykernel import kernelapp as app\n"
     ]
    }
   ],
   "source": [
    "fire_sub['Alarm DtTm'] = pd.to_datetime(fire_sub['Alarm DtTm'])\n",
    "fire_sub['Arrival DtTm'] = pd.to_datetime(fire_sub['Arrival DtTm'])"
   ]
  },
  {
   "cell_type": "code",
   "execution_count": 28,
   "metadata": {
    "collapsed": true
   },
   "outputs": [],
   "source": [
    "fire_sub = fire_sub.rename(columns = {'Incident Number': 'Incident_Number',\n",
    "                                            'Exposure Number': 'Exposure_Number',\n",
    "                                            'Call Number': 'Call_Number',\n",
    "                                            'Alarm DtTm': 'Alarm_DtTm',\n",
    "                                            'Arrival DtTm': 'Arrival_DtTm',\n",
    "                                            'Suppression Units': 'Suppression_Units',\n",
    "                                            'Suppression Personnel': 'Suppression_Personnel',\n",
    "                                            'EMS Units': 'EMS_Units',\n",
    "                                            'EMS Personnel': 'EMS_Personnel',\n",
    "                                            'Other Units': 'Other_Units',\n",
    "                                            'Other Personnel': 'Other_Personnel',\n",
    "                                            'Fire Fatalities': 'Fire_Fatalities',\n",
    "                                            'Fire Injuries': 'Fire_Injuries',\n",
    "                                            'Civilian Fatalities': 'Civilian_Fatalities',\n",
    "                                            'Civilian Injuries': 'Civilian_Injuries',\n",
    "                                            'Response_Time': 'Response_Time'})"
   ]
  },
  {
   "cell_type": "code",
   "execution_count": 29,
   "metadata": {
    "collapsed": false
   },
   "outputs": [],
   "source": [
    "fire_sub.dropna(inplace = True)\n",
    "\n",
    "fire_sub['Response_Time'] = fire_sub['Arrival_DtTm'] - fire_sub['Alarm_DtTm']"
   ]
  },
  {
   "cell_type": "code",
   "execution_count": 30,
   "metadata": {
    "collapsed": false
   },
   "outputs": [],
   "source": [
    "def get_sec(time_str):\n",
    "    h, m, s = time_str.split(':')\n",
    "    return int(h) * 3600 + int(m) * 60 + int(s)\n",
    "\n",
    "fire_sub['total_sec'] = fire_sub['Response_Time'].apply(str).apply(lambda x: x[7:]).apply(get_sec)"
   ]
  },
  {
   "cell_type": "code",
   "execution_count": 31,
   "metadata": {
    "collapsed": false,
    "scrolled": true
   },
   "outputs": [
    {
     "data": {
      "text/plain": [
       "<matplotlib.axes._subplots.AxesSubplot at 0x1199eb490>"
      ]
     },
     "execution_count": 31,
     "metadata": {},
     "output_type": "execute_result"
    },
    {
     "data": {
      "image/png": "[encoded data removed]",
      "text/plain": [
       "<matplotlib.figure.Figure at 0x1199ebb10>"
      ]
     },
     "metadata": {},
     "output_type": "display_data"
    }
   ],
   "source": [
    "fire_corr = fire_sub.corr()\n",
    "sns.heatmap(fire_corr)"
   ]
  },
  {
   "cell_type": "code",
   "execution_count": 32,
   "metadata": {
    "collapsed": false
   },
   "outputs": [
    {
     "data": {
      "text/html": [
       "<div>\n",
       "<table border=\"1\" class=\"dataframe\">\n",
       "  <thead>\n",
       "    <tr style=\"text-align: right;\">\n",
       "      <th></th>\n",
       "      <th>Incident_Number</th>\n",
       "      <th>Exposure_Number</th>\n",
       "      <th>Call_Number</th>\n",
       "      <th>Alarm_DtTm</th>\n",
       "      <th>Arrival_DtTm</th>\n",
       "      <th>Suppression_Units</th>\n",
       "      <th>Suppression_Personnel</th>\n",
       "      <th>EMS_Units</th>\n",
       "      <th>EMS_Personnel</th>\n",
       "      <th>Other_Units</th>\n",
       "      <th>Other_Personnel</th>\n",
       "      <th>Fire_Fatalities</th>\n",
       "      <th>Fire_Injuries</th>\n",
       "      <th>Civilian_Fatalities</th>\n",
       "      <th>Civilian_Injuries</th>\n",
       "      <th>Response_Time</th>\n",
       "      <th>total_sec</th>\n",
       "    </tr>\n",
       "  </thead>\n",
       "  <tbody>\n",
       "    <tr>\n",
       "      <th>0</th>\n",
       "      <td>9030109</td>\n",
       "      <td>0</td>\n",
       "      <td>91020273</td>\n",
       "      <td>2009-04-12 18:09:13</td>\n",
       "      <td>2009-04-12 18:13:45</td>\n",
       "      <td>1</td>\n",
       "      <td>5</td>\n",
       "      <td>0</td>\n",
       "      <td>0</td>\n",
       "      <td>0</td>\n",
       "      <td>0</td>\n",
       "      <td>0</td>\n",
       "      <td>0</td>\n",
       "      <td>0</td>\n",
       "      <td>0</td>\n",
       "      <td>00:04:32</td>\n",
       "      <td>272</td>\n",
       "    </tr>\n",
       "    <tr>\n",
       "      <th>1</th>\n",
       "      <td>13067402</td>\n",
       "      <td>0</td>\n",
       "      <td>131990117</td>\n",
       "      <td>2013-07-18 10:32:03</td>\n",
       "      <td>2013-07-18 10:37:15</td>\n",
       "      <td>3</td>\n",
       "      <td>11</td>\n",
       "      <td>0</td>\n",
       "      <td>0</td>\n",
       "      <td>0</td>\n",
       "      <td>0</td>\n",
       "      <td>0</td>\n",
       "      <td>0</td>\n",
       "      <td>0</td>\n",
       "      <td>0</td>\n",
       "      <td>00:05:12</td>\n",
       "      <td>312</td>\n",
       "    </tr>\n",
       "    <tr>\n",
       "      <th>2</th>\n",
       "      <td>12044490</td>\n",
       "      <td>0</td>\n",
       "      <td>121340051</td>\n",
       "      <td>2012-05-13 03:55:37</td>\n",
       "      <td>2012-05-13 04:01:57</td>\n",
       "      <td>3</td>\n",
       "      <td>10</td>\n",
       "      <td>0</td>\n",
       "      <td>0</td>\n",
       "      <td>0</td>\n",
       "      <td>0</td>\n",
       "      <td>0</td>\n",
       "      <td>0</td>\n",
       "      <td>0</td>\n",
       "      <td>0</td>\n",
       "      <td>00:06:20</td>\n",
       "      <td>380</td>\n",
       "    </tr>\n",
       "    <tr>\n",
       "      <th>3</th>\n",
       "      <td>13033326</td>\n",
       "      <td>0</td>\n",
       "      <td>130990286</td>\n",
       "      <td>2013-04-09 16:34:07</td>\n",
       "      <td>2013-04-09 16:39:31</td>\n",
       "      <td>3</td>\n",
       "      <td>10</td>\n",
       "      <td>0</td>\n",
       "      <td>0</td>\n",
       "      <td>0</td>\n",
       "      <td>0</td>\n",
       "      <td>0</td>\n",
       "      <td>0</td>\n",
       "      <td>0</td>\n",
       "      <td>0</td>\n",
       "      <td>00:05:24</td>\n",
       "      <td>324</td>\n",
       "    </tr>\n",
       "    <tr>\n",
       "      <th>4</th>\n",
       "      <td>11101416</td>\n",
       "      <td>0</td>\n",
       "      <td>113050357</td>\n",
       "      <td>2011-11-01 18:07:45</td>\n",
       "      <td>2011-11-01 18:10:17</td>\n",
       "      <td>2</td>\n",
       "      <td>9</td>\n",
       "      <td>0</td>\n",
       "      <td>0</td>\n",
       "      <td>0</td>\n",
       "      <td>0</td>\n",
       "      <td>0</td>\n",
       "      <td>0</td>\n",
       "      <td>0</td>\n",
       "      <td>0</td>\n",
       "      <td>00:02:32</td>\n",
       "      <td>152</td>\n",
       "    </tr>\n",
       "  </tbody>\n",
       "</table>\n",
       "</div>"
      ],
      "text/plain": [
       "   Incident_Number  Exposure_Number  Call_Number          Alarm_DtTm  \\\n",
       "0          9030109                0     91020273 2009-04-12 18:09:13   \n",
       "1         13067402                0    131990117 2013-07-18 10:32:03   \n",
       "2         12044490                0    121340051 2012-05-13 03:55:37   \n",
       "3         13033326                0    130990286 2013-04-09 16:34:07   \n",
       "4         11101416                0    113050357 2011-11-01 18:07:45   \n",
       "\n",
       "         Arrival_DtTm  Suppression_Units  Suppression_Personnel  EMS_Units  \\\n",
       "0 2009-04-12 18:13:45                  1                      5          0   \n",
       "1 2013-07-18 10:37:15                  3                     11          0   \n",
       "2 2012-05-13 04:01:57                  3                     10          0   \n",
       "3 2013-04-09 16:39:31                  3                     10          0   \n",
       "4 2011-11-01 18:10:17                  2                      9          0   \n",
       "\n",
       "   EMS_Personnel  Other_Units  Other_Personnel  Fire_Fatalities  \\\n",
       "0              0            0                0                0   \n",
       "1              0            0                0                0   \n",
       "2              0            0                0                0   \n",
       "3              0            0                0                0   \n",
       "4              0            0                0                0   \n",
       "\n",
       "   Fire_Injuries  Civilian_Fatalities  Civilian_Injuries  Response_Time  \\\n",
       "0              0                    0                  0       00:04:32   \n",
       "1              0                    0                  0       00:05:12   \n",
       "2              0                    0                  0       00:06:20   \n",
       "3              0                    0                  0       00:05:24   \n",
       "4              0                    0                  0       00:02:32   \n",
       "\n",
       "   total_sec  \n",
       "0        272  \n",
       "1        312  \n",
       "2        380  \n",
       "3        324  \n",
       "4        152  "
      ]
     },
     "execution_count": 32,
     "metadata": {},
     "output_type": "execute_result"
    }
   ],
   "source": [
    "fire_sub.head()"
   ]
  },
  {
   "cell_type": "code",
   "execution_count": 37,
   "metadata": {
    "collapsed": false
   },
   "outputs": [
    {
     "data": {
      "text/html": [
       "<div>\n",
       "<table border=\"1\" class=\"dataframe\">\n",
       "  <thead>\n",
       "    <tr style=\"text-align: right;\">\n",
       "      <th></th>\n",
       "      <th>Unnamed: 0</th>\n",
       "      <th>Unnamed: 0.1</th>\n",
       "      <th>Incident_Number</th>\n",
       "      <th>Exposure_Number</th>\n",
       "      <th>Call_Number</th>\n",
       "      <th>Alarm_DtTm</th>\n",
       "      <th>Arrival_DtTm</th>\n",
       "      <th>Suppression_Units</th>\n",
       "      <th>Suppression_Personnel</th>\n",
       "      <th>EMS_Units</th>\n",
       "      <th>EMS_Personnel</th>\n",
       "      <th>Other_Units</th>\n",
       "      <th>Other_Personnel</th>\n",
       "      <th>Fire_Fatalities</th>\n",
       "      <th>Fire_Injuries</th>\n",
       "      <th>Civilian_Fatalities</th>\n",
       "      <th>Civilian_Injuries</th>\n",
       "      <th>Response_Time</th>\n",
       "      <th>total_sec</th>\n",
       "    </tr>\n",
       "  </thead>\n",
       "  <tbody>\n",
       "    <tr>\n",
       "      <th>0</th>\n",
       "      <td>0</td>\n",
       "      <td>0</td>\n",
       "      <td>9030109</td>\n",
       "      <td>0</td>\n",
       "      <td>91020273</td>\n",
       "      <td>2009-04-12 18:09:13</td>\n",
       "      <td>2009-04-12 18:13:45</td>\n",
       "      <td>1</td>\n",
       "      <td>5</td>\n",
       "      <td>0</td>\n",
       "      <td>0</td>\n",
       "      <td>0</td>\n",
       "      <td>0</td>\n",
       "      <td>0</td>\n",
       "      <td>0</td>\n",
       "      <td>0</td>\n",
       "      <td>0</td>\n",
       "      <td>0 days 00:04:32.000000000</td>\n",
       "      <td>272</td>\n",
       "    </tr>\n",
       "    <tr>\n",
       "      <th>1</th>\n",
       "      <td>1</td>\n",
       "      <td>1</td>\n",
       "      <td>13067402</td>\n",
       "      <td>0</td>\n",
       "      <td>131990117</td>\n",
       "      <td>2013-07-18 10:32:03</td>\n",
       "      <td>2013-07-18 10:37:15</td>\n",
       "      <td>3</td>\n",
       "      <td>11</td>\n",
       "      <td>0</td>\n",
       "      <td>0</td>\n",
       "      <td>0</td>\n",
       "      <td>0</td>\n",
       "      <td>0</td>\n",
       "      <td>0</td>\n",
       "      <td>0</td>\n",
       "      <td>0</td>\n",
       "      <td>0 days 00:05:12.000000000</td>\n",
       "      <td>312</td>\n",
       "    </tr>\n",
       "    <tr>\n",
       "      <th>2</th>\n",
       "      <td>2</td>\n",
       "      <td>2</td>\n",
       "      <td>12044490</td>\n",
       "      <td>0</td>\n",
       "      <td>121340051</td>\n",
       "      <td>2012-05-13 03:55:37</td>\n",
       "      <td>2012-05-13 04:01:57</td>\n",
       "      <td>3</td>\n",
       "      <td>10</td>\n",
       "      <td>0</td>\n",
       "      <td>0</td>\n",
       "      <td>0</td>\n",
       "      <td>0</td>\n",
       "      <td>0</td>\n",
       "      <td>0</td>\n",
       "      <td>0</td>\n",
       "      <td>0</td>\n",
       "      <td>0 days 00:06:20.000000000</td>\n",
       "      <td>380</td>\n",
       "    </tr>\n",
       "    <tr>\n",
       "      <th>3</th>\n",
       "      <td>3</td>\n",
       "      <td>3</td>\n",
       "      <td>13033326</td>\n",
       "      <td>0</td>\n",
       "      <td>130990286</td>\n",
       "      <td>2013-04-09 16:34:07</td>\n",
       "      <td>2013-04-09 16:39:31</td>\n",
       "      <td>3</td>\n",
       "      <td>10</td>\n",
       "      <td>0</td>\n",
       "      <td>0</td>\n",
       "      <td>0</td>\n",
       "      <td>0</td>\n",
       "      <td>0</td>\n",
       "      <td>0</td>\n",
       "      <td>0</td>\n",
       "      <td>0</td>\n",
       "      <td>0 days 00:05:24.000000000</td>\n",
       "      <td>324</td>\n",
       "    </tr>\n",
       "    <tr>\n",
       "      <th>4</th>\n",
       "      <td>4</td>\n",
       "      <td>4</td>\n",
       "      <td>11101416</td>\n",
       "      <td>0</td>\n",
       "      <td>113050357</td>\n",
       "      <td>2011-11-01 18:07:45</td>\n",
       "      <td>2011-11-01 18:10:17</td>\n",
       "      <td>2</td>\n",
       "      <td>9</td>\n",
       "      <td>0</td>\n",
       "      <td>0</td>\n",
       "      <td>0</td>\n",
       "      <td>0</td>\n",
       "      <td>0</td>\n",
       "      <td>0</td>\n",
       "      <td>0</td>\n",
       "      <td>0</td>\n",
       "      <td>0 days 00:02:32.000000000</td>\n",
       "      <td>152</td>\n",
       "    </tr>\n",
       "  </tbody>\n",
       "</table>\n",
       "</div>"
      ],
      "text/plain": [
       "   Unnamed: 0  Unnamed: 0.1  Incident_Number  Exposure_Number  Call_Number  \\\n",
       "0           0             0          9030109                0     91020273   \n",
       "1           1             1         13067402                0    131990117   \n",
       "2           2             2         12044490                0    121340051   \n",
       "3           3             3         13033326                0    130990286   \n",
       "4           4             4         11101416                0    113050357   \n",
       "\n",
       "            Alarm_DtTm         Arrival_DtTm  Suppression_Units  \\\n",
       "0  2009-04-12 18:09:13  2009-04-12 18:13:45                  1   \n",
       "1  2013-07-18 10:32:03  2013-07-18 10:37:15                  3   \n",
       "2  2012-05-13 03:55:37  2012-05-13 04:01:57                  3   \n",
       "3  2013-04-09 16:34:07  2013-04-09 16:39:31                  3   \n",
       "4  2011-11-01 18:07:45  2011-11-01 18:10:17                  2   \n",
       "\n",
       "   Suppression_Personnel  EMS_Units  EMS_Personnel  Other_Units  \\\n",
       "0                      5          0              0            0   \n",
       "1                     11          0              0            0   \n",
       "2                     10          0              0            0   \n",
       "3                     10          0              0            0   \n",
       "4                      9          0              0            0   \n",
       "\n",
       "   Other_Personnel  Fire_Fatalities  Fire_Injuries  Civilian_Fatalities  \\\n",
       "0                0                0              0                    0   \n",
       "1                0                0              0                    0   \n",
       "2                0                0              0                    0   \n",
       "3                0                0              0                    0   \n",
       "4                0                0              0                    0   \n",
       "\n",
       "   Civilian_Injuries              Response_Time  total_sec  \n",
       "0                  0  0 days 00:04:32.000000000        272  \n",
       "1                  0  0 days 00:05:12.000000000        312  \n",
       "2                  0  0 days 00:06:20.000000000        380  \n",
       "3                  0  0 days 00:05:24.000000000        324  \n",
       "4                  0  0 days 00:02:32.000000000        152  "
      ]
     },
     "execution_count": 37,
     "metadata": {},
     "output_type": "execute_result"
    }
   ],
   "source": [
    "#fire_sub.to_csv(path_or_buf='~/fire_sub.csv')\n",
    "fire_sub = pd.read_csv('/Users/amos/fire_sub.csv')\n",
    "fire_sub.head()"
   ]
  },
  {
   "cell_type": "markdown",
   "metadata": {
    "collapsed": true
   },
   "source": [
    "# Hypothesis: Fire Fatalities and Civilian Fatalities are good indicators to total_sec. Total_sec indicates the response time between when the alarm was made to arrival.  "
   ]
  },
  {
   "cell_type": "code",
   "execution_count": 39,
   "metadata": {
    "collapsed": false
   },
   "outputs": [
    {
     "name": "stdout",
     "output_type": "stream",
     "text": [
      "(406718, 1) (406718, 2)\n"
     ]
    }
   ],
   "source": [
    "# time delta = injuries and fatalities\n",
    "formula = 'total_sec ~ Fire_Fatalities + Civilian_Fatalities - 1'\n",
    "y_f, X_f = patsy.dmatrices(formula,data=fire_sub,return_type='dataframe')\n",
    "print y_f.shape, X_f.shape"
   ]
  },
  {
   "cell_type": "code",
   "execution_count": 41,
   "metadata": {
    "collapsed": true
   },
   "outputs": [],
   "source": [
    "Xf_train, Xf_test, yf_train, yf_test = train_test_split(X_f,y_f,test_size=.33)\n",
    "\n",
    "lr = LinearRegression()\n",
    "model= lr.fit(Xf_train,yf_train)\n",
    "predictions = lr.predict(Xf_test)\n",
    "model= lr.fit(Xf_train,yf_train)\n",
    "predictions = lr.predict(Xf_test)\n"
   ]
  },
  {
   "cell_type": "code",
   "execution_count": 42,
   "metadata": {
    "collapsed": false
   },
   "outputs": [
    {
     "data": {
      "text/plain": [
       "436348.12248767191"
      ]
     },
     "execution_count": 42,
     "metadata": {},
     "output_type": "execute_result"
    }
   ],
   "source": [
    "from sklearn.metrics import mean_squared_error\n",
    "mean_squared_error(yf_test, predictions)\n",
    "#very bad MSE value"
   ]
  },
  {
   "cell_type": "code",
   "execution_count": 43,
   "metadata": {
    "collapsed": false
   },
   "outputs": [
    {
     "data": {
      "text/plain": [
       "-1.7816777109436188e-05"
      ]
     },
     "execution_count": 43,
     "metadata": {},
     "output_type": "execute_result"
    }
   ],
   "source": [
    "model.score(Xf_test,yf_test)"
   ]
  },
  {
   "cell_type": "code",
   "execution_count": 44,
   "metadata": {
    "collapsed": false
   },
   "outputs": [
    {
     "data": {
      "image/png": "[encoded data removed]",
      "text/plain": [
       "<matplotlib.figure.Figure at 0x142239ed0>"
      ]
     },
     "metadata": {},
     "output_type": "display_data"
    }
   ],
   "source": [
    "plt.scatter(predictions, yf_test, s=30, c='r')\n",
    "\n",
    "plt.xlabel(\"Predicted value of score\")\n",
    "plt.ylabel(\"Target or True value of score\")\n",
    "\n",
    "plt.show()"
   ]
  },
  {
   "cell_type": "markdown",
   "metadata": {},
   "source": [
    "## There shows an underfitting in our model. The predictor variables are not enough to create a good prediction on response time. "
   ]
  },
  {
   "cell_type": "markdown",
   "metadata": {},
   "source": [
    "<img src=\"http://imgur.com/l5NasQj.png\" style=\"float: left; margin: 25px 15px 0px 0px; height: 25px\">\n",
    "\n",
    "### 4. Conduct another, different analysis and report on it\n",
    "\n",
    "---\n",
    "\n",
    "1. Combining multiple sources of data (csv files) is required.\n",
    "- Perform EDA and cleaning on relevant data.\n",
    "- Construct and compare different regression models with cross-validation.\n",
    "- Plot descriptive visuals you think are useful for understanding the data.\n",
    "- Report on your findings.\n",
    "\n",
    "This section is just another analysis like the first sections, but is more open-ended in what models you decide to build and why. Don't feel obligated to try every out every regularized regression model (though it doesn't hurt). \n"
   ]
  },
  {
   "cell_type": "code",
   "execution_count": 26,
   "metadata": {
    "collapsed": false
   },
   "outputs": [],
   "source": [
    "park_info = pd.read_csv('/Users/amos/Desktop/DSI-SF-2/datasets/san_francisco/san_francisco/parks/park_info.csv')\n",
    "park_scores = pd.read_csv('/Users/amos/Desktop/DSI-SF-2/datasets/san_francisco/san_francisco/parks/park_scores.csv')"
   ]
  },
  {
   "cell_type": "code",
   "execution_count": 27,
   "metadata": {
    "collapsed": false
   },
   "outputs": [],
   "source": [
    "parks = park_info.merge(park_scores, how='left', on='ParkID')\n"
   ]
  },
  {
   "cell_type": "code",
   "execution_count": 28,
   "metadata": {
    "collapsed": false
   },
   "outputs": [
    {
     "data": {
      "text/html": [
       "<div>\n",
       "<table border=\"1\" class=\"dataframe\">\n",
       "  <thead>\n",
       "    <tr style=\"text-align: right;\">\n",
       "      <th></th>\n",
       "      <th>ParkName</th>\n",
       "      <th>ParkType</th>\n",
       "      <th>ParkServiceArea</th>\n",
       "      <th>PSAManager</th>\n",
       "      <th>email</th>\n",
       "      <th>Number</th>\n",
       "      <th>Zipcode</th>\n",
       "      <th>Acreage</th>\n",
       "      <th>SupDist</th>\n",
       "      <th>ParkID</th>\n",
       "      <th>Location 1</th>\n",
       "      <th>Lat</th>\n",
       "      <th>PSA</th>\n",
       "      <th>Park</th>\n",
       "      <th>FQ</th>\n",
       "      <th>Score</th>\n",
       "    </tr>\n",
       "  </thead>\n",
       "  <tbody>\n",
       "    <tr>\n",
       "      <th>0</th>\n",
       "      <td>ParkName</td>\n",
       "      <td>ParkType</td>\n",
       "      <td>ParkServiceArea</td>\n",
       "      <td>PSAManager</td>\n",
       "      <td>email</td>\n",
       "      <td>Number</td>\n",
       "      <td>NaN</td>\n",
       "      <td>NaN</td>\n",
       "      <td>NaN</td>\n",
       "      <td>NaN</td>\n",
       "      <td>NaN</td>\n",
       "      <td>NaN</td>\n",
       "      <td>NaN</td>\n",
       "      <td>NaN</td>\n",
       "      <td>NaN</td>\n",
       "      <td>NaN</td>\n",
       "    </tr>\n",
       "    <tr>\n",
       "      <th>1</th>\n",
       "      <td>10TH AVE/CLEMENT MINI PARK</td>\n",
       "      <td>Mini Park</td>\n",
       "      <td>PSA 1</td>\n",
       "      <td>Elder, Steve</td>\n",
       "      <td>steven.elder@sfgov.org</td>\n",
       "      <td>(415) 601-6501</td>\n",
       "      <td>94118.0</td>\n",
       "      <td>0.66</td>\n",
       "      <td>1.0</td>\n",
       "      <td>156.0</td>\n",
       "      <td>351 9th Ave\\nSan Francisco, CA\\n(37.78184397, ...</td>\n",
       "      <td>NaN</td>\n",
       "      <td>PSA1</td>\n",
       "      <td>10th Avenue-Clement Mini Park</td>\n",
       "      <td>FY05Q4</td>\n",
       "      <td>0.655</td>\n",
       "    </tr>\n",
       "    <tr>\n",
       "      <th>2</th>\n",
       "      <td>10TH AVE/CLEMENT MINI PARK</td>\n",
       "      <td>Mini Park</td>\n",
       "      <td>PSA 1</td>\n",
       "      <td>Elder, Steve</td>\n",
       "      <td>steven.elder@sfgov.org</td>\n",
       "      <td>(415) 601-6501</td>\n",
       "      <td>94118.0</td>\n",
       "      <td>0.66</td>\n",
       "      <td>1.0</td>\n",
       "      <td>156.0</td>\n",
       "      <td>351 9th Ave\\nSan Francisco, CA\\n(37.78184397, ...</td>\n",
       "      <td>NaN</td>\n",
       "      <td>PSA1</td>\n",
       "      <td>10th Avenue-Clement Mini Park</td>\n",
       "      <td>FY06Q2</td>\n",
       "      <td>0.854</td>\n",
       "    </tr>\n",
       "    <tr>\n",
       "      <th>3</th>\n",
       "      <td>10TH AVE/CLEMENT MINI PARK</td>\n",
       "      <td>Mini Park</td>\n",
       "      <td>PSA 1</td>\n",
       "      <td>Elder, Steve</td>\n",
       "      <td>steven.elder@sfgov.org</td>\n",
       "      <td>(415) 601-6501</td>\n",
       "      <td>94118.0</td>\n",
       "      <td>0.66</td>\n",
       "      <td>1.0</td>\n",
       "      <td>156.0</td>\n",
       "      <td>351 9th Ave\\nSan Francisco, CA\\n(37.78184397, ...</td>\n",
       "      <td>NaN</td>\n",
       "      <td>PSA1</td>\n",
       "      <td>10th Avenue-Clement Mini Park</td>\n",
       "      <td>FY06Q4</td>\n",
       "      <td>0.673</td>\n",
       "    </tr>\n",
       "    <tr>\n",
       "      <th>4</th>\n",
       "      <td>10TH AVE/CLEMENT MINI PARK</td>\n",
       "      <td>Mini Park</td>\n",
       "      <td>PSA 1</td>\n",
       "      <td>Elder, Steve</td>\n",
       "      <td>steven.elder@sfgov.org</td>\n",
       "      <td>(415) 601-6501</td>\n",
       "      <td>94118.0</td>\n",
       "      <td>0.66</td>\n",
       "      <td>1.0</td>\n",
       "      <td>156.0</td>\n",
       "      <td>351 9th Ave\\nSan Francisco, CA\\n(37.78184397, ...</td>\n",
       "      <td>NaN</td>\n",
       "      <td>PSA1</td>\n",
       "      <td>10th Avenue-Clement Mini Park</td>\n",
       "      <td>FY07Q2</td>\n",
       "      <td>0.378</td>\n",
       "    </tr>\n",
       "  </tbody>\n",
       "</table>\n",
       "</div>"
      ],
      "text/plain": [
       "                     ParkName   ParkType  ParkServiceArea    PSAManager  \\\n",
       "0                    ParkName   ParkType  ParkServiceArea    PSAManager   \n",
       "1  10TH AVE/CLEMENT MINI PARK  Mini Park            PSA 1  Elder, Steve   \n",
       "2  10TH AVE/CLEMENT MINI PARK  Mini Park            PSA 1  Elder, Steve   \n",
       "3  10TH AVE/CLEMENT MINI PARK  Mini Park            PSA 1  Elder, Steve   \n",
       "4  10TH AVE/CLEMENT MINI PARK  Mini Park            PSA 1  Elder, Steve   \n",
       "\n",
       "                    email          Number  Zipcode  Acreage  SupDist  ParkID  \\\n",
       "0                   email          Number      NaN      NaN      NaN     NaN   \n",
       "1  steven.elder@sfgov.org  (415) 601-6501  94118.0     0.66      1.0   156.0   \n",
       "2  steven.elder@sfgov.org  (415) 601-6501  94118.0     0.66      1.0   156.0   \n",
       "3  steven.elder@sfgov.org  (415) 601-6501  94118.0     0.66      1.0   156.0   \n",
       "4  steven.elder@sfgov.org  (415) 601-6501  94118.0     0.66      1.0   156.0   \n",
       "\n",
       "                                          Location 1  Lat   PSA  \\\n",
       "0                                                NaN  NaN   NaN   \n",
       "1  351 9th Ave\\nSan Francisco, CA\\n(37.78184397, ...  NaN  PSA1   \n",
       "2  351 9th Ave\\nSan Francisco, CA\\n(37.78184397, ...  NaN  PSA1   \n",
       "3  351 9th Ave\\nSan Francisco, CA\\n(37.78184397, ...  NaN  PSA1   \n",
       "4  351 9th Ave\\nSan Francisco, CA\\n(37.78184397, ...  NaN  PSA1   \n",
       "\n",
       "                            Park      FQ  Score  \n",
       "0                            NaN     NaN    NaN  \n",
       "1  10th Avenue-Clement Mini Park  FY05Q4  0.655  \n",
       "2  10th Avenue-Clement Mini Park  FY06Q2  0.854  \n",
       "3  10th Avenue-Clement Mini Park  FY06Q4  0.673  \n",
       "4  10th Avenue-Clement Mini Park  FY07Q2  0.378  "
      ]
     },
     "execution_count": 28,
     "metadata": {},
     "output_type": "execute_result"
    }
   ],
   "source": [
    "parks.head()"
   ]
  },
  {
   "cell_type": "code",
   "execution_count": 29,
   "metadata": {
    "collapsed": false
   },
   "outputs": [],
   "source": [
    "park_average = parks.groupby('ParkName',as_index=False).mean()\n",
    "park_ave = park_average.drop(['Lat'], axis=1)"
   ]
  },
  {
   "cell_type": "code",
   "execution_count": 30,
   "metadata": {
    "collapsed": false
   },
   "outputs": [
    {
     "data": {
      "text/html": [
       "<div>\n",
       "<table border=\"1\" class=\"dataframe\">\n",
       "  <thead>\n",
       "    <tr style=\"text-align: right;\">\n",
       "      <th></th>\n",
       "      <th>ParkName</th>\n",
       "      <th>Zipcode</th>\n",
       "      <th>Acreage</th>\n",
       "      <th>SupDist</th>\n",
       "      <th>ParkID</th>\n",
       "      <th>Score</th>\n",
       "    </tr>\n",
       "  </thead>\n",
       "  <tbody>\n",
       "    <tr>\n",
       "      <th>0</th>\n",
       "      <td>10TH AVE/CLEMENT MINI PARK</td>\n",
       "      <td>94118.0</td>\n",
       "      <td>0.66</td>\n",
       "      <td>1.0</td>\n",
       "      <td>156.0</td>\n",
       "      <td>0.910440</td>\n",
       "    </tr>\n",
       "    <tr>\n",
       "      <th>1</th>\n",
       "      <td>15TH AVENUE STEPS</td>\n",
       "      <td>94122.0</td>\n",
       "      <td>0.26</td>\n",
       "      <td>7.0</td>\n",
       "      <td>185.0</td>\n",
       "      <td>NaN</td>\n",
       "    </tr>\n",
       "    <tr>\n",
       "      <th>2</th>\n",
       "      <td>24TH/YORK MINI PARK</td>\n",
       "      <td>94110.0</td>\n",
       "      <td>0.12</td>\n",
       "      <td>9.0</td>\n",
       "      <td>51.0</td>\n",
       "      <td>0.978033</td>\n",
       "    </tr>\n",
       "    <tr>\n",
       "      <th>3</th>\n",
       "      <td>29TH/DIAMOND OPEN SPACE</td>\n",
       "      <td>94131.0</td>\n",
       "      <td>0.82</td>\n",
       "      <td>8.0</td>\n",
       "      <td>194.0</td>\n",
       "      <td>0.896750</td>\n",
       "    </tr>\n",
       "    <tr>\n",
       "      <th>4</th>\n",
       "      <td>ADAM ROGERS PARK</td>\n",
       "      <td>94124.0</td>\n",
       "      <td>2.74</td>\n",
       "      <td>10.0</td>\n",
       "      <td>46.0</td>\n",
       "      <td>0.807344</td>\n",
       "    </tr>\n",
       "  </tbody>\n",
       "</table>\n",
       "</div>"
      ],
      "text/plain": [
       "                     ParkName  Zipcode  Acreage  SupDist  ParkID     Score\n",
       "0  10TH AVE/CLEMENT MINI PARK  94118.0     0.66      1.0   156.0  0.910440\n",
       "1           15TH AVENUE STEPS  94122.0     0.26      7.0   185.0       NaN\n",
       "2         24TH/YORK MINI PARK  94110.0     0.12      9.0    51.0  0.978033\n",
       "3     29TH/DIAMOND OPEN SPACE  94131.0     0.82      8.0   194.0  0.896750\n",
       "4            ADAM ROGERS PARK  94124.0     2.74     10.0    46.0  0.807344"
      ]
     },
     "execution_count": 30,
     "metadata": {},
     "output_type": "execute_result"
    }
   ],
   "source": [
    "park_ave.dropna(axis=1)\n",
    "park_ave.head()"
   ]
  },
  {
   "cell_type": "code",
   "execution_count": 31,
   "metadata": {
    "collapsed": false,
    "scrolled": true
   },
   "outputs": [
    {
     "data": {
      "text/html": [
       "<div>\n",
       "<table border=\"1\" class=\"dataframe\">\n",
       "  <thead>\n",
       "    <tr style=\"text-align: right;\">\n",
       "      <th></th>\n",
       "      <th>ParkName</th>\n",
       "      <th>Zipcode</th>\n",
       "      <th>Acreage</th>\n",
       "      <th>SupDist</th>\n",
       "      <th>ParkID</th>\n",
       "      <th>Score</th>\n",
       "    </tr>\n",
       "  </thead>\n",
       "  <tbody>\n",
       "    <tr>\n",
       "      <th>0</th>\n",
       "      <td>10TH AVE/CLEMENT MINI PARK</td>\n",
       "      <td>94118.0</td>\n",
       "      <td>0.66</td>\n",
       "      <td>1.0</td>\n",
       "      <td>156.0</td>\n",
       "      <td>0.910440</td>\n",
       "    </tr>\n",
       "    <tr>\n",
       "      <th>2</th>\n",
       "      <td>24TH/YORK MINI PARK</td>\n",
       "      <td>94110.0</td>\n",
       "      <td>0.12</td>\n",
       "      <td>9.0</td>\n",
       "      <td>51.0</td>\n",
       "      <td>0.978033</td>\n",
       "    </tr>\n",
       "    <tr>\n",
       "      <th>3</th>\n",
       "      <td>29TH/DIAMOND OPEN SPACE</td>\n",
       "      <td>94131.0</td>\n",
       "      <td>0.82</td>\n",
       "      <td>8.0</td>\n",
       "      <td>194.0</td>\n",
       "      <td>0.896750</td>\n",
       "    </tr>\n",
       "    <tr>\n",
       "      <th>4</th>\n",
       "      <td>ADAM ROGERS PARK</td>\n",
       "      <td>94124.0</td>\n",
       "      <td>2.74</td>\n",
       "      <td>10.0</td>\n",
       "      <td>46.0</td>\n",
       "      <td>0.807344</td>\n",
       "    </tr>\n",
       "    <tr>\n",
       "      <th>5</th>\n",
       "      <td>ALAMO SQUARE</td>\n",
       "      <td>94117.0</td>\n",
       "      <td>12.70</td>\n",
       "      <td>5.0</td>\n",
       "      <td>117.0</td>\n",
       "      <td>0.896548</td>\n",
       "    </tr>\n",
       "    <tr>\n",
       "      <th>6</th>\n",
       "      <td>ALICE CHALMERS PLAYGROUND</td>\n",
       "      <td>94112.0</td>\n",
       "      <td>1.68</td>\n",
       "      <td>11.0</td>\n",
       "      <td>25.0</td>\n",
       "      <td>0.898375</td>\n",
       "    </tr>\n",
       "    <tr>\n",
       "      <th>7</th>\n",
       "      <td>ALICE MARBLE TENNIS COURTS</td>\n",
       "      <td>94109.0</td>\n",
       "      <td>0.84</td>\n",
       "      <td>2.0</td>\n",
       "      <td>151.0</td>\n",
       "      <td>0.988903</td>\n",
       "    </tr>\n",
       "    <tr>\n",
       "      <th>8</th>\n",
       "      <td>ALIOTO MINI PARK</td>\n",
       "      <td>94110.0</td>\n",
       "      <td>0.16</td>\n",
       "      <td>9.0</td>\n",
       "      <td>62.0</td>\n",
       "      <td>0.924276</td>\n",
       "    </tr>\n",
       "    <tr>\n",
       "      <th>9</th>\n",
       "      <td>ALLYNE PARK</td>\n",
       "      <td>94123.0</td>\n",
       "      <td>0.75</td>\n",
       "      <td>2.0</td>\n",
       "      <td>131.0</td>\n",
       "      <td>0.947469</td>\n",
       "    </tr>\n",
       "    <tr>\n",
       "      <th>10</th>\n",
       "      <td>ALTA PLAZA</td>\n",
       "      <td>94115.0</td>\n",
       "      <td>11.91</td>\n",
       "      <td>2.0</td>\n",
       "      <td>129.0</td>\n",
       "      <td>0.934778</td>\n",
       "    </tr>\n",
       "    <tr>\n",
       "      <th>11</th>\n",
       "      <td>ANGELO J. ROSSI PLAYGROUND</td>\n",
       "      <td>94118.0</td>\n",
       "      <td>6.47</td>\n",
       "      <td>1.0</td>\n",
       "      <td>105.0</td>\n",
       "      <td>0.915531</td>\n",
       "    </tr>\n",
       "    <tr>\n",
       "      <th>12</th>\n",
       "      <td>APTOS PLAYGROUND</td>\n",
       "      <td>94127.0</td>\n",
       "      <td>4.81</td>\n",
       "      <td>7.0</td>\n",
       "      <td>65.0</td>\n",
       "      <td>0.928161</td>\n",
       "    </tr>\n",
       "    <tr>\n",
       "      <th>13</th>\n",
       "      <td>ARGONNE PLAYGROUND</td>\n",
       "      <td>94121.0</td>\n",
       "      <td>0.82</td>\n",
       "      <td>1.0</td>\n",
       "      <td>97.0</td>\n",
       "      <td>0.937828</td>\n",
       "    </tr>\n",
       "    <tr>\n",
       "      <th>17</th>\n",
       "      <td>BALBOA PARK</td>\n",
       "      <td>94112.0</td>\n",
       "      <td>24.02</td>\n",
       "      <td>11.0</td>\n",
       "      <td>66.0</td>\n",
       "      <td>0.887700</td>\n",
       "    </tr>\n",
       "    <tr>\n",
       "      <th>19</th>\n",
       "      <td>BAY VIEW PLAYGROUND</td>\n",
       "      <td>94124.0</td>\n",
       "      <td>3.40</td>\n",
       "      <td>10.0</td>\n",
       "      <td>38.0</td>\n",
       "      <td>0.843562</td>\n",
       "    </tr>\n",
       "    <tr>\n",
       "      <th>20</th>\n",
       "      <td>BEIDEMAN/O'FARRELL MINI PARK</td>\n",
       "      <td>94115.0</td>\n",
       "      <td>0.06</td>\n",
       "      <td>5.0</td>\n",
       "      <td>106.0</td>\n",
       "      <td>0.907767</td>\n",
       "    </tr>\n",
       "    <tr>\n",
       "      <th>21</th>\n",
       "      <td>BERKELEY WAY OPEN SPACE</td>\n",
       "      <td>94131.0</td>\n",
       "      <td>0.83</td>\n",
       "      <td>8.0</td>\n",
       "      <td>2.0</td>\n",
       "      <td>1.000000</td>\n",
       "    </tr>\n",
       "    <tr>\n",
       "      <th>23</th>\n",
       "      <td>BERNAL HEIGHTS RECREATION CENTER</td>\n",
       "      <td>94110.0</td>\n",
       "      <td>0.74</td>\n",
       "      <td>9.0</td>\n",
       "      <td>33.0</td>\n",
       "      <td>0.939903</td>\n",
       "    </tr>\n",
       "    <tr>\n",
       "      <th>25</th>\n",
       "      <td>BROADWAY TUNNEL EAST MINI PARK</td>\n",
       "      <td>94133.0</td>\n",
       "      <td>0.03</td>\n",
       "      <td>3.0</td>\n",
       "      <td>204.0</td>\n",
       "      <td>0.513800</td>\n",
       "    </tr>\n",
       "    <tr>\n",
       "      <th>26</th>\n",
       "      <td>BROADWAY TUNNEL WEST MINI PARK</td>\n",
       "      <td>94109.0</td>\n",
       "      <td>0.12</td>\n",
       "      <td>3.0</td>\n",
       "      <td>203.0</td>\n",
       "      <td>0.890484</td>\n",
       "    </tr>\n",
       "  </tbody>\n",
       "</table>\n",
       "</div>"
      ],
      "text/plain": [
       "                            ParkName  Zipcode  Acreage  SupDist  ParkID  \\\n",
       "0         10TH AVE/CLEMENT MINI PARK  94118.0     0.66      1.0   156.0   \n",
       "2                24TH/YORK MINI PARK  94110.0     0.12      9.0    51.0   \n",
       "3            29TH/DIAMOND OPEN SPACE  94131.0     0.82      8.0   194.0   \n",
       "4                   ADAM ROGERS PARK  94124.0     2.74     10.0    46.0   \n",
       "5                       ALAMO SQUARE  94117.0    12.70      5.0   117.0   \n",
       "6          ALICE CHALMERS PLAYGROUND  94112.0     1.68     11.0    25.0   \n",
       "7         ALICE MARBLE TENNIS COURTS  94109.0     0.84      2.0   151.0   \n",
       "8                   ALIOTO MINI PARK  94110.0     0.16      9.0    62.0   \n",
       "9                        ALLYNE PARK  94123.0     0.75      2.0   131.0   \n",
       "10                        ALTA PLAZA  94115.0    11.91      2.0   129.0   \n",
       "11        ANGELO J. ROSSI PLAYGROUND  94118.0     6.47      1.0   105.0   \n",
       "12                  APTOS PLAYGROUND  94127.0     4.81      7.0    65.0   \n",
       "13                ARGONNE PLAYGROUND  94121.0     0.82      1.0    97.0   \n",
       "17                       BALBOA PARK  94112.0    24.02     11.0    66.0   \n",
       "19               BAY VIEW PLAYGROUND  94124.0     3.40     10.0    38.0   \n",
       "20      BEIDEMAN/O'FARRELL MINI PARK  94115.0     0.06      5.0   106.0   \n",
       "21           BERKELEY WAY OPEN SPACE  94131.0     0.83      8.0     2.0   \n",
       "23  BERNAL HEIGHTS RECREATION CENTER  94110.0     0.74      9.0    33.0   \n",
       "25    BROADWAY TUNNEL EAST MINI PARK  94133.0     0.03      3.0   204.0   \n",
       "26    BROADWAY TUNNEL WEST MINI PARK  94109.0     0.12      3.0   203.0   \n",
       "\n",
       "       Score  \n",
       "0   0.910440  \n",
       "2   0.978033  \n",
       "3   0.896750  \n",
       "4   0.807344  \n",
       "5   0.896548  \n",
       "6   0.898375  \n",
       "7   0.988903  \n",
       "8   0.924276  \n",
       "9   0.947469  \n",
       "10  0.934778  \n",
       "11  0.915531  \n",
       "12  0.928161  \n",
       "13  0.937828  \n",
       "17  0.887700  \n",
       "19  0.843562  \n",
       "20  0.907767  \n",
       "21  1.000000  \n",
       "23  0.939903  \n",
       "25  0.513800  \n",
       "26  0.890484  "
      ]
     },
     "execution_count": 31,
     "metadata": {},
     "output_type": "execute_result"
    }
   ],
   "source": [
    "park_ave = park_ave.dropna(subset=['Acreage', 'Score'])\n",
    "park_ave.head(20)"
   ]
  },
  {
   "cell_type": "code",
   "execution_count": 32,
   "metadata": {
    "collapsed": false
   },
   "outputs": [
    {
     "data": {
      "text/plain": [
       "0"
      ]
     },
     "execution_count": 32,
     "metadata": {},
     "output_type": "execute_result"
    }
   ],
   "source": [
    "park_ave.Score.isnull().sum()"
   ]
  },
  {
   "cell_type": "code",
   "execution_count": 33,
   "metadata": {
    "collapsed": false
   },
   "outputs": [
    {
     "name": "stdout",
     "output_type": "stream",
     "text": [
      "1031.98\n",
      "0.0\n",
      "16.4068852459\n",
      "(183,)\n"
     ]
    }
   ],
   "source": [
    "print park_ave.Acreage.max()\n",
    "print park_ave.Acreage.min()\n",
    "print park_ave.Acreage.mean()\n",
    "print park_ave.Acreage.shape\n",
    "# Need to get rid of outliers"
   ]
  },
  {
   "cell_type": "code",
   "execution_count": 34,
   "metadata": {
    "collapsed": false
   },
   "outputs": [
    {
     "name": "stdout",
     "output_type": "stream",
     "text": [
      "36.08\n",
      "0.0\n",
      "3.64125\n",
      "(176,)\n"
     ]
    }
   ],
   "source": [
    "sub_park = park_ave[park_ave['Acreage'] < 50]\n",
    "print sub_park.Acreage.max()\n",
    "print sub_park.Acreage.min()\n",
    "print sub_park.Acreage.mean()\n",
    "print sub_park.Acreage.shape\n",
    "\n",
    "# The mask allowed me to get rid of outliers at the cost of 7 points in my data. "
   ]
  },
  {
   "cell_type": "code",
   "execution_count": 35,
   "metadata": {
    "collapsed": true
   },
   "outputs": [],
   "source": [
    "from sklearn.cross_validation import cross_val_score, cross_val_predict\n",
    "from sklearn import metrics"
   ]
  },
  {
   "cell_type": "markdown",
   "metadata": {},
   "source": [
    "# Hypothesis: for each park the average Acreage is a good predictor on average score.\n",
    "\n",
    "I will test my hypothesis using a 6-fold cross validation on a Linear Regression model."
   ]
  },
  {
   "cell_type": "code",
   "execution_count": 37,
   "metadata": {
    "collapsed": false
   },
   "outputs": [
    {
     "name": "stdout",
     "output_type": "stream",
     "text": [
      "Cross-validated scores: [-0.0029249   0.00022769 -0.05986724 -0.02356209 -0.16646877 -0.03013974]\n",
      "Cross-Predicted Accuracy: -0.0128429436511\n"
     ]
    },
    {
     "data": {
      "image/png": "[encoded data removed]",
      "text/plain": [
       "<matplotlib.figure.Figure at 0x117466e10>"
      ]
     },
     "metadata": {},
     "output_type": "display_data"
    }
   ],
   "source": [
    "formula  =  \"Score ~ Acreage\"\n",
    "y, X     =  patsy.dmatrices(formula, data=sub_park, return_type=\"dataframe\")\n",
    "\n",
    "\n",
    "lm = LinearRegression()\n",
    "\n",
    "\n",
    "# Perform 6-fold cross validation\n",
    "scores = cross_val_score(lm, X, y, cv=6)\n",
    "print \"Cross-validated scores:\", scores\n",
    "\n",
    "# Make cross validated predictions\n",
    "predictions = cross_val_predict(lm, X, y, cv=6)\n",
    "plt.scatter(y, predictions)\n",
    "\n",
    "accuracy = metrics.r2_score(y, predictions)\n",
    "print \"Cross-Predicted Accuracy:\", accuracy"
   ]
  },
  {
   "cell_type": "markdown",
   "metadata": {},
   "source": [
    "# Conclusion: Based on my negative cross-predicted accuracy the predictor variable is not enough to infer on my score."
   ]
  },
  {
   "cell_type": "markdown",
   "metadata": {},
   "source": [
    "<img src=\"http://imgur.com/xDpSobf.png\" style=\"float: left; margin: 25px 15px 0px 0px; height: 25px\">\n",
    "\n",
    "### 4.2 Ploting GridSearch with Lasso, Ridge, or Elasticnet\n",
    "---\n",
    "1. Using the gridsearch results, plot your score in relation to your parameters.\n",
    "1. Plot the effect on your coefficients given alpha.\n",
    "1. Plot any other parameter change to visualize the impact of any other hyperparameter.\n",
    "\n",
    "It's helpful to understand the impact of parameters used in Gridsearch, and that you are comfortable working with the data that is generated for reporting to explore the results visually."
   ]
  },
  {
   "cell_type": "code",
   "execution_count": null,
   "metadata": {
    "collapsed": true
   },
   "outputs": [],
   "source": []
  },
  {
   "cell_type": "markdown",
   "metadata": {},
   "source": [
    "<img src=\"http://imgur.com/GCAf1UX.png\" style=\"float: left; margin: 25px 15px 0px 0px; height: 25px\">\n",
    "\n",
    "## 5. Bias-variance tradeoff\n",
    "\n",
    "---\n",
    "\n",
    "1. Select San Francisco data of your choice and construct a regularized regression model (this can be data from an earlier analysis if you like). Ideally the model should actually improve across regularization strengths...\n",
    "- Gridsearch the regularization parameters to find the optimal.\n",
    "- Plot the regularization parameter against the cross-validated $R^2$.\n",
    "- Explain how regularization and regularization strength is related to the bias-variance tradeoff.\n"
   ]
  },
  {
   "cell_type": "code",
   "execution_count": null,
   "metadata": {
    "collapsed": true
   },
   "outputs": [],
   "source": []
  },
  {
   "cell_type": "markdown",
   "metadata": {},
   "source": [
    "<img src=\"http://imgur.com/xDpSobf.png\" style=\"float: left; margin: 25px 15px 0px 0px; height: 25px\">\n",
    "\n",
    "### 5.1 Calculate the approximated $\\text{bias}^2$ and variance across regularization strengths.\n",
    "\n",
    "---\n",
    "\n",
    "You can obviously use my code from the bias-variance lab to do this. \n",
    "\n",
    "Plot the bias and variance change _with_ the cross-validated $R^2$. \n",
    "\n",
    "You'll need to scale these values somehow to put them on the same chart (I recommend (MinMaxScaler)[http://scikit-learn.org/stable/modules/generated/sklearn.preprocessing.MinMaxScaler.html] to put $\\text{bias}^2$ and variance on the same scale as cross-validated $R^2$."
   ]
  },
  {
   "cell_type": "code",
   "execution_count": null,
   "metadata": {
    "collapsed": true
   },
   "outputs": [],
   "source": []
  },
  {
   "cell_type": "markdown",
   "metadata": {},
   "source": [
    "<img src=\"http://imgur.com/HNPKfE8.png\" style=\"float: left; margin: 25px 15px 0px 0px; height: 25px\">\n",
    "\n",
    "## 6. Custom regularized regression penalties\n",
    "\n",
    "---\n",
    "\n",
    "The $\\lambda1$ and $\\lambda2$ norm regularization penalties (Lasso and Ridge) are the most commonly used regularization penalties. They have a solid foundation in statistics and evidence of effectiveness. However, these are not the only possible penalties for regression – sometimes new, customized penalties give additional performance and predictive power to models depending on the context.\n",
    "\n",
    "For example, when I worked in neuroscience [we created an effective penalized regression dubbed \"GraphNet\"](http://arxiv.org/abs/1110.4139) that combined the Lasso and Ridge penalties like in Elastic net with a third penalty that rewarded clustering of coefficients according to physical distance in FMRI brain activation data.\n",
    "\n",
    "**Devise of and implement a penalized regression for San Francisco data.** What is your rationale – why would this be useful? How does it perform compared to the standard Ridge, Lasso, and Elastic Net penalties?"
   ]
  },
  {
   "cell_type": "code",
   "execution_count": null,
   "metadata": {
    "collapsed": true
   },
   "outputs": [],
   "source": []
  }
 ],
 "metadata": {
  "anaconda-cloud": {},
  "kernelspec": {
   "display_name": "Python [dsi]",
   "language": "python",
   "name": "Python [dsi]"
  },
  "language_info": {
   "codemirror_mode": {
    "name": "ipython",
    "version": 2
   },
   "file_extension": ".py",
   "mimetype": "text/x-python",
   "name": "python",
   "nbconvert_exporter": "python",
   "pygments_lexer": "ipython2",
   "version": "2.7.12"
  }
 },
 "nbformat": 4,
 "nbformat_minor": 0
}
